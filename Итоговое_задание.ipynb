{
  "cells": [
    {
      "cell_type": "markdown",
      "metadata": {
        "id": "view-in-github",
        "colab_type": "text"
      },
      "source": [
        "<a href=\"https://colab.research.google.com/github/AlekseiChumachenko/diploma_dsu_34/blob/main/%D0%98%D1%82%D0%BE%D0%B3%D0%BE%D0%B2%D0%BE%D0%B5_%D0%B7%D0%B0%D0%B4%D0%B0%D0%BD%D0%B8%D0%B5.ipynb\" target=\"_parent\"><img src=\"https://colab.research.google.com/assets/colab-badge.svg\" alt=\"Open In Colab\"/></a>"
      ]
    },
    {
      "cell_type": "markdown",
      "metadata": {
        "id": "vOwO4Xc0pz_p"
      },
      "source": [
        "Импортируем датасет для обучения модели"
      ]
    },
    {
      "cell_type": "code",
      "execution_count": null,
      "metadata": {
        "colab": {
          "base_uri": "https://localhost:8080/"
        },
        "id": "dICb1YjCBH8a",
        "outputId": "11af05c0-dc73-492e-8c3f-b818cd43ecc2"
      },
      "outputs": [
        {
          "output_type": "stream",
          "name": "stdout",
          "text": [
            "--2024-04-09 17:38:52--  https://pilehvar.github.io/wic/package/WiC_dataset.zip\n",
            "Resolving pilehvar.github.io (pilehvar.github.io)... 185.199.108.153, 185.199.109.153, 185.199.110.153, ...\n",
            "Connecting to pilehvar.github.io (pilehvar.github.io)|185.199.108.153|:443... connected.\n",
            "HTTP request sent, awaiting response... 200 OK\n",
            "Length: 275984 (270K) [application/zip]\n",
            "Saving to: ‘WiC_dataset.zip’\n",
            "\n",
            "WiC_dataset.zip     100%[===================>] 269.52K  --.-KB/s    in 0.01s   \n",
            "\n",
            "2024-04-09 17:38:53 (22.7 MB/s) - ‘WiC_dataset.zip’ saved [275984/275984]\n",
            "\n"
          ]
        }
      ],
      "source": [
        "!wget https://pilehvar.github.io/wic/package/WiC_dataset.zip"
      ]
    },
    {
      "cell_type": "code",
      "execution_count": null,
      "metadata": {
        "colab": {
          "base_uri": "https://localhost:8080/"
        },
        "id": "_8xhw17tmb0D",
        "outputId": "51095168-a4f5-4cc9-9503-7396b4ad204f"
      },
      "outputs": [
        {
          "output_type": "stream",
          "name": "stdout",
          "text": [
            "Archive:  WiC_dataset.zip\n",
            "   creating: dev/\n",
            "  inflating: dev/dev.data.txt        \n",
            "  inflating: dev/dev.gold.txt        \n",
            "   creating: test/\n",
            "  inflating: test/test.gold.txt      \n",
            "  inflating: test/test.data.txt      \n",
            "   creating: train/\n",
            "  inflating: train/train.data.txt    \n",
            "  inflating: train/train.gold.txt    \n",
            "  inflating: README.txt              \n"
          ]
        }
      ],
      "source": [
        "!unzip WiC_dataset.zip"
      ]
    },
    {
      "cell_type": "code",
      "execution_count": null,
      "metadata": {
        "id": "aZYOD---mpKh"
      },
      "outputs": [],
      "source": [
        "with open('/content/train/train.data.txt', \"r\") as train_data:\n",
        "  train_dataset = train_data.readlines()"
      ]
    },
    {
      "cell_type": "code",
      "execution_count": null,
      "metadata": {
        "id": "-Q7oXqrCouwk"
      },
      "outputs": [],
      "source": [
        "with open('/content/train/train.gold.txt', \"r\") as train_lb:\n",
        "  train_labels = train_lb.readlines()"
      ]
    },
    {
      "cell_type": "code",
      "execution_count": null,
      "metadata": {
        "id": "d9MOXj9m3qWo"
      },
      "outputs": [],
      "source": [
        "with open('/content/test/test.data.txt', \"r\") as test_data:\n",
        "  test_dataset = test_data.readlines()"
      ]
    },
    {
      "cell_type": "code",
      "execution_count": null,
      "metadata": {
        "id": "pe9ku__g3orb"
      },
      "outputs": [],
      "source": [
        "with open('/content/test/test.gold.txt', \"r\") as test_lb:\n",
        "  test_labels = test_lb.readlines()"
      ]
    },
    {
      "cell_type": "code",
      "execution_count": null,
      "metadata": {
        "colab": {
          "base_uri": "https://localhost:8080/",
          "height": 35
        },
        "id": "IMPVQyxbpY9x",
        "outputId": "753f2d82-bc5c-4306-c4c1-3443c9337666"
      },
      "outputs": [
        {
          "data": {
            "application/vnd.google.colaboratory.intrinsic+json": {
              "type": "string"
            },
            "text/plain": [
              "'carry\\tV\\t2-1\\tYou must carry your camping gear .\\tSound carries well over water .\\n'"
            ]
          },
          "execution_count": 5,
          "metadata": {},
          "output_type": "execute_result"
        }
      ],
      "source": [
        "train_dataset[0]"
      ]
    },
    {
      "cell_type": "code",
      "execution_count": null,
      "metadata": {
        "colab": {
          "base_uri": "https://localhost:8080/",
          "height": 35
        },
        "id": "1C2qkhtBpetB",
        "outputId": "fe3dab89-1768-420b-9862-7d73fbb4934c"
      },
      "outputs": [
        {
          "output_type": "execute_result",
          "data": {
            "text/plain": [
              "'F'"
            ],
            "application/vnd.google.colaboratory.intrinsic+json": {
              "type": "string"
            }
          },
          "metadata": {},
          "execution_count": 9
        }
      ],
      "source": [
        "train_labels[0][0]"
      ]
    },
    {
      "cell_type": "markdown",
      "metadata": {
        "id": "REAuHKdUp4Dc"
      },
      "source": [
        "Импортируем энкодер"
      ]
    },
    {
      "cell_type": "code",
      "execution_count": null,
      "metadata": {
        "colab": {
          "base_uri": "https://localhost:8080/"
        },
        "id": "u8zV_hKO0TIt",
        "outputId": "9469de44-a37c-4901-a30a-873dea855e33"
      },
      "outputs": [
        {
          "output_type": "stream",
          "name": "stdout",
          "text": [
            "Cloning into 'xl-lexeme'...\n",
            "remote: Enumerating objects: 244, done.\u001b[K\n",
            "remote: Counting objects: 100% (75/75), done.\u001b[K\n",
            "remote: Compressing objects: 100% (51/51), done.\u001b[K\n",
            "remote: Total 244 (delta 34), reused 49 (delta 19), pack-reused 169\u001b[K\n",
            "Receiving objects: 100% (244/244), 128.60 MiB | 16.39 MiB/s, done.\n",
            "Resolving deltas: 100% (141/141), done.\n"
          ]
        }
      ],
      "source": [
        "!git clone https://github.com/pierluigic/xl-lexeme.git"
      ]
    },
    {
      "cell_type": "markdown",
      "source": [
        "Импортируем все необходимые библиотеки"
      ],
      "metadata": {
        "id": "83za-UbzNaTk"
      }
    },
    {
      "cell_type": "code",
      "execution_count": null,
      "metadata": {
        "id": "OZ9ceT75M2Vp"
      },
      "outputs": [],
      "source": [
        "import os\n",
        "import math\n",
        "from scipy.spatial import distance\n",
        "import numpy as np\n",
        "import torch\n",
        "import torch.nn as nn\n",
        "import time\n",
        "import pickle\n",
        "from tqdm import tqdm\n",
        "from sklearn.metrics import accuracy_score\n",
        "from scipy.stats import spearmanr\n",
        "import matplotlib.pyplot as plt\n",
        "import json\n",
        "import glob\n",
        "import re"
      ]
    },
    {
      "cell_type": "code",
      "execution_count": null,
      "metadata": {
        "colab": {
          "base_uri": "https://localhost:8080/"
        },
        "id": "NsoFyV2k8Utb",
        "outputId": "b385e65a-fa8d-4052-fed0-c6e5a4da988e"
      },
      "outputs": [
        {
          "output_type": "stream",
          "name": "stdout",
          "text": [
            "Collecting sentence-transformers==2.2.2\n",
            "  Downloading sentence-transformers-2.2.2.tar.gz (85 kB)\n",
            "\u001b[2K     \u001b[90m━━━━━━━━━━━━━━━━━━━━━━━━━━━━━━━━━━━━━━━━\u001b[0m \u001b[32m86.0/86.0 kB\u001b[0m \u001b[31m980.7 kB/s\u001b[0m eta \u001b[36m0:00:00\u001b[0m\n",
            "\u001b[?25h  Preparing metadata (setup.py) ... \u001b[?25l\u001b[?25hdone\n",
            "Requirement already satisfied: transformers<5.0.0,>=4.6.0 in /usr/local/lib/python3.10/dist-packages (from sentence-transformers==2.2.2) (4.38.2)\n",
            "Requirement already satisfied: tqdm in /usr/local/lib/python3.10/dist-packages (from sentence-transformers==2.2.2) (4.66.2)\n",
            "Requirement already satisfied: torch>=1.6.0 in /usr/local/lib/python3.10/dist-packages (from sentence-transformers==2.2.2) (2.2.1+cu121)\n",
            "Requirement already satisfied: torchvision in /usr/local/lib/python3.10/dist-packages (from sentence-transformers==2.2.2) (0.17.1+cu121)\n",
            "Requirement already satisfied: numpy in /usr/local/lib/python3.10/dist-packages (from sentence-transformers==2.2.2) (1.25.2)\n",
            "Requirement already satisfied: scikit-learn in /usr/local/lib/python3.10/dist-packages (from sentence-transformers==2.2.2) (1.2.2)\n",
            "Requirement already satisfied: scipy in /usr/local/lib/python3.10/dist-packages (from sentence-transformers==2.2.2) (1.11.4)\n",
            "Requirement already satisfied: nltk in /usr/local/lib/python3.10/dist-packages (from sentence-transformers==2.2.2) (3.8.1)\n",
            "Requirement already satisfied: sentencepiece in /usr/local/lib/python3.10/dist-packages (from sentence-transformers==2.2.2) (0.1.99)\n",
            "Requirement already satisfied: huggingface-hub>=0.4.0 in /usr/local/lib/python3.10/dist-packages (from sentence-transformers==2.2.2) (0.20.3)\n",
            "Requirement already satisfied: filelock in /usr/local/lib/python3.10/dist-packages (from huggingface-hub>=0.4.0->sentence-transformers==2.2.2) (3.13.3)\n",
            "Requirement already satisfied: fsspec>=2023.5.0 in /usr/local/lib/python3.10/dist-packages (from huggingface-hub>=0.4.0->sentence-transformers==2.2.2) (2023.6.0)\n",
            "Requirement already satisfied: requests in /usr/local/lib/python3.10/dist-packages (from huggingface-hub>=0.4.0->sentence-transformers==2.2.2) (2.31.0)\n",
            "Requirement already satisfied: pyyaml>=5.1 in /usr/local/lib/python3.10/dist-packages (from huggingface-hub>=0.4.0->sentence-transformers==2.2.2) (6.0.1)\n",
            "Requirement already satisfied: typing-extensions>=3.7.4.3 in /usr/local/lib/python3.10/dist-packages (from huggingface-hub>=0.4.0->sentence-transformers==2.2.2) (4.10.0)\n",
            "Requirement already satisfied: packaging>=20.9 in /usr/local/lib/python3.10/dist-packages (from huggingface-hub>=0.4.0->sentence-transformers==2.2.2) (24.0)\n",
            "Requirement already satisfied: sympy in /usr/local/lib/python3.10/dist-packages (from torch>=1.6.0->sentence-transformers==2.2.2) (1.12)\n",
            "Requirement already satisfied: networkx in /usr/local/lib/python3.10/dist-packages (from torch>=1.6.0->sentence-transformers==2.2.2) (3.2.1)\n",
            "Requirement already satisfied: jinja2 in /usr/local/lib/python3.10/dist-packages (from torch>=1.6.0->sentence-transformers==2.2.2) (3.1.3)\n",
            "Collecting nvidia-cuda-nvrtc-cu12==12.1.105 (from torch>=1.6.0->sentence-transformers==2.2.2)\n",
            "  Downloading nvidia_cuda_nvrtc_cu12-12.1.105-py3-none-manylinux1_x86_64.whl (23.7 MB)\n",
            "\u001b[2K     \u001b[90m━━━━━━━━━━━━━━━━━━━━━━━━━━━━━━━━━━━━━━━━\u001b[0m \u001b[32m23.7/23.7 MB\u001b[0m \u001b[31m16.2 MB/s\u001b[0m eta \u001b[36m0:00:00\u001b[0m\n",
            "\u001b[?25hCollecting nvidia-cuda-runtime-cu12==12.1.105 (from torch>=1.6.0->sentence-transformers==2.2.2)\n",
            "  Downloading nvidia_cuda_runtime_cu12-12.1.105-py3-none-manylinux1_x86_64.whl (823 kB)\n",
            "\u001b[2K     \u001b[90m━━━━━━━━━━━━━━━━━━━━━━━━━━━━━━━━━━━━━━━━\u001b[0m \u001b[32m823.6/823.6 kB\u001b[0m \u001b[31m19.1 MB/s\u001b[0m eta \u001b[36m0:00:00\u001b[0m\n",
            "\u001b[?25hCollecting nvidia-cuda-cupti-cu12==12.1.105 (from torch>=1.6.0->sentence-transformers==2.2.2)\n",
            "  Downloading nvidia_cuda_cupti_cu12-12.1.105-py3-none-manylinux1_x86_64.whl (14.1 MB)\n",
            "\u001b[2K     \u001b[90m━━━━━━━━━━━━━━━━━━━━━━━━━━━━━━━━━━━━━━━━\u001b[0m \u001b[32m14.1/14.1 MB\u001b[0m \u001b[31m20.5 MB/s\u001b[0m eta \u001b[36m0:00:00\u001b[0m\n",
            "\u001b[?25hCollecting nvidia-cudnn-cu12==8.9.2.26 (from torch>=1.6.0->sentence-transformers==2.2.2)\n",
            "  Downloading nvidia_cudnn_cu12-8.9.2.26-py3-none-manylinux1_x86_64.whl (731.7 MB)\n",
            "\u001b[2K     \u001b[90m━━━━━━━━━━━━━━━━━━━━━━━━━━━━━━━━━━━━━━━━\u001b[0m \u001b[32m731.7/731.7 MB\u001b[0m \u001b[31m1.1 MB/s\u001b[0m eta \u001b[36m0:00:00\u001b[0m\n",
            "\u001b[?25hCollecting nvidia-cublas-cu12==12.1.3.1 (from torch>=1.6.0->sentence-transformers==2.2.2)\n",
            "  Downloading nvidia_cublas_cu12-12.1.3.1-py3-none-manylinux1_x86_64.whl (410.6 MB)\n",
            "\u001b[2K     \u001b[90m━━━━━━━━━━━━━━━━━━━━━━━━━━━━━━━━━━━━━━━━\u001b[0m \u001b[32m410.6/410.6 MB\u001b[0m \u001b[31m2.0 MB/s\u001b[0m eta \u001b[36m0:00:00\u001b[0m\n",
            "\u001b[?25hCollecting nvidia-cufft-cu12==11.0.2.54 (from torch>=1.6.0->sentence-transformers==2.2.2)\n",
            "  Downloading nvidia_cufft_cu12-11.0.2.54-py3-none-manylinux1_x86_64.whl (121.6 MB)\n",
            "\u001b[2K     \u001b[90m━━━━━━━━━━━━━━━━━━━━━━━━━━━━━━━━━━━━━━━━\u001b[0m \u001b[32m121.6/121.6 MB\u001b[0m \u001b[31m5.1 MB/s\u001b[0m eta \u001b[36m0:00:00\u001b[0m\n",
            "\u001b[?25hCollecting nvidia-curand-cu12==10.3.2.106 (from torch>=1.6.0->sentence-transformers==2.2.2)\n",
            "  Downloading nvidia_curand_cu12-10.3.2.106-py3-none-manylinux1_x86_64.whl (56.5 MB)\n",
            "\u001b[2K     \u001b[90m━━━━━━━━━━━━━━━━━━━━━━━━━━━━━━━━━━━━━━━━\u001b[0m \u001b[32m56.5/56.5 MB\u001b[0m \u001b[31m6.2 MB/s\u001b[0m eta \u001b[36m0:00:00\u001b[0m\n",
            "\u001b[?25hCollecting nvidia-cusolver-cu12==11.4.5.107 (from torch>=1.6.0->sentence-transformers==2.2.2)\n",
            "  Downloading nvidia_cusolver_cu12-11.4.5.107-py3-none-manylinux1_x86_64.whl (124.2 MB)\n",
            "\u001b[2K     \u001b[90m━━━━━━━━━━━━━━━━━━━━━━━━━━━━━━━━━━━━━━━━\u001b[0m \u001b[32m124.2/124.2 MB\u001b[0m \u001b[31m4.7 MB/s\u001b[0m eta \u001b[36m0:00:00\u001b[0m\n",
            "\u001b[?25hCollecting nvidia-cusparse-cu12==12.1.0.106 (from torch>=1.6.0->sentence-transformers==2.2.2)\n",
            "  Downloading nvidia_cusparse_cu12-12.1.0.106-py3-none-manylinux1_x86_64.whl (196.0 MB)\n",
            "\u001b[2K     \u001b[90m━━━━━━━━━━━━━━━━━━━━━━━━━━━━━━━━━━━━━━━━\u001b[0m \u001b[32m196.0/196.0 MB\u001b[0m \u001b[31m4.4 MB/s\u001b[0m eta \u001b[36m0:00:00\u001b[0m\n",
            "\u001b[?25hCollecting nvidia-nccl-cu12==2.19.3 (from torch>=1.6.0->sentence-transformers==2.2.2)\n",
            "  Downloading nvidia_nccl_cu12-2.19.3-py3-none-manylinux1_x86_64.whl (166.0 MB)\n",
            "\u001b[2K     \u001b[90m━━━━━━━━━━━━━━━━━━━━━━━━━━━━━━━━━━━━━━━━\u001b[0m \u001b[32m166.0/166.0 MB\u001b[0m \u001b[31m5.2 MB/s\u001b[0m eta \u001b[36m0:00:00\u001b[0m\n",
            "\u001b[?25hCollecting nvidia-nvtx-cu12==12.1.105 (from torch>=1.6.0->sentence-transformers==2.2.2)\n",
            "  Downloading nvidia_nvtx_cu12-12.1.105-py3-none-manylinux1_x86_64.whl (99 kB)\n",
            "\u001b[2K     \u001b[90m━━━━━━━━━━━━━━━━━━━━━━━━━━━━━━━━━━━━━━━━\u001b[0m \u001b[32m99.1/99.1 kB\u001b[0m \u001b[31m13.2 MB/s\u001b[0m eta \u001b[36m0:00:00\u001b[0m\n",
            "\u001b[?25hRequirement already satisfied: triton==2.2.0 in /usr/local/lib/python3.10/dist-packages (from torch>=1.6.0->sentence-transformers==2.2.2) (2.2.0)\n",
            "Collecting nvidia-nvjitlink-cu12 (from nvidia-cusolver-cu12==11.4.5.107->torch>=1.6.0->sentence-transformers==2.2.2)\n",
            "  Downloading nvidia_nvjitlink_cu12-12.4.127-py3-none-manylinux2014_x86_64.whl (21.1 MB)\n",
            "\u001b[2K     \u001b[90m━━━━━━━━━━━━━━━━━━━━━━━━━━━━━━━━━━━━━━━━\u001b[0m \u001b[32m21.1/21.1 MB\u001b[0m \u001b[31m15.3 MB/s\u001b[0m eta \u001b[36m0:00:00\u001b[0m\n",
            "\u001b[?25hRequirement already satisfied: regex!=2019.12.17 in /usr/local/lib/python3.10/dist-packages (from transformers<5.0.0,>=4.6.0->sentence-transformers==2.2.2) (2023.12.25)\n",
            "Requirement already satisfied: tokenizers<0.19,>=0.14 in /usr/local/lib/python3.10/dist-packages (from transformers<5.0.0,>=4.6.0->sentence-transformers==2.2.2) (0.15.2)\n",
            "Requirement already satisfied: safetensors>=0.4.1 in /usr/local/lib/python3.10/dist-packages (from transformers<5.0.0,>=4.6.0->sentence-transformers==2.2.2) (0.4.2)\n",
            "Requirement already satisfied: click in /usr/local/lib/python3.10/dist-packages (from nltk->sentence-transformers==2.2.2) (8.1.7)\n",
            "Requirement already satisfied: joblib in /usr/local/lib/python3.10/dist-packages (from nltk->sentence-transformers==2.2.2) (1.3.2)\n",
            "Requirement already satisfied: threadpoolctl>=2.0.0 in /usr/local/lib/python3.10/dist-packages (from scikit-learn->sentence-transformers==2.2.2) (3.4.0)\n",
            "Requirement already satisfied: pillow!=8.3.*,>=5.3.0 in /usr/local/lib/python3.10/dist-packages (from torchvision->sentence-transformers==2.2.2) (9.4.0)\n",
            "Requirement already satisfied: MarkupSafe>=2.0 in /usr/local/lib/python3.10/dist-packages (from jinja2->torch>=1.6.0->sentence-transformers==2.2.2) (2.1.5)\n",
            "Requirement already satisfied: charset-normalizer<4,>=2 in /usr/local/lib/python3.10/dist-packages (from requests->huggingface-hub>=0.4.0->sentence-transformers==2.2.2) (3.3.2)\n",
            "Requirement already satisfied: idna<4,>=2.5 in /usr/local/lib/python3.10/dist-packages (from requests->huggingface-hub>=0.4.0->sentence-transformers==2.2.2) (3.6)\n",
            "Requirement already satisfied: urllib3<3,>=1.21.1 in /usr/local/lib/python3.10/dist-packages (from requests->huggingface-hub>=0.4.0->sentence-transformers==2.2.2) (2.0.7)\n",
            "Requirement already satisfied: certifi>=2017.4.17 in /usr/local/lib/python3.10/dist-packages (from requests->huggingface-hub>=0.4.0->sentence-transformers==2.2.2) (2024.2.2)\n",
            "Requirement already satisfied: mpmath>=0.19 in /usr/local/lib/python3.10/dist-packages (from sympy->torch>=1.6.0->sentence-transformers==2.2.2) (1.3.0)\n",
            "Building wheels for collected packages: sentence-transformers\n",
            "  Building wheel for sentence-transformers (setup.py) ... \u001b[?25l\u001b[?25hdone\n",
            "  Created wheel for sentence-transformers: filename=sentence_transformers-2.2.2-py3-none-any.whl size=125924 sha256=67a0b150a6805f3a4864768f8a0bf43b646cd94c9f6ddf3dbaae63147a3ee2c3\n",
            "  Stored in directory: /root/.cache/pip/wheels/62/f2/10/1e606fd5f02395388f74e7462910fe851042f97238cbbd902f\n",
            "Successfully built sentence-transformers\n",
            "Installing collected packages: nvidia-nvtx-cu12, nvidia-nvjitlink-cu12, nvidia-nccl-cu12, nvidia-curand-cu12, nvidia-cufft-cu12, nvidia-cuda-runtime-cu12, nvidia-cuda-nvrtc-cu12, nvidia-cuda-cupti-cu12, nvidia-cublas-cu12, nvidia-cusparse-cu12, nvidia-cudnn-cu12, nvidia-cusolver-cu12, sentence-transformers\n",
            "Successfully installed nvidia-cublas-cu12-12.1.3.1 nvidia-cuda-cupti-cu12-12.1.105 nvidia-cuda-nvrtc-cu12-12.1.105 nvidia-cuda-runtime-cu12-12.1.105 nvidia-cudnn-cu12-8.9.2.26 nvidia-cufft-cu12-11.0.2.54 nvidia-curand-cu12-10.3.2.106 nvidia-cusolver-cu12-11.4.5.107 nvidia-cusparse-cu12-12.1.0.106 nvidia-nccl-cu12-2.19.3 nvidia-nvjitlink-cu12-12.4.127 nvidia-nvtx-cu12-12.1.105 sentence-transformers-2.2.2\n"
          ]
        }
      ],
      "source": [
        "!pip install sentence-transformers==2.2.2"
      ]
    },
    {
      "cell_type": "code",
      "execution_count": null,
      "metadata": {
        "id": "tDf3yjTFFHou"
      },
      "outputs": [],
      "source": [
        "os.chdir('/content/xl-lexeme')"
      ]
    },
    {
      "cell_type": "code",
      "execution_count": null,
      "metadata": {
        "colab": {
          "base_uri": "https://localhost:8080/",
          "height": 642,
          "referenced_widgets": [
            "bbe26053da804a1b9b4299fd4f9066cb",
            "bd2a451b1acd4da290426c119cc49cad",
            "84c1eef9d46e4db4b3d9d60946c7b219",
            "645a5fd39ddb4fc882d8b3715bc8e0ce",
            "598f02a6431245349f71936fcb2121ac",
            "b522f4beb00b410ba68e25154e698e48",
            "0e2825da355348f68d93c4976e392817",
            "4aab385c473a4ed2ad58afdd66fc59d6",
            "f1ac03d465994764b659467f4c84538c",
            "d925407816e1467985c8588d731c2bfd",
            "9f0688fc216f4342bdd8579f6fbb7661",
            "c6739d9f10a94645b7b38e18c7a019c8",
            "d1ac6c6a6cb74834b31c9c5987f58ea6",
            "2544940ba0494df39247144d5836c97a",
            "14c5ea60c6714f948a1d0f18b1b8959d",
            "7533eef3f77d4105b014314d4a1cad45",
            "b445f501162341449097425a06a2e0b7",
            "96fac16abcd8409a9b75ef29363071d0",
            "e098397177774acca81489f5b066055c",
            "dc5a28b046f14fb5bc8fa0255618ab08",
            "37d851dfca2b4b6386374bbaeb0408b9",
            "b8bb906840d141d887087b1495c8900a",
            "773d68d11f924f5a80fa1862021f072f",
            "2697b06f41544b19a0830f0b42546d52",
            "fcb8a5e35fb74b99bf487529f45b7454",
            "439b86592452482b9d029242f42a54c6",
            "2b68fe5175894a13976d1fed55cfd517",
            "215a99edd82a4f53a4d70195504c9fe9",
            "8abac9a852a440efb68691bc72c177dc",
            "d185f8c6003747b6a4aaf2c97910e585",
            "c67f2fecc9864f51a1c4c0518e4f6bfd",
            "cf7ccfc6dc1645abbee58eedd32c63c3",
            "37f1d30da6cf49c784ba09e68ace9e2d",
            "1caf9d631d084b648d7026a1fa0dc2db",
            "1aa3ee591ac94ae3b71e0eedde213da0",
            "d0ccb371d0884cdda34f6cb5d53d3964",
            "365b4409e1d04276961d7151406d2754",
            "0b71711080124ffa9d8dc4e9714a0626",
            "f95f43c939794e2a8dbca40fcff1e577",
            "f21c31330ba2423499c2009c1ee6d012",
            "6289c72a715a456d8c8aba8280b53b0a",
            "179d2e23b18b4ca78b42b71b1eaee0e3",
            "4b4012bb65cb476891e0567ac9da96fb",
            "ce370312774344ad884aa280a39a422f",
            "944d79733e134328adc6fe3d671b562b",
            "315897c66e754926b7df761b35450392",
            "ab774b211c974bb18196427e7de5b511",
            "47d10971dd1f4a77b99b068f510010f7",
            "81b0e0a5f3524bbcb357e3f077370bdf",
            "9111bc07cef34b779ec998f03ec0cc5f",
            "4b9c9dc7a3b24ad8963ab6475e2415b5",
            "692ff31a5116491c8a5447b5314729cb",
            "ae6d083d748b4d3e9238e584284dff01",
            "3ea06e24ab4d41fdb3a261f85ab390f7",
            "ebaabe271d6c440383e6bb0e887b35db",
            "0282f4818c044dc7b3a1a15af64dc1bb",
            "f7194301670e47b4ba7e80ea9488b368",
            "2050596bc1904701bd00678355563195",
            "1f4fe1326a38492a80be93339993719d",
            "70a1545ad9794c4cb48f519cf932af44",
            "60f9ada9282449be876a55982ce0375c",
            "a4ea6ea317d34e8a893339344bc5d5e9",
            "119327f134e84bc197a27052bc76f406",
            "9f44fad871c549c392d2682a25416fa0",
            "bcff9473af0040d5be0f6d812f6610f5",
            "3886cacec7d04361a4a490f5ba06bfc4",
            "e17300560235437daf673e159581f958",
            "b657281dc1ab437e956d07624d0d403c",
            "d9d23f3f8dc54581a3316586eb2feec9",
            "8885e68c3b65491f93ca263689afb17d",
            "4dc7af318eec4b81a127e9d012d0c809",
            "06b9fc1ec2d04855b3d626baf40c2da1",
            "e783a05a44f84cc1a115d4c45bda0baf",
            "18842b341509439389ca3257299cdc55",
            "ec06b05b7b364f9b86ba4bb02e7679b4",
            "40539526e99f46c3adf7a1aa76b7d4f0",
            "13cb9d7b56a848e38c0f8670df0e5465",
            "6ff31ef29ff94050871d41c05aefe1c6",
            "b636fc54d50f4509a968c3a60f268492",
            "c74872889e4c4c2fbc0b0eb7a0f79624",
            "f6833043a3e048d68daaffc87262cdbb",
            "499aaee96335448ca3d83096fb9c14ce",
            "046ec41151994904bd8b629f277f41c6",
            "89c2888392334d56ab80d8110a03925a",
            "c4cbc7b41ff7450882991bc00abbaa9b",
            "4b0a656360db424c88b41db82c13e742",
            "4f2b0e0d8f76431da415c34899ac4081",
            "c849be1ea18c481ba1bd6f4bc7dcf6c6",
            "ba80c20c38974724a1a060f4032df51b",
            "462d18e538384a84ac81c47f6bd87fa3",
            "7edccdc1b4ba44f181edb13ac8481637",
            "36131616a51e4a27903c83600d386b39",
            "65d62ed8169746a0a5ce73971b11e751",
            "e38d5386848343abad03ea9b9973c295",
            "cadeebd7e2a744a8959fddd9e8e9bf18",
            "b6450fc4a57d4aee892cf500150e114f",
            "8135fdf6cc284c73881e0670f36287f6",
            "a327589852a34f39b5504812c1d6ae5f",
            "847c0e549247453383181b7215792f31",
            "6f5fed096516436e8ade0b5a2becccda",
            "3c8382be1f224296a0598589442f5325",
            "5b19a713704b4f12bc9a9bc8fb7ee42a",
            "3fc2ad2a9c994494834b42b4ed66d461",
            "2c55a836641348d29c2fda7c441fee4e",
            "32bc9bb9aceb47da95215c2bd91063f7",
            "c91d1f8c48ea44d0ac8bba15f758cab9",
            "da448448b95743cb8e077051d0136890",
            "1d6339de500541a09451cfca3bd63c67",
            "c48704fe8910478db072fefe2fe79395",
            "18fb76fdf29140b6a2164d6622a0a745",
            "fc3069745e6c464aa6161acd3330465b",
            "f4b5f9050f384374b77c7d3a8e637cd6",
            "dd5857b9c53f4e629dd7fcf42366c647",
            "c32b0d308380470793798b8a34026aea",
            "bc885a704fb945b09812ee7edc3b52f7",
            "cd41ad2d55f74b2f98f6ddf56add9d07",
            "a69dd8b206cb4357bb68f2023d363dbc",
            "0606c3aea9284aa8bbac1f0adf1ea596",
            "c5b44bb6118346f8a37ef4e17132a573",
            "e75da7af123d401d8e97ca8ebd9ef5c1",
            "17708564fb2043d494bed213710bf6a3",
            "4df98c311e2d44c597894b1f487e3aa8",
            "f0d282c35fd44c10b3e43ae946ff0cc5",
            "26b612bdd00c4c7a99ec2755cd829086",
            "0ef8848f58e440508b7dc72f626083e8",
            "0a47bbd2787746a8952224717ba7e2f7",
            "5f2054d8884c4bbba7205788f6c16bb7",
            "dfe2148af54a4c84958d7a6404c185e5",
            "66f0f2ddde32453390bfc6a41c8f321b",
            "9fdd0811d72944e9b94350a3b8925815",
            "280ed20b0f324a2198175e8b1fe804df",
            "f34125b7979844cbb6f35df06ae24aa9",
            "9ed9d9a571a94369830f01f61b8d09d6",
            "5366ed8cb87f46ce8e0ac556c28bc2d7",
            "7fc47e996ca94ca281e52f66670111a7",
            "08c4aeef35c74263a8bb7a73020a19da",
            "d69ba4d0ff7a46b581cb67d6691b615b",
            "30b0c12fbe8b4db48f99db5bdd67ab02",
            "260d09a31bf442b5a1d2137114ebf5d6",
            "acf7af18d4a64bd587b1d387fa0a6edf",
            "c4828b7b0ee44be3874dea7e4fbb9a44",
            "0d1db84382bf46568655dd4c500503bd",
            "61bdc1d62ec845409c193a3c564fe435",
            "a4a2ecf63ef449f392be6a16481e7672",
            "31a9c4825ab241e2ad4e8bbb05e47e8e",
            "6d6bac9a24614d0db7c000449b5c280e",
            "9989a7c66b154fc187e1032488b8c2f5",
            "0d990028494a47a5a58227d811809980",
            "0263bb7de2b64826bc16b7be288d1694",
            "2fc5e926bfb140c49593c5b53fa8b674",
            "28f87636599943db9c8d1fbcb3482c82",
            "fca47c6d7a7743c5b22c4720e90eb08e",
            "c5142b1d07774e428ad33352ee1b650d",
            "a03595959f78411cb378bfa96815d41c",
            "d3488d8508ce4c66914583bd25ff323b",
            "5458c1045d3040f4a5795ab2b0b48d35",
            "99a610ea493e4463a237d5a0afbec9d2",
            "fd6adb47e7984dc090e0379d47fc641f",
            "53e211f96f6246c3839416e250475af2",
            "fb40e381f4f24f97a912b68984f70018",
            "b7e78ea09e704d6e8b518668e356d4ab",
            "4e756c9cd49748e1b247515e1be4b4af",
            "e7dc09b9504a4e159fa1abf0819a99ae",
            "e43241625f264b64a42bf22b706f2dd8",
            "31162e4ab0e74d749c6f1d22f2a1d32b"
          ]
        },
        "id": "tH0CAu3Hy3J1",
        "outputId": "ccd012d2-09fc-4d87-e490-9bbb9b44c263"
      },
      "outputs": [
        {
          "output_type": "stream",
          "name": "stderr",
          "text": [
            "/usr/local/lib/python3.10/dist-packages/huggingface_hub/utils/_token.py:88: UserWarning: \n",
            "The secret `HF_TOKEN` does not exist in your Colab secrets.\n",
            "To authenticate with the Hugging Face Hub, create a token in your settings tab (https://huggingface.co/settings/tokens), set it as secret in your Google Colab and restart your session.\n",
            "You will be able to reuse this secret in all of your notebooks.\n",
            "Please note that authentication is recommended but still optional to access public models or datasets.\n",
            "  warnings.warn(\n"
          ]
        },
        {
          "output_type": "display_data",
          "data": {
            "text/plain": [
              ".gitattributes:   0%|          | 0.00/623 [00:00<?, ?B/s]"
            ],
            "application/vnd.jupyter.widget-view+json": {
              "version_major": 2,
              "version_minor": 0,
              "model_id": "bbe26053da804a1b9b4299fd4f9066cb"
            }
          },
          "metadata": {}
        },
        {
          "output_type": "display_data",
          "data": {
            "text/plain": [
              "README.md:   0%|          | 0.00/5.24k [00:00<?, ?B/s]"
            ],
            "application/vnd.jupyter.widget-view+json": {
              "version_major": 2,
              "version_minor": 0,
              "model_id": "c6739d9f10a94645b7b38e18c7a019c8"
            }
          },
          "metadata": {}
        },
        {
          "output_type": "display_data",
          "data": {
            "text/plain": [
              "config.json:   0%|          | 0.00/616 [00:00<?, ?B/s]"
            ],
            "application/vnd.jupyter.widget-view+json": {
              "version_major": 2,
              "version_minor": 0,
              "model_id": "773d68d11f924f5a80fa1862021f072f"
            }
          },
          "metadata": {}
        },
        {
          "output_type": "display_data",
          "data": {
            "text/plain": [
              "model.safetensors:   0%|          | 0.00/2.24G [00:00<?, ?B/s]"
            ],
            "application/vnd.jupyter.widget-view+json": {
              "version_major": 2,
              "version_minor": 0,
              "model_id": "1caf9d631d084b648d7026a1fa0dc2db"
            }
          },
          "metadata": {}
        },
        {
          "output_type": "display_data",
          "data": {
            "text/plain": [
              "onnx/config.json:   0%|          | 0.00/681 [00:00<?, ?B/s]"
            ],
            "application/vnd.jupyter.widget-view+json": {
              "version_major": 2,
              "version_minor": 0,
              "model_id": "944d79733e134328adc6fe3d671b562b"
            }
          },
          "metadata": {}
        },
        {
          "output_type": "display_data",
          "data": {
            "text/plain": [
              "model.onnx:   0%|          | 0.00/546k [00:00<?, ?B/s]"
            ],
            "application/vnd.jupyter.widget-view+json": {
              "version_major": 2,
              "version_minor": 0,
              "model_id": "0282f4818c044dc7b3a1a15af64dc1bb"
            }
          },
          "metadata": {}
        },
        {
          "output_type": "display_data",
          "data": {
            "text/plain": [
              "model.onnx_data:   0%|          | 0.00/2.24G [00:00<?, ?B/s]"
            ],
            "application/vnd.jupyter.widget-view+json": {
              "version_major": 2,
              "version_minor": 0,
              "model_id": "e17300560235437daf673e159581f958"
            }
          },
          "metadata": {}
        },
        {
          "output_type": "display_data",
          "data": {
            "text/plain": [
              "sentencepiece.bpe.model:   0%|          | 0.00/5.07M [00:00<?, ?B/s]"
            ],
            "application/vnd.jupyter.widget-view+json": {
              "version_major": 2,
              "version_minor": 0,
              "model_id": "6ff31ef29ff94050871d41c05aefe1c6"
            }
          },
          "metadata": {}
        },
        {
          "output_type": "display_data",
          "data": {
            "text/plain": [
              "onnx/special_tokens_map.json:   0%|          | 0.00/280 [00:00<?, ?B/s]"
            ],
            "application/vnd.jupyter.widget-view+json": {
              "version_major": 2,
              "version_minor": 0,
              "model_id": "ba80c20c38974724a1a060f4032df51b"
            }
          },
          "metadata": {}
        },
        {
          "output_type": "display_data",
          "data": {
            "text/plain": [
              "tokenizer.json:   0%|          | 0.00/17.1M [00:00<?, ?B/s]"
            ],
            "application/vnd.jupyter.widget-view+json": {
              "version_major": 2,
              "version_minor": 0,
              "model_id": "6f5fed096516436e8ade0b5a2becccda"
            }
          },
          "metadata": {}
        },
        {
          "output_type": "display_data",
          "data": {
            "text/plain": [
              "onnx/tokenizer_config.json:   0%|          | 0.00/418 [00:00<?, ?B/s]"
            ],
            "application/vnd.jupyter.widget-view+json": {
              "version_major": 2,
              "version_minor": 0,
              "model_id": "fc3069745e6c464aa6161acd3330465b"
            }
          },
          "metadata": {}
        },
        {
          "output_type": "display_data",
          "data": {
            "text/plain": [
              "pytorch_model.bin:   0%|          | 0.00/2.24G [00:00<?, ?B/s]"
            ],
            "application/vnd.jupyter.widget-view+json": {
              "version_major": 2,
              "version_minor": 0,
              "model_id": "4df98c311e2d44c597894b1f487e3aa8"
            }
          },
          "metadata": {}
        },
        {
          "output_type": "display_data",
          "data": {
            "text/plain": [
              "sentencepiece.bpe.model:   0%|          | 0.00/5.07M [00:00<?, ?B/s]"
            ],
            "application/vnd.jupyter.widget-view+json": {
              "version_major": 2,
              "version_minor": 0,
              "model_id": "9ed9d9a571a94369830f01f61b8d09d6"
            }
          },
          "metadata": {}
        },
        {
          "output_type": "display_data",
          "data": {
            "text/plain": [
              "tokenizer.json:   0%|          | 0.00/9.10M [00:00<?, ?B/s]"
            ],
            "application/vnd.jupyter.widget-view+json": {
              "version_major": 2,
              "version_minor": 0,
              "model_id": "a4a2ecf63ef449f392be6a16481e7672"
            }
          },
          "metadata": {}
        },
        {
          "output_type": "display_data",
          "data": {
            "text/plain": [
              "tokenizer_config.json:   0%|          | 0.00/25.0 [00:00<?, ?B/s]"
            ],
            "application/vnd.jupyter.widget-view+json": {
              "version_major": 2,
              "version_minor": 0,
              "model_id": "d3488d8508ce4c66914583bd25ff323b"
            }
          },
          "metadata": {}
        },
        {
          "output_type": "stream",
          "name": "stderr",
          "text": [
            "WARNING:root:No sentence-transformers model found with name /root/.cache/torch/sentence_transformers/xlm-roberta-large. Creating a new one with MEAN pooling.\n"
          ]
        }
      ],
      "source": [
        "from WordTransformer import WordTransformer,InputExample\n",
        "\n",
        "model = WordTransformer(\"xlm-roberta-large\")\n",
        "\n",
        "# examples = InputExample(texts=\"the quick fox jumps over the lazy dog\", positions=[10,13])\n",
        "# fox_embedding = model.encode(examples) #The embedding of the target word \"fox\""
      ]
    },
    {
      "cell_type": "markdown",
      "metadata": {
        "id": "riV4EpsAqU0I"
      },
      "source": [
        "Импорт модели оценки близости значений"
      ]
    },
    {
      "cell_type": "code",
      "execution_count": null,
      "metadata": {
        "colab": {
          "base_uri": "https://localhost:8080/"
        },
        "id": "ZryoX6olRjSL",
        "outputId": "cf39416c-1c6e-4672-c25c-5f30ed98f018"
      },
      "outputs": [
        {
          "output_type": "stream",
          "name": "stdout",
          "text": [
            "Collecting metric-learn\n",
            "  Downloading metric_learn-0.7.0-py2.py3-none-any.whl (67 kB)\n",
            "\u001b[?25l     \u001b[90m━━━━━━━━━━━━━━━━━━━━━━━━━━━━━━━━━━━━━━━━\u001b[0m \u001b[32m0.0/67.8 kB\u001b[0m \u001b[31m?\u001b[0m eta \u001b[36m-:--:--\u001b[0m\r\u001b[2K     \u001b[90m━━━━━━━━━━━━━━━━━━━━━━━━━━━━━━━━━━━━━━━━\u001b[0m \u001b[32m67.8/67.8 kB\u001b[0m \u001b[31m2.2 MB/s\u001b[0m eta \u001b[36m0:00:00\u001b[0m\n",
            "\u001b[?25hRequirement already satisfied: numpy>=1.11.0 in /usr/local/lib/python3.10/dist-packages (from metric-learn) (1.25.2)\n",
            "Requirement already satisfied: scipy>=0.17.0 in /usr/local/lib/python3.10/dist-packages (from metric-learn) (1.11.4)\n",
            "Requirement already satisfied: scikit-learn>=0.21.3 in /usr/local/lib/python3.10/dist-packages (from metric-learn) (1.2.2)\n",
            "Requirement already satisfied: joblib>=1.1.1 in /usr/local/lib/python3.10/dist-packages (from scikit-learn>=0.21.3->metric-learn) (1.3.2)\n",
            "Requirement already satisfied: threadpoolctl>=2.0.0 in /usr/local/lib/python3.10/dist-packages (from scikit-learn>=0.21.3->metric-learn) (3.4.0)\n",
            "Installing collected packages: metric-learn\n",
            "Successfully installed metric-learn-0.7.0\n"
          ]
        }
      ],
      "source": [
        "!pip install metric-learn"
      ]
    },
    {
      "cell_type": "code",
      "execution_count": null,
      "metadata": {
        "id": "yzmXWj_g4reM"
      },
      "outputs": [],
      "source": [
        "import metric_learn"
      ]
    },
    {
      "cell_type": "markdown",
      "metadata": {
        "id": "uboYNWtwqoBs"
      },
      "source": [
        "Парсинг датасета для подачи в энкодер"
      ]
    },
    {
      "cell_type": "code",
      "execution_count": null,
      "metadata": {
        "id": "T6Yj1tPDgbnI"
      },
      "outputs": [],
      "source": [
        "def parser (data_set, labels_set):\n",
        "  data = []\n",
        "  labels = []\n",
        "  for i in range(len(data_set)):\n",
        "    t = data_set[i].split('\\t')\n",
        "    s1=0\n",
        "    for i1 in t[3].split(' ')[:int(t[2].split('-')[0])+1]:\n",
        "      s1+=len(i1)+1\n",
        "    example1 = InputExample(texts=t[3], positions=[s1-1-len(t[3].split(' ')[int(t[2].split('-')[0])]),s1-1])\n",
        "    s2=0\n",
        "    for i2 in t[4].split(' ')[:int(t[2].split('-')[1])+1]:\n",
        "      s2+=len(i2)+1\n",
        "    example2 = InputExample(texts=t[4], positions=[s2-1-len(t[4].split(' ')[int(t[2].split('-')[1])]),s2-1])\n",
        "    if labels_set[i][0]=='F':\n",
        "      y = -1\n",
        "    else:\n",
        "      y = 1\n",
        "    ds=(example1, example2)\n",
        "    data.append((ds,y))\n",
        "  return data"
      ]
    },
    {
      "cell_type": "code",
      "execution_count": null,
      "metadata": {
        "id": "dZEoG3yQvmah"
      },
      "outputs": [],
      "source": [
        "train_data = parser(train_dataset, train_labels)"
      ]
    },
    {
      "cell_type": "code",
      "execution_count": null,
      "metadata": {
        "id": "JGYcIQjq7Mfz"
      },
      "outputs": [],
      "source": [
        "test_data = parser(test_dataset, test_labels)"
      ]
    },
    {
      "cell_type": "markdown",
      "metadata": {
        "id": "JlHNLwx22LU5"
      },
      "source": [
        "Получение эмбедингов с помощью Siamese biencoder"
      ]
    },
    {
      "cell_type": "code",
      "execution_count": null,
      "metadata": {
        "id": "bqJHLQueuc6h"
      },
      "outputs": [],
      "source": [
        "def get_prepared_data(row_data):\n",
        "  \"\"\"\n",
        "  row_data is a list of tuples, where the first element is tuple of InputExamples,\n",
        "  and the second element is label (int -1 or 1)\n",
        "  \"\"\"\n",
        "  vecs = []\n",
        "  labels = []\n",
        "  for d,l in tqdm(row_data):\n",
        "    vecs.append(model.encode([d[0],d[1]]))\n",
        "    labels.append(l)\n",
        "  return vecs,labels"
      ]
    },
    {
      "cell_type": "code",
      "execution_count": null,
      "metadata": {
        "colab": {
          "base_uri": "https://localhost:8080/"
        },
        "id": "TzDGAD8n1Znk",
        "outputId": "476c4cda-8f3f-4318-e8c4-a7b02fa46c58"
      },
      "outputs": [
        {
          "name": "stderr",
          "output_type": "stream",
          "text": [
            "100%|██████████| 5428/5428 [1:17:44<00:00,  1.16it/s]\n"
          ]
        }
      ],
      "source": [
        "prepared_data = get_prepared_data(train_data)"
      ]
    },
    {
      "cell_type": "code",
      "execution_count": null,
      "metadata": {
        "colab": {
          "base_uri": "https://localhost:8080/"
        },
        "id": "Wodfm3dj7c_O",
        "outputId": "811169cc-3e6f-4d6f-93e2-e343a0cf5fd7"
      },
      "outputs": [
        {
          "name": "stderr",
          "output_type": "stream",
          "text": [
            "100%|██████████| 1400/1400 [20:02<00:00,  1.16it/s]\n"
          ]
        }
      ],
      "source": [
        "test_prepared_data = get_prepared_data(test_data)"
      ]
    },
    {
      "cell_type": "markdown",
      "source": [
        "Сохраняем полученные эмбединги"
      ],
      "metadata": {
        "id": "8fESYgdLKeKr"
      }
    },
    {
      "cell_type": "code",
      "execution_count": null,
      "metadata": {
        "id": "OPbAIYVKvOMY"
      },
      "outputs": [],
      "source": [
        "os.chdir('/content/drive/MyDrive')"
      ]
    },
    {
      "cell_type": "code",
      "execution_count": null,
      "metadata": {
        "id": "AqbHenDDURlS"
      },
      "outputs": [],
      "source": [
        "# with open(\"prepared_data.pickle\", \"wb\") as file:\n",
        "#     pickle.dump(prepared_data, file)"
      ]
    },
    {
      "cell_type": "code",
      "execution_count": null,
      "metadata": {
        "id": "QQ7cQinpWDV6"
      },
      "outputs": [],
      "source": [
        "with open(\"prepared_data.pickle\", \"rb\") as file:\n",
        "    prepared_data = pickle.load(file)"
      ]
    },
    {
      "cell_type": "code",
      "execution_count": null,
      "metadata": {
        "id": "rFWWLdVf7mBP"
      },
      "outputs": [],
      "source": [
        "# with open(\"test_prepared_data.pickle\", \"wb\") as file:\n",
        "#     pickle.dump(test_prepared_data, file)"
      ]
    },
    {
      "cell_type": "code",
      "execution_count": null,
      "metadata": {
        "id": "z73Ygwq-7l4U"
      },
      "outputs": [],
      "source": [
        "with open(\"/content/drive/MyDrive/test_prepared_data.pickle\", \"rb\") as file:\n",
        "    test_prepared_data = pickle.load(file)"
      ]
    },
    {
      "cell_type": "code",
      "execution_count": null,
      "metadata": {
        "id": "fg5aNzPbwnDt"
      },
      "outputs": [],
      "source": [
        "os.chdir('/content/drive/MyDrive/itml_models')"
      ]
    },
    {
      "cell_type": "markdown",
      "source": [
        "Тренируем модель на полученных эмбедингах и сохраняем полученные модели. Тренируем модели с разными значениями параметра gamma - от 0.000001 до 10"
      ],
      "metadata": {
        "id": "Ma_ID7GvMwe0"
      }
    },
    {
      "cell_type": "code",
      "execution_count": null,
      "metadata": {
        "id": "_ARISpnV4Bbw"
      },
      "outputs": [],
      "source": [
        "def train_itml(pairs, lbls):\n",
        "  for degree in range(-5, 2):\n",
        "    gamma = 10**degree\n",
        "    itml = metric_learn.ITML(gamma=gamma)\n",
        "    vecs, lbl = pairs, lbls\n",
        "    itml.fit(vecs,lbl)\n",
        "    pickle.dump(itml, open(f'itml_gamma={gamma}.plk', 'wb'))"
      ]
    },
    {
      "cell_type": "code",
      "execution_count": null,
      "metadata": {
        "colab": {
          "base_uri": "https://localhost:8080/"
        },
        "id": "HfcvnqNnTBAP",
        "outputId": "15784780-3569-4f91-dc93-3d5aa3f4e29a"
      },
      "outputs": [
        {
          "name": "stderr",
          "output_type": "stream",
          "text": [
            "/usr/local/lib/python3.10/dist-packages/metric_learn/itml.py:75: RuntimeWarning: divide by zero encountered in scalar divide\n",
            "  alpha = min(_lambda[i], gamma_proj * (1. / wtw - 1. / pos_bhat[i]))\n",
            "/usr/local/lib/python3.10/dist-packages/metric_learn/itml.py:75: RuntimeWarning: divide by zero encountered in scalar divide\n",
            "  alpha = min(_lambda[i], gamma_proj * (1. / wtw - 1. / pos_bhat[i]))\n",
            "/usr/local/lib/python3.10/dist-packages/metric_learn/itml.py:75: RuntimeWarning: divide by zero encountered in scalar divide\n",
            "  alpha = min(_lambda[i], gamma_proj * (1. / wtw - 1. / pos_bhat[i]))\n",
            "/usr/local/lib/python3.10/dist-packages/metric_learn/itml.py:75: RuntimeWarning: divide by zero encountered in scalar divide\n",
            "  alpha = min(_lambda[i], gamma_proj * (1. / wtw - 1. / pos_bhat[i]))\n",
            "/usr/local/lib/python3.10/dist-packages/metric_learn/itml.py:75: RuntimeWarning: divide by zero encountered in scalar divide\n",
            "  alpha = min(_lambda[i], gamma_proj * (1. / wtw - 1. / pos_bhat[i]))\n",
            "/usr/local/lib/python3.10/dist-packages/metric_learn/itml.py:75: RuntimeWarning: divide by zero encountered in scalar divide\n",
            "  alpha = min(_lambda[i], gamma_proj * (1. / wtw - 1. / pos_bhat[i]))\n",
            "/usr/local/lib/python3.10/dist-packages/metric_learn/itml.py:75: RuntimeWarning: divide by zero encountered in scalar divide\n",
            "  alpha = min(_lambda[i], gamma_proj * (1. / wtw - 1. / pos_bhat[i]))\n"
          ]
        }
      ],
      "source": [
        "train_itml(prepared_data[0], prepared_data[1])"
      ]
    },
    {
      "cell_type": "markdown",
      "source": [
        "Функция оценки качества модели"
      ],
      "metadata": {
        "id": "EQacHsiZM487"
      }
    },
    {
      "cell_type": "code",
      "execution_count": null,
      "metadata": {
        "id": "tDkcopiTAclk"
      },
      "outputs": [],
      "source": [
        "def evaluate_model(model_name, data, labels):\n",
        "  with open(model_name, \"rb\") as file:\n",
        "    itml = pickle.load(file)\n",
        "    lbls_pred = itml.predict(data)\n",
        "    score = accuracy_score(labels, lbls_pred)\n",
        "    return score"
      ]
    },
    {
      "cell_type": "code",
      "execution_count": null,
      "metadata": {
        "colab": {
          "base_uri": "https://localhost:8080/"
        },
        "id": "WrL5u3sIBrhS",
        "outputId": "d89f017c-4841-45ab-fc62-3e5b665c66b9"
      },
      "outputs": [
        {
          "name": "stdout",
          "output_type": "stream",
          "text": [
            "score itml_gamma=1e-05= 0.5442857142857143\n",
            "score itml_gamma=0.0001= 0.5464285714285714\n",
            "score itml_gamma=0.001= 0.54\n",
            "score itml_gamma=0.01= 0.5407142857142857\n",
            "score itml_gamma=0.1= 0.5735714285714286\n",
            "score itml_gamma=1= 0.5935714285714285\n",
            "score itml_gamma=10= 0.575\n"
          ]
        }
      ],
      "source": [
        "models_path = '/content/drive/MyDrive/itml_models'\n",
        "for degree in range(-5, 2):\n",
        "  gamma = 10**degree\n",
        "  names = models_path+\"/itml_gamma=\"+str(gamma)+\".plk\"\n",
        "  print(f'score itml_gamma={gamma}=',evaluate_model(model_name = names, data=test_prepared_data[0], labels=test_prepared_data[1]))"
      ]
    },
    {
      "cell_type": "markdown",
      "source": [
        "Сравним с метками на основе косинусного расстояния"
      ],
      "metadata": {
        "id": "fV2cb55nM856"
      }
    },
    {
      "cell_type": "code",
      "execution_count": null,
      "metadata": {
        "id": "-IMkomuNEYne"
      },
      "outputs": [],
      "source": [
        "cos_labels = []\n",
        "for pairs in test_prepared_data[0]:\n",
        "  dist = distance.cosine(pairs[0], pairs[1])\n",
        "  if 0.5 <= dist <=1.5:\n",
        "    lb = -1\n",
        "  else:\n",
        "    lb = 1\n",
        "  cos_labels.append(lb)"
      ]
    },
    {
      "cell_type": "code",
      "execution_count": null,
      "metadata": {
        "colab": {
          "base_uri": "https://localhost:8080/"
        },
        "id": "dPIMjwJ9FzT-",
        "outputId": "9c8151df-37b7-4f74-c159-94fb1fbe563e"
      },
      "outputs": [
        {
          "name": "stdout",
          "output_type": "stream",
          "text": [
            "score cosine distance 0.5\n"
          ]
        }
      ],
      "source": [
        "print(f'score cosine distance',accuracy_score(test_prepared_data[1], cos_labels))"
      ]
    },
    {
      "cell_type": "markdown",
      "source": [
        "Для английского языка точность модели semantic change detection выше, чем при использовании косинусного расстояния"
      ],
      "metadata": {
        "id": "-W_qkSNNNDEB"
      }
    },
    {
      "cell_type": "markdown",
      "metadata": {
        "id": "CrbpbiI5Hkdc"
      },
      "source": [
        "WiC для русского языка"
      ]
    },
    {
      "cell_type": "markdown",
      "source": [
        "Считываем тренировочные данные для русского языка"
      ],
      "metadata": {
        "id": "y8zgECvxNmjm"
      }
    },
    {
      "cell_type": "code",
      "execution_count": null,
      "metadata": {
        "id": "wrplFC-DHrua"
      },
      "outputs": [],
      "source": [
        "with open ('/content/drive/MyDrive/WiC Russian/train.jsonl', 'r') as file:\n",
        "  train_rus = file.read()"
      ]
    },
    {
      "cell_type": "code",
      "execution_count": null,
      "metadata": {
        "id": "Hdee6PQiJ-fv"
      },
      "outputs": [],
      "source": [
        "wic_rus_train = []\n",
        "for wic_dict in train_rus.split('\\n'):\n",
        "  try:\n",
        "    wic_rus_train.append(json.loads(wic_dict))\n",
        "  except:\n",
        "    pass"
      ]
    },
    {
      "cell_type": "markdown",
      "source": [
        "Функция пасинга данных для русского языка (формат данных отличается)"
      ],
      "metadata": {
        "id": "6BH4zk9hNst6"
      }
    },
    {
      "cell_type": "code",
      "execution_count": null,
      "metadata": {
        "id": "a3qv6UceO4P9"
      },
      "outputs": [],
      "source": [
        "def parser_dict (list_of_dicts):\n",
        "  data = []\n",
        "  for d in list_of_dicts:\n",
        "    example1 = InputExample(texts=d['sentence1'],positions=[d['start1'],d['end1']])\n",
        "    example2 = InputExample(texts=d['sentence2'],positions=[d['start2'],d['end2']])\n",
        "    if d['label']==1:\n",
        "      y = 1\n",
        "    else:\n",
        "      y = -1\n",
        "    ds=(example1, example2)\n",
        "    data.append((ds,y))\n",
        "  return data"
      ]
    },
    {
      "cell_type": "code",
      "execution_count": null,
      "metadata": {
        "id": "c27GYyEeOQus"
      },
      "outputs": [],
      "source": [
        "rus_train_data =  parser_dict(wic_rus_train)"
      ]
    },
    {
      "cell_type": "code",
      "execution_count": null,
      "metadata": {
        "colab": {
          "base_uri": "https://localhost:8080/"
        },
        "id": "uGMRTTVcOivI",
        "outputId": "5ffd6790-cc6f-4a86-d884-2d1310e6d4c2"
      },
      "outputs": [
        {
          "name": "stderr",
          "output_type": "stream",
          "text": [
            "100%|██████████| 19845/19845 [6:20:25<00:00,  1.15s/it]\n"
          ]
        }
      ],
      "source": [
        "rus_prepared_data = get_prepared_data(rus_train_data)"
      ]
    },
    {
      "cell_type": "markdown",
      "source": [
        "Сохраняем эмбелинги"
      ],
      "metadata": {
        "id": "7NLA3EYuLWJE"
      }
    },
    {
      "cell_type": "code",
      "execution_count": null,
      "metadata": {
        "id": "Svuff6_CQ0TS"
      },
      "outputs": [],
      "source": [
        "# with open(\"/content/drive/MyDrive/rus_prepared_data.pickle\", \"wb\") as file:\n",
        "#     pickle.dump(rus_prepared_data, file)"
      ]
    },
    {
      "cell_type": "code",
      "execution_count": null,
      "metadata": {
        "id": "UTgaU1o9Q3bh"
      },
      "outputs": [],
      "source": [
        "with open(\"/content/drive/MyDrive/rus_prepared_data.pickle\", \"rb\") as file:\n",
        "    rus_prepared_data = pickle.load(file)"
      ]
    },
    {
      "cell_type": "code",
      "execution_count": null,
      "metadata": {
        "id": "HYhcj4uWDMh2"
      },
      "outputs": [],
      "source": [
        "os.chdir('/content/drive/MyDrive/itml_models_rus')"
      ]
    },
    {
      "cell_type": "markdown",
      "source": [
        "Тренируем модель для русского языка"
      ],
      "metadata": {
        "id": "zXxuD5E5OFjf"
      }
    },
    {
      "cell_type": "code",
      "execution_count": null,
      "metadata": {
        "id": "bIwZvZC6-taT"
      },
      "outputs": [],
      "source": [
        "train_itml(rus_prepared_data[0], rus_prepared_data[1])"
      ]
    },
    {
      "cell_type": "code",
      "execution_count": null,
      "metadata": {
        "id": "MU_yCuVl-syv"
      },
      "outputs": [],
      "source": [
        "for degree in range(-5, 0):\n",
        "  gamma = 10**degree\n",
        "  itml = metric_learn.ITML(gamma=gamma)\n",
        "  vecs, lbl = rus_prepared_data[0], rus_prepared_data[1]\n",
        "  itml.fit(vecs,lbl)\n",
        "  pickle.dump(itml, open(f'/content/drive/MyDrive/itml_models_rus/itml_gamma={gamma}.plk', 'wb'))"
      ]
    },
    {
      "cell_type": "markdown",
      "source": [
        "Подготовка тестовых данных"
      ],
      "metadata": {
        "id": "HbNhBYIrOjvC"
      }
    },
    {
      "cell_type": "code",
      "execution_count": null,
      "metadata": {
        "id": "GRE75-URRByi"
      },
      "outputs": [],
      "source": [
        "with open ('/content/drive/MyDrive/WiC Russian/val.jsonl', 'r') as file:\n",
        "  val_rus = file.read()"
      ]
    },
    {
      "cell_type": "code",
      "execution_count": null,
      "metadata": {
        "id": "ClS4IkU2-ufj"
      },
      "outputs": [],
      "source": [
        "wic_rus_val = []\n",
        "for wic_dict in val_rus.split('\\n'):\n",
        "  try:\n",
        "    wic_rus_val.append(json.loads(wic_dict))\n",
        "  except:\n",
        "    pass"
      ]
    },
    {
      "cell_type": "code",
      "execution_count": null,
      "metadata": {
        "id": "W6f1rAtO-uZW"
      },
      "outputs": [],
      "source": [
        "rus_val_data =  parser_dict(wic_rus_val)"
      ]
    },
    {
      "cell_type": "code",
      "execution_count": null,
      "metadata": {
        "colab": {
          "base_uri": "https://localhost:8080/"
        },
        "id": "8YlyaHS3-uUO",
        "outputId": "9fd573c7-c442-41f5-96eb-fc0bab480f61"
      },
      "outputs": [
        {
          "name": "stderr",
          "output_type": "stream",
          "text": [
            "100%|██████████| 8505/8505 [3:12:01<00:00,  1.35s/it]\n"
          ]
        }
      ],
      "source": [
        "rus_prepared_data_val = get_prepared_data(rus_val_data)"
      ]
    },
    {
      "cell_type": "code",
      "execution_count": null,
      "metadata": {
        "id": "tzMfdlNJz050"
      },
      "outputs": [],
      "source": [
        "os.chdir('/content/drive/MyDrive')"
      ]
    },
    {
      "cell_type": "code",
      "execution_count": null,
      "metadata": {
        "id": "KNIO7LP0z0tT"
      },
      "outputs": [],
      "source": [
        "# with open(\"rus_prepared_data_val.pickle\", \"wb\") as file:\n",
        "#     pickle.dump(rus_prepared_data_val, file)"
      ]
    },
    {
      "cell_type": "code",
      "execution_count": null,
      "metadata": {
        "id": "3rB_x_Auz9Gi"
      },
      "outputs": [],
      "source": [
        "with open(\"/content/drive/MyDrive/rus_prepared_data_val.pickle\", \"rb\") as file:\n",
        "    rus_prepared_data_val = pickle.load(file)"
      ]
    },
    {
      "cell_type": "markdown",
      "source": [
        "Оценка качества модели"
      ],
      "metadata": {
        "id": "SudUp9TEOoqH"
      }
    },
    {
      "cell_type": "code",
      "execution_count": null,
      "metadata": {
        "colab": {
          "base_uri": "https://localhost:8080/"
        },
        "id": "6_HV65iU-sY6",
        "outputId": "2a0937bc-2349-4a69-dc96-98722c56a40c"
      },
      "outputs": [
        {
          "name": "stdout",
          "output_type": "stream",
          "text": [
            "score itml_gamma=1e-05= 0.6320987654320988\n",
            "score itml_gamma=0.0001= 0.6338624338624339\n",
            "score itml_gamma=0.001= 0.6353909465020576\n",
            "score itml_gamma=0.01= 0.6378600823045267\n",
            "score itml_gamma=0.1= 0.660082304526749\n"
          ]
        }
      ],
      "source": [
        "models_path = '/content/drive/MyDrive/itml_models_rus'\n",
        "for degree in range(-5, 0):\n",
        "  gamma = 10**degree\n",
        "  names = models_path+\"/itml_gamma=\"+str(gamma)+\".plk\"\n",
        "  print(f'score itml_gamma={gamma}=',evaluate_model(model_name = names, data=rus_prepared_data_val[0], labels=rus_prepared_data_val[1]))"
      ]
    },
    {
      "cell_type": "markdown",
      "source": [
        "Сравним с метками на основе косинусного расстояния"
      ],
      "metadata": {
        "id": "WScVU2PGOsqx"
      }
    },
    {
      "cell_type": "code",
      "execution_count": null,
      "metadata": {
        "id": "YLLyNj_Q0Cmo"
      },
      "outputs": [],
      "source": [
        "cos_labels_rus = []\n",
        "for pairs in rus_prepared_data_val[0]:\n",
        "  dist = distance.cosine(pairs[0], pairs[1])\n",
        "  if 0.5 <= dist <=1.5:\n",
        "    lb = -1\n",
        "  else:\n",
        "    lb = 1\n",
        "  cos_labels_rus.append(lb)"
      ]
    },
    {
      "cell_type": "code",
      "execution_count": null,
      "metadata": {
        "colab": {
          "base_uri": "https://localhost:8080/"
        },
        "id": "AJ5Jhpcr0CT6",
        "outputId": "e66a9478-befc-45a1-ced2-3a1bb92c05be"
      },
      "outputs": [
        {
          "name": "stdout",
          "output_type": "stream",
          "text": [
            "score cosine distance for russian words 0.36907701352145794\n"
          ]
        }
      ],
      "source": [
        "print(f'score cosine distance for russian words',accuracy_score(rus_prepared_data_val[1], cos_labels_rus))"
      ]
    },
    {
      "cell_type": "markdown",
      "source": [
        "Для русского языка точность гораздо выше. Возможно из-за того, что тренировочный датассет гораздо больше и модель обучилась лучше"
      ],
      "metadata": {
        "id": "DZ1wYuYcOwhY"
      }
    },
    {
      "cell_type": "code",
      "execution_count": null,
      "metadata": {
        "id": "bv72QnR9w_9O"
      },
      "outputs": [],
      "source": []
    },
    {
      "cell_type": "markdown",
      "source": [
        "Посмотрим, как работает на задаче Rushifteval"
      ],
      "metadata": {
        "id": "r7RsISnYPTyg"
      }
    },
    {
      "cell_type": "markdown",
      "source": [
        "Загружаем модель с наивысшей точностью предсказаний"
      ],
      "metadata": {
        "id": "MUdzV1SBPbh5"
      }
    },
    {
      "cell_type": "code",
      "execution_count": null,
      "metadata": {
        "id": "uuDyvykLxAtV"
      },
      "outputs": [],
      "source": [
        "with open('/content/drive/MyDrive/itml_models_rus/itml_gamma=0.1.plk', \"rb\") as file:\n",
        "  itml = pickle.load(file)"
      ]
    },
    {
      "cell_type": "markdown",
      "source": [
        "Подготовим данные. В данной задаче необходимо сравнить семантические отличия слов для случаев употребления в разные исторические периоды. Например, как изменялось значение слов в перод 1918-1990гг по сравнению с периодом 1700-1916гг"
      ],
      "metadata": {
        "id": "D5rjRPDUPnDK"
      }
    },
    {
      "cell_type": "code",
      "execution_count": null,
      "metadata": {
        "id": "6lWKZCRHn21E"
      },
      "outputs": [],
      "source": [
        "data_dir = f\"/content/drive/MyDrive/rushifteval/rushifteval1\"\n",
        "data_words_paths = glob.glob(f\"{data_dir}/*/uses.csv\")\n",
        "rus_words = [path.split('/')[-2] for path in data_words_paths]"
      ]
    },
    {
      "cell_type": "code",
      "execution_count": null,
      "metadata": {
        "id": "l7c4b52qKBJ-"
      },
      "outputs": [],
      "source": [
        "words_to_encode ={}\n",
        "data_dir = f\"/content/drive/MyDrive/rushifteval/rushifteval1\"\n",
        "data_words_paths = glob.glob(f\"{data_dir}/*/uses.csv\")\n",
        "rus_words = [path.split('/')[-2] for path in data_words_paths]\n",
        "for i in range(len(data_words_paths)):\n",
        "    words_to_encode[data_words_paths[i].split('/')[-2]] = {}\n",
        "    with open(data_words_paths[i], \"r\") as file:\n",
        "      line = file.readlines()\n",
        "      group = []\n",
        "      for ln in line[1:]:\n",
        "        group.append(ln.split('\\t')[3])\n",
        "      group = (group)\n",
        "      for s in group:\n",
        "        words_to_encode[data_words_paths[i].split('/')[-2]][s] = []\n",
        "      for ln in line[1:]:\n",
        "        words_to_encode[data_words_paths[i].split('/')[-2]][ln.split('\\t')[3]].append(InputExample(texts=ln.split('\\t')[6], positions=[int(ln.split('\\t')[7].split(':')[0]),int(ln.split('\\t')[7].split(':')[1])]))\n"
      ]
    },
    {
      "cell_type": "code",
      "execution_count": null,
      "metadata": {
        "colab": {
          "base_uri": "https://localhost:8080/"
        },
        "id": "UtP5_nOMMGqq",
        "outputId": "3bced026-1ac5-40d6-b80f-3c988b32aed9"
      },
      "outputs": [
        {
          "output_type": "stream",
          "name": "stderr",
          "text": [
            "100%|██████████| 111/111 [4:15:24<00:00, 138.06s/it]\n"
          ]
        }
      ],
      "source": [
        "words_metrics_1_ = {}\n",
        "words_metrics_2_ = {}\n",
        "i = 0\n",
        "for k in tqdm(words_to_encode.keys()):\n",
        "  words_metrics_1_[k] = 0\n",
        "  words_metrics_2_[k] = 0\n",
        "  groups = []\n",
        "  for g in words_to_encode[k].keys():\n",
        "    groups.append(g)\n",
        "  words_metrics_1_[k] = model.encode(words_to_encode[k][groups[0]])\n",
        "  words_metrics_2_[k] = model.encode(words_to_encode[k][groups[1]])\n",
        "with open(\"/content/drive/MyDrive/words_metrics_1_.pickle\", \"wb\") as file:\n",
        "    pickle.dump(words_metrics_1_, file)\n",
        "with open(\"/content/drive/MyDrive/words_metrics_2_.pickle\", \"wb\") as file:\n",
        "    pickle.dump(words_metrics_2_, file)"
      ]
    },
    {
      "cell_type": "code",
      "execution_count": null,
      "metadata": {
        "id": "18Z6WhAP2WUT"
      },
      "outputs": [],
      "source": [
        "with open(\"/content/drive/MyDrive/words_metrics_1_.pickle\", \"rb\") as file:\n",
        "    words_metrics_1_ = pickle.load(file)\n",
        "with open(\"/content/drive/MyDrive/words_metrics_2_.pickle\", \"rb\") as file:\n",
        "    words_metrics_2_ = pickle.load(file)"
      ]
    },
    {
      "cell_type": "markdown",
      "source": [
        "Для каждого слова сравниваем попарно все его употребления в разные периоды и выводим среднее значение метрики simantic change distance"
      ],
      "metadata": {
        "id": "SEdYexiDQVgw"
      }
    },
    {
      "cell_type": "code",
      "execution_count": null,
      "metadata": {
        "colab": {
          "base_uri": "https://localhost:8080/"
        },
        "id": "KITauxW-_ly0",
        "outputId": "43c78af1-0729-42d4-c976-5902bda5aba7"
      },
      "outputs": [
        {
          "output_type": "stream",
          "name": "stderr",
          "text": [
            "100%|██████████| 111/111 [01:08<00:00,  1.62it/s]"
          ]
        },
        {
          "output_type": "stream",
          "name": "stdout",
          "text": [
            "{'апостол': 1.5020183725211094, 'веер': 1.3934205916446305, 'бригада': 1.4252952883747998, 'блин': 1.3750609378719414, 'благодарность': 1.432597731351687, 'блондин': 1.3153430697931792, 'брат': 1.419599283336067, 'век': 1.4346139821229669, 'амбиция': 1.3994306234577132, 'авторитет': 1.408091398230734, 'дух': 1.4475107968145033, 'возраст': 1.4390783327155008, 'железо': 1.3966482590043798, 'жесть': 1.4032616107368627, 'головка': 1.397857454089018, 'дядька': 1.3577066099293027, 'вызов': 1.4384923091439068, 'грех': 1.4219263460556337, 'дядя': 1.3713269360715066, 'верховье': 1.3651557264928529, 'издательство': 1.4653330962722164, 'кабан': 1.351390883730697, 'итальянец': 1.4292641683929128, 'завод': 1.4212732003762072, 'земля': 1.5491341902148923, 'крушение': 1.4226605747170487, 'карман': 1.3963206959632468, 'живот': 1.4398906574753088, 'заблуждение': 1.3782029337054487, 'закладка': 1.458158552357957, 'любовь': 1.4783408448833344, 'лишение': 1.442029531070698, 'маньяк': 1.3468917728422203, 'лечение': 1.4290405298809905, 'лох': 1.6432446640999006, 'кулиса': 1.405707882428759, 'локоть': 1.2954883994658588, 'линейка': 1.3361234763581074, 'любовник': 1.417302792202606, 'крыша': 1.3383176093015183, 'пафос': 1.3791868611721814, 'монстр': 1.4592730702675134, 'обоснование': 1.3821103364007468, 'писк': 1.325246663372471, 'наложение': 1.509132876393494, 'огонь': 1.4073052835428415, 'наволочка': 1.3438970751231454, 'памятник': 1.4201384804068125, 'облако': 1.3707048777647146, 'название': 1.4864064985258136, 'поэзия': 1.383582661984842, 'понедельник': 1.4166895542977682, 'поколение': 1.4348893569159868, 'полость': 1.3855092488377911, 'план': 1.4350242397310211, 'помощник': 1.467835995526056, 'полукруг': 1.3500517428425527, 'половинка': 1.4385778622379513, 'полоса': 1.4401486266585648, 'поставщик': 1.4143437657974671, 'пролетарий': 1.4338517648086953, 'прецедент': 1.3509825234844162, 'проникновение': 1.433704804520266, 'радикал': 1.5273952891589764, 'правда': 1.4720756054160447, 'прорыв': 1.3989617164075019, 'путь': 1.502110202805909, 'предательство': 1.394418739099316, 'размышление': 1.404231366861186, 'промышленность': 1.3911918289816516, 'собрат': 1.4312265095765158, 'союзник': 1.4221427950380083, 'ранец': 1.4163295041952504, 'расчет': 1.452057091626165, 'риторика': 1.3862984655308133, 'роспись': 1.5341321420055674, 'сверстник': 1.3881630576381623, 'совершенство': 1.4709831115532008, 'советчик': 1.4051643804021239, 'связка': 1.3556650519278421, 'стена': 1.393949196864336, 'тачка': 1.4078868696970341, 'спутник': 1.4194586617461322, 'список': 1.4481559026000497, 'углеводород': 1.372849784094387, 'тупик': 1.3496048750288656, 'стол': 1.3945471829437068, 'увольнение': 1.383562369074415, 'стипендия': 1.32324112782895, 'ссылка': 1.4124225937264934, 'хор': 1.4847003335463305, 'университет': 1.4149732343219321, 'уклад': 1.431464958051173, 'формат': 1.4558566638024584, 'хозяйка': 1.365505068655253, 'фаворит': 1.4360176574195114, 'хрен': 1.391403057336724, 'удобство': 1.445051846132185, 'формула': 1.5261575814143422, 'установление': 1.476216001758744, 'чек': 1.4156618686046523, 'эшелон': 1.3110303377649168, 'ядро': 1.49789723053448, 'юбилей': 1.3846595156056543, 'частица': 1.524654931907507, 'четверть': 1.4965118809122828, 'штаб': 1.3938203231144644, 'центр': 1.4744508170954187, 'цифра': 1.4903832487422817, 'цензура': 1.346769960917338, 'ясли': 1.4437782126080398}\n"
          ]
        },
        {
          "output_type": "stream",
          "name": "stderr",
          "text": [
            "\n"
          ]
        }
      ],
      "source": [
        "metric = itml.get_metric()\n",
        "word_dist = {}\n",
        "for target_word in tqdm(rus_words):\n",
        "  count = 0\n",
        "  dist_sum = 0\n",
        "  for word_vec_1 in words_metrics_1_[target_word]:\n",
        "    for word_vec_2 in words_metrics_2_[target_word]:\n",
        "      dist = metric(word_vec_1, word_vec_2)\n",
        "      dist_sum += dist\n",
        "      count += 1\n",
        "  word_dist[target_word] = dist_sum/count\n",
        "print(word_dist)"
      ]
    },
    {
      "cell_type": "code",
      "source": [
        "print(max(list(word_dist.values())))\n",
        "print(min(list(word_dist.values())))"
      ],
      "metadata": {
        "colab": {
          "base_uri": "https://localhost:8080/"
        },
        "id": "OguhZ-m4wqWs",
        "outputId": "4beaec01-f148-43ff-8c47-679095cff08a"
      },
      "execution_count": null,
      "outputs": [
        {
          "output_type": "stream",
          "name": "stdout",
          "text": [
            "1.6432446640999006\n",
            "1.2954883994658588\n"
          ]
        }
      ]
    },
    {
      "cell_type": "markdown",
      "source": [
        "Посмотрим на эталонные оценки, выставленные экспертами. Оценки выставлялись следующим образом\n",
        "\n",
        "*  0 - Трудно пределить\n",
        "*  1 - Значения разные\n",
        "*  2 - Значения сильно дистанцированы\n",
        "*  3 - Значения близки\n",
        "*  4 - Значения полностью идентичны\n",
        "\n",
        "\n",
        "\n",
        "\n",
        "\n",
        "\n"
      ],
      "metadata": {
        "id": "7M4DdHOTRC48"
      }
    },
    {
      "cell_type": "code",
      "execution_count": null,
      "metadata": {
        "id": "c94QotNtnuv3"
      },
      "outputs": [],
      "source": [
        "with open('/content/drive/MyDrive/annotated_all.tsv', 'r') as file:\n",
        "  gold_metrics = file.readlines()"
      ]
    },
    {
      "cell_type": "code",
      "execution_count": null,
      "metadata": {
        "colab": {
          "base_uri": "https://localhost:8080/"
        },
        "id": "J1-8sbmTKamC",
        "outputId": "1425866e-9406-4731-97e2-749afc68c28e"
      },
      "outputs": [
        {
          "output_type": "stream",
          "name": "stdout",
          "text": [
            "{'авторитет': 3.2333333333333334, 'амбиция': 3.111111111111111, 'апостол': 3.4941176470588236, 'благодарность': 3.2333333333333334, 'блин': 3.2134831460674156, 'блондин': 3.9444444444444446, 'брат': 3.2247191011235956, 'бригада': 2.8, 'веер': 2.550561797752809, 'век': 3.2, 'верховье': 3.689655172413793, 'возраст': 3.477777777777778, 'вызов': 2.1777777777777776, 'головка': 2.2045454545454546, 'грех': 3.488888888888889, 'дух': 2.3222222222222224, 'дядька': 2.5930232558139537, 'дядя': 3.3777777777777778, 'железо': 2.2, 'жесть': 3.235955056179775, 'живот': 2.911111111111111, 'заблуждение': 3.5, 'завод': 3.226086956521739, 'закладка': 1.9333333333333333, 'земля': 2.8392857142857144, 'издательство': 3.533333333333333, 'итальянец': 3.707865168539326, 'кабан': 3.6, 'карман': 3.466666666666667, 'крушение': 2.752808988764045, 'крыша': 3.574712643678161, 'кулиса': 3.1666666666666665, 'лечение': 3.6555555555555554, 'линейка': 1.879120879120879, 'лишение': 2.9444444444444446, 'локоть': 3.2777777777777777, 'лох': 1.07, 'любовник': 3.4555555555555557, 'любовь': 3.292134831460674, 'маньяк': 3.088888888888889, 'монстр': 2.6, 'наволочка': 3.6179775280898876, 'название': 3.489130434782609, 'наложение': 1.9555555555555555, 'облако': 3.1797752808988764, 'обоснование': 3.741573033707865, 'огонь': 2.101123595505618, 'памятник': 2.888888888888889, 'пафос': 3.3444444444444446, 'писк': 3.2111111111111112, 'план': 2.6777777777777776, 'поколение': 3.433333333333333, 'половинка': 2.5168539325842696, 'полоса': 1.839080459770115, 'полость': 2.2333333333333334, 'полукруг': 2.7888888888888888, 'помощник': 3.3828125, 'понедельник': 3.7777777777777777, 'поставщик': 3.566666666666667, 'поэзия': 3.2298850574712645, 'правда': 3.1333333333333333, 'предательство': 3.6741573033707864, 'прецедент': 3.522222222222222, 'пролетарий': 3.4, 'промышленность': 3.2448979591836733, 'проникновение': 2.7555555555555555, 'прорыв': 2.088888888888889, 'путь': 2.4157303370786516, 'радикал': 1.4276729559748427, 'размышление': 3.522222222222222, 'ранец': 3.6, 'расчет': 2.0, 'риторика': 3.067415730337079, 'роспись': 1.4382022471910112, 'сверстник': 3.8666666666666667, 'связка': 2.3333333333333335, 'собрат': 3.4555555555555557, 'совершенство': 2.955056179775281, 'советчик': 3.2222222222222223, 'союзник': 3.6666666666666665, 'список': 3.2808988764044944, 'спутник': 2.961783439490446, 'ссылка': 2.8777777777777778, 'стена': 3.1, 'стипендия': 3.8, 'стол': 3.50561797752809, 'тачка': 3.397727272727273, 'тупик': 3.1797752808988764, 'увольнение': 3.2111111111111112, 'углеводород': 3.688888888888889, 'удобство': 2.433333333333333, 'уклад': 3.3333333333333335, 'университет': 3.5444444444444443, 'установление': 2.2808988764044944, 'фаворит': 3.1555555555555554, 'формат': 2.842696629213483, 'формула': 2.811111111111111, 'хозяйка': 3.2555555555555555, 'хор': 2.6666666666666665, 'хрен': 1.8, 'цензура': 3.49438202247191, 'центр': 2.1444444444444444, 'цифра': 2.966666666666667, 'частица': 1.9666666666666666, 'чек': 2.3777777777777778, 'четверть': 2.258426966292135, 'штаб': 3.6333333333333333, 'эшелон': 2.922222222222222, 'юбилей': 3.688888888888889, 'ядро': 1.5543478260869565, 'ясли': 2.2808988764044944}\n"
          ]
        }
      ],
      "source": [
        "gold = {}\n",
        "for l in gold_metrics:\n",
        "  gold[l.split('\\t')[0]] = float(l.split('\\t')[1])\n",
        "print(gold)"
      ]
    },
    {
      "cell_type": "markdown",
      "source": [
        "Посмотрим на корреляцию"
      ],
      "metadata": {
        "id": "gfJMzOOTR0UH"
      }
    },
    {
      "cell_type": "code",
      "execution_count": null,
      "metadata": {
        "colab": {
          "base_uri": "https://localhost:8080/"
        },
        "id": "D2PR5hyRKuus",
        "outputId": "5f08625b-7aae-4df5-fe23-ddd4a4ee7d98"
      },
      "outputs": [
        {
          "output_type": "stream",
          "name": "stderr",
          "text": [
            "100%|██████████| 111/111 [00:00<00:00, 64367.17it/s]\n"
          ]
        }
      ],
      "source": [
        "trues = []\n",
        "preds = []\n",
        "for target_word in tqdm(rus_words):\n",
        "  try:\n",
        "    trues.append(gold[target_word])\n",
        "    preds.append(word_dist[target_word])\n",
        "  except:\n",
        "    pass"
      ]
    },
    {
      "cell_type": "code",
      "execution_count": null,
      "metadata": {
        "id": "KeFnIYXoxAnM"
      },
      "outputs": [],
      "source": [
        "res = spearmanr(np.array(trues), np.array(preds))"
      ]
    },
    {
      "cell_type": "code",
      "execution_count": null,
      "metadata": {
        "colab": {
          "base_uri": "https://localhost:8080/"
        },
        "id": "_w1pLvSOxAjU",
        "outputId": "af3574f4-6d4b-49fa-c6b3-4db83c491f86"
      },
      "outputs": [
        {
          "output_type": "execute_result",
          "data": {
            "text/plain": [
              "SignificanceResult(statistic=-0.4356792104582177, pvalue=2.728270337733736e-06)"
            ]
          },
          "metadata": {},
          "execution_count": 18
        }
      ],
      "source": [
        "res"
      ]
    },
    {
      "cell_type": "markdown",
      "source": [
        "Есть отрицательная корреляция - чем выше simantic change distance - тем ниже долны быть оценки"
      ],
      "metadata": {
        "id": "qy752mt2R7if"
      }
    },
    {
      "cell_type": "markdown",
      "source": [
        "Посмотрим детально"
      ],
      "metadata": {
        "id": "czcVp2fqSTpJ"
      }
    },
    {
      "cell_type": "markdown",
      "source": [
        "Для каждого слова посчитаем среднее значение метки \"одинаковости\" при его использовании в разные эпохи"
      ],
      "metadata": {
        "id": "XxT-zDJWTHzJ"
      }
    },
    {
      "cell_type": "code",
      "execution_count": null,
      "metadata": {
        "colab": {
          "base_uri": "https://localhost:8080/"
        },
        "id": "w9Eev2FWMYUK",
        "outputId": "401979db-9c27-4303-8dc4-1290dd06a397"
      },
      "outputs": [
        {
          "output_type": "stream",
          "name": "stderr",
          "text": [
            "100%|██████████| 111/111 [01:37<00:00,  1.14it/s]\n"
          ]
        }
      ],
      "source": [
        "metric = itml.get_metric()\n",
        "word_dist = {}\n",
        "for target_word in tqdm(rus_words):\n",
        "  count = 0\n",
        "  lbl_count = []\n",
        "  for word_vec_1 in words_metrics_1_[target_word]:\n",
        "    for word_vec_2 in words_metrics_2_[target_word]:\n",
        "        lbl = itml.predict(np.array([word_vec_1,word_vec_2]).reshape(1,2,-1))\n",
        "        lbl_count.append(lbl)\n",
        "  word_dist[target_word] = lbl_count"
      ]
    },
    {
      "cell_type": "code",
      "execution_count": null,
      "metadata": {
        "id": "dBVh82kMMYM8",
        "colab": {
          "base_uri": "https://localhost:8080/"
        },
        "outputId": "d965c073-5db2-483f-b60c-fc644fb837c5"
      },
      "outputs": [
        {
          "output_type": "stream",
          "name": "stdout",
          "text": [
            "апостол = -0.7455410225921522\n",
            "веер = -0.4666666666666667\n",
            "бригада = -0.4288888888888889\n",
            "блин = -0.3333333333333333\n",
            "благодарность = -0.5866666666666667\n",
            "блондин = -0.1\n",
            "брат = -0.5666666666666667\n",
            "век = -0.5957193816884662\n",
            "амбиция = -0.4888888888888889\n",
            "авторитет = -0.5466666666666666\n",
            "дух = -0.7577777777777778\n",
            "возраст = -0.7222222222222222\n",
            "железо = -0.4822222222222222\n",
            "жесть = -0.29555555555555557\n",
            "головка = -0.5111111111111111\n",
            "дядька = -0.3460166468489893\n",
            "вызов = -0.6377777777777778\n",
            "грех = -0.4822222222222222\n",
            "дядя = -0.36444444444444446\n",
            "верховье = -0.17333333333333334\n",
            "издательство = -0.4888888888888889\n",
            "кабан = -0.21555555555555556\n",
            "итальянец = -0.5933333333333334\n",
            "завод = -0.5711111111111111\n",
            "земля = -0.7444444444444445\n",
            "крушение = -0.6\n",
            "карман = -0.4266666666666667\n",
            "живот = -0.4955555555555556\n",
            "заблуждение = -0.33111111111111113\n",
            "закладка = -0.7155555555555555\n",
            "любовь = -0.6333333333333333\n",
            "лишение = -0.5955555555555555\n",
            "маньяк = -0.24222222222222223\n",
            "лечение = -0.6888888888888889\n",
            "лох = -0.7037037037037037\n",
            "кулиса = -0.3488888888888889\n",
            "локоть = 0.05333333333333334\n",
            "линейка = -0.18222222222222223\n",
            "любовник = -0.44222222222222224\n",
            "крыша = -0.08204518430439953\n",
            "пафос = -0.33111111111111113\n",
            "монстр = -0.5866666666666667\n",
            "обоснование = -0.46\n",
            "писк = -0.022222222222222223\n",
            "наложение = -0.8622222222222222\n",
            "огонь = -0.43555555555555553\n",
            "наволочка = -0.06\n",
            "памятник = -0.5888888888888889\n",
            "облако = -0.36666666666666664\n",
            "название = -0.7755555555555556\n",
            "поэзия = -0.41973840665873957\n",
            "понедельник = -0.4622222222222222\n",
            "поколение = -0.6577777777777778\n",
            "полость = -0.45555555555555555\n",
            "план = -0.6244444444444445\n",
            "помощник = -0.6066666666666667\n",
            "полукруг = -0.28888888888888886\n",
            "половинка = -0.6422222222222222\n",
            "полоса = -0.6028537455410226\n",
            "поставщик = -0.5911111111111111\n",
            "пролетарий = -0.6133333333333333\n",
            "прецедент = -0.17333333333333334\n",
            "проникновение = -0.6066666666666667\n",
            "радикал = -0.6955555555555556\n",
            "правда = -0.58\n",
            "прорыв = -0.40444444444444444\n",
            "путь = -0.7244444444444444\n",
            "предательство = -0.4622222222222222\n",
            "размышление = -0.41333333333333333\n",
            "промышленность = -0.4688888888888889\n",
            "собрат = -0.5844444444444444\n",
            "союзник = -0.5133333333333333\n",
            "ранец = -0.24444444444444444\n",
            "расчет = -0.6222222222222222\n",
            "риторика = -0.31555555555555553\n",
            "роспись = -0.8044444444444444\n",
            "сверстник = -0.2511111111111111\n",
            "совершенство = -0.5955555555555555\n",
            "советчик = -0.5044444444444445\n",
            "связка = -0.3511111111111111\n",
            "стена = -0.44666666666666666\n",
            "тачка = -0.43333333333333335\n",
            "спутник = -0.6177777777777778\n",
            "список = -0.62\n",
            "углеводород = -0.28888888888888886\n",
            "тупик = -0.3711111111111111\n",
            "стол = -0.45111111111111113\n",
            "увольнение = -0.39555555555555555\n",
            "стипендия = -0.07111111111111111\n",
            "ссылка = -0.47333333333333333\n",
            "хор = -0.6644444444444444\n",
            "университет = -0.5622222222222222\n",
            "уклад = -0.64\n",
            "формат = -0.5822222222222222\n",
            "хозяйка = -0.27555555555555555\n",
            "фаворит = -0.5644444444444444\n",
            "хрен = -0.3977777777777778\n",
            "удобство = -0.72\n",
            "формула = -0.7977777777777778\n",
            "установление = -0.7755555555555556\n",
            "чек = -0.5311111111111111\n",
            "эшелон = -0.06444444444444444\n",
            "ядро = -0.7666666666666667\n",
            "юбилей = -0.37555555555555553\n",
            "частица = -0.82\n",
            "четверть = -0.6266666666666667\n",
            "штаб = -0.4066666666666667\n",
            "центр = -0.7688888888888888\n",
            "цифра = -0.7555555555555555\n",
            "цензура = -0.2288888888888889\n",
            "ясли = -0.5977777777777777\n"
          ]
        }
      ],
      "source": [
        "for k in word_dist.keys():\n",
        "  print(k, '=',np.array(word_dist[k]).mean())"
      ]
    },
    {
      "cell_type": "markdown",
      "source": [
        "Для конкретного слова, например, \"цензура\". Средняя экспертная оценка: 3.49438202247191, то есть значение практически не поменялось. Средняя метка модели: -0.2288888888888889 - близка к нулю, что также говорит о близости значений.\n"
      ],
      "metadata": {
        "id": "6sG8xf9sSZKv"
      }
    },
    {
      "cell_type": "markdown",
      "source": [
        "Тем временем для слова \"частица\" оценка экспертов 1.9666666666666666 - значение сильно поменялось. Средняя метка на основе семантического расстояния равна -0.82, что также говорит о сильном изменении значения слова."
      ],
      "metadata": {
        "id": "ta5S5dDtUEEu"
      }
    },
    {
      "cell_type": "markdown",
      "source": [
        "Теперь посмотрим работу на задаче Semeval"
      ],
      "metadata": {
        "id": "UBF4oP5NL3LJ"
      }
    },
    {
      "cell_type": "markdown",
      "source": [
        "Зашружаем данные"
      ],
      "metadata": {
        "id": "BymjmOguRyL7"
      }
    },
    {
      "cell_type": "code",
      "source": [
        "with open('/content/drive/MyDrive/semeval/ccoha1.txt', 'r') as file:\n",
        "  ccoha1 = file.readlines()"
      ],
      "metadata": {
        "id": "QTlHgecIZTX-"
      },
      "execution_count": null,
      "outputs": []
    },
    {
      "cell_type": "code",
      "source": [
        "with open('/content/drive/MyDrive/semeval/ccoha2.txt', 'r') as file:\n",
        "  ccoha2 = file.readlines()"
      ],
      "metadata": {
        "id": "Hsp0df-VZikM"
      },
      "execution_count": null,
      "outputs": []
    },
    {
      "cell_type": "code",
      "source": [
        "with open('/content/drive/MyDrive/semeval/lem_ccoha1.txt', 'r') as file:\n",
        "  lem_ccoha1 = file.readlines()"
      ],
      "metadata": {
        "id": "ZhBYVLW-3Q6V"
      },
      "execution_count": null,
      "outputs": []
    },
    {
      "cell_type": "code",
      "source": [
        "with open('/content/drive/MyDrive/semeval/lem_ccoha2.txt', 'r') as file:\n",
        "  lem_ccoha2 = file.readlines()"
      ],
      "metadata": {
        "id": "KmSK2s533Qw-"
      },
      "execution_count": null,
      "outputs": []
    },
    {
      "cell_type": "code",
      "source": [
        "with open('/content/drive/MyDrive/semeval/targets.txt', 'r') as file:\n",
        "  targets = file.readlines()"
      ],
      "metadata": {
        "id": "0BxHqWj8Zl7Z"
      },
      "execution_count": null,
      "outputs": []
    },
    {
      "cell_type": "code",
      "source": [
        "with open('/content/drive/MyDrive/semeval/graded.txt', 'r') as file:\n",
        "  graded = file.readlines()"
      ],
      "metadata": {
        "id": "87P8uTtYNi5P"
      },
      "execution_count": null,
      "outputs": []
    },
    {
      "cell_type": "code",
      "source": [
        "targets = [wrd.split('_')[0] for wrd in targets]"
      ],
      "metadata": {
        "id": "eHpAhF8mZbnn"
      },
      "execution_count": null,
      "outputs": []
    },
    {
      "cell_type": "code",
      "source": [
        "graded_dict = {}\n",
        "for line in graded:\n",
        "  graded_dict[line.split('\\t')[0].split('_')[0]]=float(line.split('\\t')[1])\n",
        "print(graded_dict)"
      ],
      "metadata": {
        "colab": {
          "base_uri": "https://localhost:8080/"
        },
        "id": "QZzG1lRqNtuj",
        "outputId": "79644732-fcd6-439f-b2ba-41bc18c64bdf"
      },
      "execution_count": null,
      "outputs": [
        {
          "output_type": "stream",
          "name": "stdout",
          "text": [
            "{'attack': 0.1439699927, 'bag': 0.1003636619, 'ball': 0.4093665525, 'bit': 0.3065766263, 'chairman': 0.0, 'circle': 0.1710871199, 'contemplation': 0.070838721, 'donkey': 0.1601038896, 'edge': 0.2609655868, 'face': 0.137791275, 'fiction': 0.0207232682, 'gas': 0.1595695865, 'graft': 0.5539755971, 'head': 0.2952561247, 'land': 0.2234476353, 'lane': 0.1037200629, 'lass': 0.2125896937, 'multitude': 0.1003636619, 'ounce': 0.2848990681, 'part': 0.161270809, 'pin': 0.2072118595, 'plane': 0.8823475834, 'player': 0.2736674651, 'prop': 0.624759971, 'quilt': 0.1231453661, 'rag': 0.2765152931, 'record': 0.4273504707, 'relationship': 0.0562177896, 'risk': 0.0, 'savage': 0.0968689424, 'stab': 0.4005896829, 'stroke': 0.1762311532, 'thump': 0.1429915711, 'tip': 0.6788987615, 'tree': 0.070838721, 'twist': 0.3984926634, 'word': 0.1793071623}\n"
          ]
        }
      ]
    },
    {
      "cell_type": "markdown",
      "source": [
        "Функция парсинга данных"
      ],
      "metadata": {
        "id": "EvLDawPAR3LM"
      }
    },
    {
      "cell_type": "code",
      "source": [
        "def parser_semeval(lem_ccoha_list, ccoha_list, targets):\n",
        "  text = {}\n",
        "  positions = {}\n",
        "  ind_sentence = {}\n",
        "  ind_word = {}\n",
        "  for w in targets:\n",
        "    text[w] = []\n",
        "    positions[w] = []\n",
        "    ind_sentence[w] = []\n",
        "    ind_word[w] = []\n",
        "    for sentence in lem_ccoha_list:\n",
        "      p1 = 0\n",
        "      p2 = 0\n",
        "      if w in sentence.split(' '):\n",
        "        text[w].append(sentence)\n",
        "        for word in sentence.split(' ')[:sentence.split(' ').index(w)+1]:\n",
        "          p2+=len(word) + 1\n",
        "          p1 = p2-len(word)\n",
        "        positions[w].append((p1-1,p2-1))\n",
        "  return text, positions"
      ],
      "metadata": {
        "id": "jOCHgxtlaDr5"
      },
      "execution_count": null,
      "outputs": []
    },
    {
      "cell_type": "code",
      "source": [
        "sentence_1, positions_1 = parser_semeval(lem_ccoha1,ccoha1,targets)"
      ],
      "metadata": {
        "id": "pwGi5ptaiJk3"
      },
      "execution_count": null,
      "outputs": []
    },
    {
      "cell_type": "code",
      "source": [
        "sentence_2, positions_2 = parser_semeval(lem_ccoha2,ccoha2,targets)"
      ],
      "metadata": {
        "id": "77KN0M_pizaY"
      },
      "execution_count": null,
      "outputs": []
    },
    {
      "cell_type": "markdown",
      "source": [
        "Получаем эмбединги"
      ],
      "metadata": {
        "id": "XmW9IUFjR86F"
      }
    },
    {
      "cell_type": "code",
      "source": [
        "def encoder_semeval (s_1, s_2, p_1, p_2):\n",
        "  data_1 = {}\n",
        "  data_2 = {}\n",
        "  for d in tqdm(s_1.keys()):\n",
        "    data_1[d] = 0\n",
        "    data_2[d] = 0\n",
        "    examples1 = []\n",
        "    examples2 = []\n",
        "    for num, sample in enumerate(s_1[d]):\n",
        "      example1 = InputExample(texts=sample, positions=[p_1[d][num][0],p_1[d][num][1]])\n",
        "      examples1.append(example1)\n",
        "    data_1[d] = model.encode(examples1)\n",
        "    for num, sample in enumerate(s_2[d]):\n",
        "      example2 = InputExample(texts=sample, positions=[p_2[d][num][0],p_2[d][num][1]])\n",
        "      examples2.append(example2)\n",
        "    data_2[d] = model.encode(examples2)\n",
        "  return data_1, data_2"
      ],
      "metadata": {
        "id": "tUgEDA1PsrIB"
      },
      "execution_count": null,
      "outputs": []
    },
    {
      "cell_type": "code",
      "source": [
        "encoded_corp_1, encoded_corp_2 = encoder_semeval(sentence_1,sentence_2,positions_1,positions_2)"
      ],
      "metadata": {
        "colab": {
          "base_uri": "https://localhost:8080/"
        },
        "id": "g_UhWyzKsuiE",
        "outputId": "6b99d4a3-57db-482c-9765-25966a361c6e"
      },
      "execution_count": null,
      "outputs": [
        {
          "output_type": "stream",
          "name": "stderr",
          "text": [
            "100%|██████████| 37/37 [2:23:28<00:00, 232.67s/it]\n"
          ]
        }
      ]
    },
    {
      "cell_type": "markdown",
      "source": [
        "Сохраняем полученные эмбединги"
      ],
      "metadata": {
        "id": "846q5nxtSAsJ"
      }
    },
    {
      "cell_type": "code",
      "source": [
        "with open(\"/content/drive/MyDrive/semeval/encoded_corp_1.pickle\", \"wb\") as file:\n",
        "    pickle.dump(encoded_corp_1, file)\n",
        "with open(\"/content/drive/MyDrive/semeval/encoded_corp_2.pickle\", \"wb\") as file:\n",
        "    pickle.dump(encoded_corp_2, file)"
      ],
      "metadata": {
        "id": "AUW9OQdZfsIs"
      },
      "execution_count": null,
      "outputs": []
    },
    {
      "cell_type": "code",
      "source": [
        "with open('/content/drive/MyDrive/semeval/encoded_corp_1.pickle', 'rb') as file:\n",
        "  encoded_corp_1 = pickle.load(file)\n",
        "with open('/content/drive/MyDrive/semeval/encoded_corp_2.pickle', 'rb') as file:\n",
        "  encoded_corp_2 = pickle.load(file)"
      ],
      "metadata": {
        "id": "WWJ-MeTo7gMl"
      },
      "execution_count": null,
      "outputs": []
    },
    {
      "cell_type": "markdown",
      "source": [
        "Загружаем модель с наилучшими параметрами"
      ],
      "metadata": {
        "id": "vlwRynVPSFb-"
      }
    },
    {
      "cell_type": "code",
      "source": [
        "with open('/content/drive/MyDrive/itml_models/itml_gamma=0.1.plk', \"rb\") as file:\n",
        "  itml = pickle.load(file)"
      ],
      "metadata": {
        "id": "K5NrrJQ_Kdp7"
      },
      "execution_count": null,
      "outputs": []
    },
    {
      "cell_type": "markdown",
      "source": [
        "Посмотрим, как отличаются значения слов в разных корпусах текстов"
      ],
      "metadata": {
        "id": "zuGMVTW3ScL9"
      }
    },
    {
      "cell_type": "code",
      "source": [
        "res = {}\n",
        "for d in tqdm(encoded_corp_1.keys()):\n",
        "  res[d] = []\n",
        "  for i in range(len(encoded_corp_1[d])):\n",
        "    for j in range(len(encoded_corp_2[d])):\n",
        "      res[d].append(itml.predict(np.array([encoded_corp_1[d][i],encoded_corp_2[d][j]]).reshape(1,2,-1)))"
      ],
      "metadata": {
        "colab": {
          "base_uri": "https://localhost:8080/"
        },
        "id": "hSIDuBgOKLfK",
        "outputId": "c535c7a6-29f5-4724-9fc2-4b496f7054b5"
      },
      "execution_count": null,
      "outputs": [
        {
          "output_type": "stream",
          "name": "stderr",
          "text": [
            "100%|██████████| 37/37 [22:40<00:00, 36.77s/it]\n"
          ]
        }
      ]
    },
    {
      "cell_type": "markdown",
      "source": [
        "Средние значения получившихся оценок для каждого слова"
      ],
      "metadata": {
        "id": "CddMUeJiSmpK"
      }
    },
    {
      "cell_type": "code",
      "source": [
        "for word in res.keys():\n",
        "  for i, lbl in enumerate(res[word]):\n",
        "    if lbl == -1:\n",
        "      res[word][i] = 1\n",
        "    else:\n",
        "      res[word][i] = 0\n",
        "  print(word, '=', np.array([res[word]]).mean())"
      ],
      "metadata": {
        "id": "Hfz0cmQ1zxIj",
        "colab": {
          "base_uri": "https://localhost:8080/"
        },
        "outputId": "738140cd-f27a-4286-cac7-8e6c7f050257"
      },
      "execution_count": null,
      "outputs": [
        {
          "output_type": "stream",
          "name": "stdout",
          "text": [
            "attack = 0.9708210784313726\n",
            "bag = 0.9714285714285714\n",
            "ball = 0.9947916666666666\n",
            "bit = 0.9296952681757034\n",
            "chairman = 0.84\n",
            "circle = 0.9645881782945737\n",
            "contemplation = nan\n",
            "donkey = nan\n",
            "edge = 0.9823232323232324\n"
          ]
        },
        {
          "output_type": "stream",
          "name": "stderr",
          "text": [
            "<ipython-input-7-b90b6464241b>:7: RuntimeWarning: Mean of empty slice.\n",
            "  print(word, '=', np.array([res[word]]).mean())\n",
            "/usr/local/lib/python3.10/dist-packages/numpy/core/_methods.py:129: RuntimeWarning: invalid value encountered in scalar divide\n",
            "  ret = ret.dtype.type(ret / rcount)\n"
          ]
        },
        {
          "output_type": "stream",
          "name": "stdout",
          "text": [
            "face = 0.9813527066760467\n",
            "fiction = nan\n",
            "gas = nan\n",
            "graft = 0.984313725490196\n",
            "head = 0.9860421735604218\n",
            "land = 0.9702172096908939\n",
            "lane = 0.8333333333333334\n",
            "lass = nan\n",
            "multitude = nan\n",
            "ounce = nan\n",
            "part = 0.9718833711106531\n",
            "pin = 0.9798711755233495\n",
            "plane = 0.9583333333333334\n",
            "player = nan\n",
            "prop = 0.977656405163853\n",
            "quilt = 0.98\n",
            "rag = 1.0\n",
            "record = 0.9841896590946021\n",
            "relationship = nan\n",
            "risk = 0.9380635624538064\n",
            "savage = 0.950894538606403\n",
            "stab = 0.9534465020576132\n",
            "stroke = 0.9754975310489301\n",
            "thump = 0.9358288770053476\n",
            "tip = 0.978787498431028\n",
            "tree = 1.0\n",
            "twist = 0.9731967992837558\n",
            "word = 0.9423076923076923\n"
          ]
        }
      ]
    },
    {
      "cell_type": "markdown",
      "source": [
        "Для всех слов модель посчитала, что значения в для двух корпусов предложений отличаются"
      ],
      "metadata": {
        "id": "FPgHSt6JS4rR"
      }
    },
    {
      "cell_type": "markdown",
      "source": [
        "Сравним с эталоном"
      ],
      "metadata": {
        "id": "IA3RfRuHS094"
      }
    },
    {
      "cell_type": "code",
      "source": [
        "with open('/content/drive/MyDrive/semeval/binary.txt', 'r') as file:\n",
        "  binary = file.readlines()\n",
        "for line in binary:\n",
        "  print(line.split('\\t')[0].split('_')[0], \" - \", line.split('\\t')[1][0])"
      ],
      "metadata": {
        "colab": {
          "base_uri": "https://localhost:8080/"
        },
        "id": "waTTtWhqTJP0",
        "outputId": "e1718d45-ed1e-480f-c5fa-c98a2ee215b5"
      },
      "execution_count": null,
      "outputs": [
        {
          "output_type": "stream",
          "name": "stdout",
          "text": [
            "attack  -  1\n",
            "bag  -  0\n",
            "ball  -  0\n",
            "bit  -  1\n",
            "chairman  -  0\n",
            "circle  -  1\n",
            "contemplation  -  0\n",
            "donkey  -  0\n",
            "edge  -  1\n",
            "face  -  0\n",
            "fiction  -  0\n",
            "gas  -  0\n",
            "graft  -  1\n",
            "head  -  1\n",
            "land  -  1\n",
            "lane  -  0\n",
            "lass  -  1\n",
            "multitude  -  0\n",
            "ounce  -  0\n",
            "part  -  0\n",
            "pin  -  0\n",
            "plane  -  1\n",
            "player  -  1\n",
            "prop  -  1\n",
            "quilt  -  0\n",
            "rag  -  1\n",
            "record  -  1\n",
            "relationship  -  0\n",
            "risk  -  0\n",
            "savage  -  0\n",
            "stab  -  1\n",
            "stroke  -  0\n",
            "thump  -  1\n",
            "tip  -  1\n",
            "tree  -  0\n",
            "twist  -  0\n",
            "word  -  0\n"
          ]
        }
      ]
    },
    {
      "cell_type": "markdown",
      "source": [
        "С помощью коэффициента корреляции сравним метрики близости для полученной модели и эталона."
      ],
      "metadata": {
        "id": "d6RzilTuSusD"
      }
    },
    {
      "cell_type": "code",
      "source": [
        "metric = itml.get_metric()\n",
        "word_dist_semeval = {}\n",
        "for target_word in tqdm(targets):\n",
        "  count = 0\n",
        "  dist_sum = 0\n",
        "  for word_vec_1 in encoded_corp_1[target_word]:\n",
        "    for word_vec_2 in encoded_corp_2[target_word]:\n",
        "      dist = metric(word_vec_1, word_vec_2)\n",
        "      dist_sum += dist\n",
        "      count += 1\n",
        "  try:\n",
        "    word_dist_semeval[target_word] = dist_sum/count\n",
        "  except:\n",
        "    pass\n",
        "print(word_dist_semeval)"
      ],
      "metadata": {
        "colab": {
          "base_uri": "https://localhost:8080/"
        },
        "id": "lztomVeCK4rE",
        "outputId": "efd85b8c-66b9-4f02-fb3f-f7d99d6fb2bb"
      },
      "execution_count": null,
      "outputs": [
        {
          "output_type": "stream",
          "name": "stderr",
          "text": [
            "100%|██████████| 37/37 [09:55<00:00, 16.09s/it]"
          ]
        },
        {
          "output_type": "stream",
          "name": "stdout",
          "text": [
            "{'attack': 1.5136992352158156, 'bag': 1.5270193883465162, 'ball': 1.5596091426653282, 'bit': 1.4407684607900397, 'chairman': 1.4080480860135176, 'circle': 1.5308094813428466, 'edge': 1.6024887463131854, 'face': 1.5635563131722674, 'graft': 1.5466858755333281, 'head': 1.5635658933169942, 'land': 1.5206968061034383, 'lane': 1.3543607904973893, 'part': 1.532328568299047, 'pin': 1.5764486042632981, 'plane': 1.4398314637015617, 'prop': 1.5717406837397612, 'quilt': 1.5388396104463464, 'rag': 1.4931494328465151, 'record': 1.557592911592575, 'risk': 1.4594642847246206, 'savage': 1.4768165223490333, 'stab': 1.4881632564530916, 'stroke': 1.5453796263988977, 'thump': 1.4824651297779126, 'tip': 1.545527944783831, 'tree': 1.731240437337663, 'twist': 1.5480308111969565, 'word': 1.481131896836426}\n"
          ]
        },
        {
          "output_type": "stream",
          "name": "stderr",
          "text": [
            "\n"
          ]
        }
      ]
    },
    {
      "cell_type": "code",
      "source": [
        "trues = []\n",
        "preds = []\n",
        "for target_word in tqdm(word_dist_semeval.keys()):\n",
        "    trues.append(graded_dict[target_word])\n",
        "    preds.append(word_dist_semeval[target_word])"
      ],
      "metadata": {
        "colab": {
          "base_uri": "https://localhost:8080/"
        },
        "id": "CGJOPfBaP57g",
        "outputId": "d28802fc-0da8-44e4-d96a-c65f6fd4824d"
      },
      "execution_count": null,
      "outputs": [
        {
          "output_type": "stream",
          "name": "stderr",
          "text": [
            "100%|██████████| 28/28 [00:00<00:00, 141665.27it/s]\n"
          ]
        }
      ]
    },
    {
      "cell_type": "code",
      "source": [
        "res = spearmanr(np.array(trues), np.array(preds))\n",
        "res"
      ],
      "metadata": {
        "colab": {
          "base_uri": "https://localhost:8080/"
        },
        "id": "_Z5YOCwIP-ge",
        "outputId": "6affdf89-dbb7-4a25-a358-c77999a39c8d"
      },
      "execution_count": null,
      "outputs": [
        {
          "output_type": "execute_result",
          "data": {
            "text/plain": [
              "SignificanceResult(statistic=0.2805528971120218, pvalue=0.14815160592833443)"
            ]
          },
          "metadata": {},
          "execution_count": 34
        }
      ]
    }
  ],
  "metadata": {
    "colab": {
      "provenance": [],
      "mount_file_id": "1162Usv4XfUpvfI0TWjD1ZxBlizgB8OQe",
      "authorship_tag": "ABX9TyNQ48DzE8YIDNGQ3y3DfkUK",
      "include_colab_link": true
    },
    "kernelspec": {
      "display_name": "Python 3",
      "name": "python3"
    },
    "language_info": {
      "name": "python"
    },
    "widgets": {
      "application/vnd.jupyter.widget-state+json": {
        "bbe26053da804a1b9b4299fd4f9066cb": {
          "model_module": "@jupyter-widgets/controls",
          "model_name": "HBoxModel",
          "model_module_version": "1.5.0",
          "state": {
            "_dom_classes": [],
            "_model_module": "@jupyter-widgets/controls",
            "_model_module_version": "1.5.0",
            "_model_name": "HBoxModel",
            "_view_count": null,
            "_view_module": "@jupyter-widgets/controls",
            "_view_module_version": "1.5.0",
            "_view_name": "HBoxView",
            "box_style": "",
            "children": [
              "IPY_MODEL_bd2a451b1acd4da290426c119cc49cad",
              "IPY_MODEL_84c1eef9d46e4db4b3d9d60946c7b219",
              "IPY_MODEL_645a5fd39ddb4fc882d8b3715bc8e0ce"
            ],
            "layout": "IPY_MODEL_598f02a6431245349f71936fcb2121ac"
          }
        },
        "bd2a451b1acd4da290426c119cc49cad": {
          "model_module": "@jupyter-widgets/controls",
          "model_name": "HTMLModel",
          "model_module_version": "1.5.0",
          "state": {
            "_dom_classes": [],
            "_model_module": "@jupyter-widgets/controls",
            "_model_module_version": "1.5.0",
            "_model_name": "HTMLModel",
            "_view_count": null,
            "_view_module": "@jupyter-widgets/controls",
            "_view_module_version": "1.5.0",
            "_view_name": "HTMLView",
            "description": "",
            "description_tooltip": null,
            "layout": "IPY_MODEL_b522f4beb00b410ba68e25154e698e48",
            "placeholder": "​",
            "style": "IPY_MODEL_0e2825da355348f68d93c4976e392817",
            "value": ".gitattributes: 100%"
          }
        },
        "84c1eef9d46e4db4b3d9d60946c7b219": {
          "model_module": "@jupyter-widgets/controls",
          "model_name": "FloatProgressModel",
          "model_module_version": "1.5.0",
          "state": {
            "_dom_classes": [],
            "_model_module": "@jupyter-widgets/controls",
            "_model_module_version": "1.5.0",
            "_model_name": "FloatProgressModel",
            "_view_count": null,
            "_view_module": "@jupyter-widgets/controls",
            "_view_module_version": "1.5.0",
            "_view_name": "ProgressView",
            "bar_style": "success",
            "description": "",
            "description_tooltip": null,
            "layout": "IPY_MODEL_4aab385c473a4ed2ad58afdd66fc59d6",
            "max": 623,
            "min": 0,
            "orientation": "horizontal",
            "style": "IPY_MODEL_f1ac03d465994764b659467f4c84538c",
            "value": 623
          }
        },
        "645a5fd39ddb4fc882d8b3715bc8e0ce": {
          "model_module": "@jupyter-widgets/controls",
          "model_name": "HTMLModel",
          "model_module_version": "1.5.0",
          "state": {
            "_dom_classes": [],
            "_model_module": "@jupyter-widgets/controls",
            "_model_module_version": "1.5.0",
            "_model_name": "HTMLModel",
            "_view_count": null,
            "_view_module": "@jupyter-widgets/controls",
            "_view_module_version": "1.5.0",
            "_view_name": "HTMLView",
            "description": "",
            "description_tooltip": null,
            "layout": "IPY_MODEL_d925407816e1467985c8588d731c2bfd",
            "placeholder": "​",
            "style": "IPY_MODEL_9f0688fc216f4342bdd8579f6fbb7661",
            "value": " 623/623 [00:00&lt;00:00, 35.2kB/s]"
          }
        },
        "598f02a6431245349f71936fcb2121ac": {
          "model_module": "@jupyter-widgets/base",
          "model_name": "LayoutModel",
          "model_module_version": "1.2.0",
          "state": {
            "_model_module": "@jupyter-widgets/base",
            "_model_module_version": "1.2.0",
            "_model_name": "LayoutModel",
            "_view_count": null,
            "_view_module": "@jupyter-widgets/base",
            "_view_module_version": "1.2.0",
            "_view_name": "LayoutView",
            "align_content": null,
            "align_items": null,
            "align_self": null,
            "border": null,
            "bottom": null,
            "display": null,
            "flex": null,
            "flex_flow": null,
            "grid_area": null,
            "grid_auto_columns": null,
            "grid_auto_flow": null,
            "grid_auto_rows": null,
            "grid_column": null,
            "grid_gap": null,
            "grid_row": null,
            "grid_template_areas": null,
            "grid_template_columns": null,
            "grid_template_rows": null,
            "height": null,
            "justify_content": null,
            "justify_items": null,
            "left": null,
            "margin": null,
            "max_height": null,
            "max_width": null,
            "min_height": null,
            "min_width": null,
            "object_fit": null,
            "object_position": null,
            "order": null,
            "overflow": null,
            "overflow_x": null,
            "overflow_y": null,
            "padding": null,
            "right": null,
            "top": null,
            "visibility": null,
            "width": null
          }
        },
        "b522f4beb00b410ba68e25154e698e48": {
          "model_module": "@jupyter-widgets/base",
          "model_name": "LayoutModel",
          "model_module_version": "1.2.0",
          "state": {
            "_model_module": "@jupyter-widgets/base",
            "_model_module_version": "1.2.0",
            "_model_name": "LayoutModel",
            "_view_count": null,
            "_view_module": "@jupyter-widgets/base",
            "_view_module_version": "1.2.0",
            "_view_name": "LayoutView",
            "align_content": null,
            "align_items": null,
            "align_self": null,
            "border": null,
            "bottom": null,
            "display": null,
            "flex": null,
            "flex_flow": null,
            "grid_area": null,
            "grid_auto_columns": null,
            "grid_auto_flow": null,
            "grid_auto_rows": null,
            "grid_column": null,
            "grid_gap": null,
            "grid_row": null,
            "grid_template_areas": null,
            "grid_template_columns": null,
            "grid_template_rows": null,
            "height": null,
            "justify_content": null,
            "justify_items": null,
            "left": null,
            "margin": null,
            "max_height": null,
            "max_width": null,
            "min_height": null,
            "min_width": null,
            "object_fit": null,
            "object_position": null,
            "order": null,
            "overflow": null,
            "overflow_x": null,
            "overflow_y": null,
            "padding": null,
            "right": null,
            "top": null,
            "visibility": null,
            "width": null
          }
        },
        "0e2825da355348f68d93c4976e392817": {
          "model_module": "@jupyter-widgets/controls",
          "model_name": "DescriptionStyleModel",
          "model_module_version": "1.5.0",
          "state": {
            "_model_module": "@jupyter-widgets/controls",
            "_model_module_version": "1.5.0",
            "_model_name": "DescriptionStyleModel",
            "_view_count": null,
            "_view_module": "@jupyter-widgets/base",
            "_view_module_version": "1.2.0",
            "_view_name": "StyleView",
            "description_width": ""
          }
        },
        "4aab385c473a4ed2ad58afdd66fc59d6": {
          "model_module": "@jupyter-widgets/base",
          "model_name": "LayoutModel",
          "model_module_version": "1.2.0",
          "state": {
            "_model_module": "@jupyter-widgets/base",
            "_model_module_version": "1.2.0",
            "_model_name": "LayoutModel",
            "_view_count": null,
            "_view_module": "@jupyter-widgets/base",
            "_view_module_version": "1.2.0",
            "_view_name": "LayoutView",
            "align_content": null,
            "align_items": null,
            "align_self": null,
            "border": null,
            "bottom": null,
            "display": null,
            "flex": null,
            "flex_flow": null,
            "grid_area": null,
            "grid_auto_columns": null,
            "grid_auto_flow": null,
            "grid_auto_rows": null,
            "grid_column": null,
            "grid_gap": null,
            "grid_row": null,
            "grid_template_areas": null,
            "grid_template_columns": null,
            "grid_template_rows": null,
            "height": null,
            "justify_content": null,
            "justify_items": null,
            "left": null,
            "margin": null,
            "max_height": null,
            "max_width": null,
            "min_height": null,
            "min_width": null,
            "object_fit": null,
            "object_position": null,
            "order": null,
            "overflow": null,
            "overflow_x": null,
            "overflow_y": null,
            "padding": null,
            "right": null,
            "top": null,
            "visibility": null,
            "width": null
          }
        },
        "f1ac03d465994764b659467f4c84538c": {
          "model_module": "@jupyter-widgets/controls",
          "model_name": "ProgressStyleModel",
          "model_module_version": "1.5.0",
          "state": {
            "_model_module": "@jupyter-widgets/controls",
            "_model_module_version": "1.5.0",
            "_model_name": "ProgressStyleModel",
            "_view_count": null,
            "_view_module": "@jupyter-widgets/base",
            "_view_module_version": "1.2.0",
            "_view_name": "StyleView",
            "bar_color": null,
            "description_width": ""
          }
        },
        "d925407816e1467985c8588d731c2bfd": {
          "model_module": "@jupyter-widgets/base",
          "model_name": "LayoutModel",
          "model_module_version": "1.2.0",
          "state": {
            "_model_module": "@jupyter-widgets/base",
            "_model_module_version": "1.2.0",
            "_model_name": "LayoutModel",
            "_view_count": null,
            "_view_module": "@jupyter-widgets/base",
            "_view_module_version": "1.2.0",
            "_view_name": "LayoutView",
            "align_content": null,
            "align_items": null,
            "align_self": null,
            "border": null,
            "bottom": null,
            "display": null,
            "flex": null,
            "flex_flow": null,
            "grid_area": null,
            "grid_auto_columns": null,
            "grid_auto_flow": null,
            "grid_auto_rows": null,
            "grid_column": null,
            "grid_gap": null,
            "grid_row": null,
            "grid_template_areas": null,
            "grid_template_columns": null,
            "grid_template_rows": null,
            "height": null,
            "justify_content": null,
            "justify_items": null,
            "left": null,
            "margin": null,
            "max_height": null,
            "max_width": null,
            "min_height": null,
            "min_width": null,
            "object_fit": null,
            "object_position": null,
            "order": null,
            "overflow": null,
            "overflow_x": null,
            "overflow_y": null,
            "padding": null,
            "right": null,
            "top": null,
            "visibility": null,
            "width": null
          }
        },
        "9f0688fc216f4342bdd8579f6fbb7661": {
          "model_module": "@jupyter-widgets/controls",
          "model_name": "DescriptionStyleModel",
          "model_module_version": "1.5.0",
          "state": {
            "_model_module": "@jupyter-widgets/controls",
            "_model_module_version": "1.5.0",
            "_model_name": "DescriptionStyleModel",
            "_view_count": null,
            "_view_module": "@jupyter-widgets/base",
            "_view_module_version": "1.2.0",
            "_view_name": "StyleView",
            "description_width": ""
          }
        },
        "c6739d9f10a94645b7b38e18c7a019c8": {
          "model_module": "@jupyter-widgets/controls",
          "model_name": "HBoxModel",
          "model_module_version": "1.5.0",
          "state": {
            "_dom_classes": [],
            "_model_module": "@jupyter-widgets/controls",
            "_model_module_version": "1.5.0",
            "_model_name": "HBoxModel",
            "_view_count": null,
            "_view_module": "@jupyter-widgets/controls",
            "_view_module_version": "1.5.0",
            "_view_name": "HBoxView",
            "box_style": "",
            "children": [
              "IPY_MODEL_d1ac6c6a6cb74834b31c9c5987f58ea6",
              "IPY_MODEL_2544940ba0494df39247144d5836c97a",
              "IPY_MODEL_14c5ea60c6714f948a1d0f18b1b8959d"
            ],
            "layout": "IPY_MODEL_7533eef3f77d4105b014314d4a1cad45"
          }
        },
        "d1ac6c6a6cb74834b31c9c5987f58ea6": {
          "model_module": "@jupyter-widgets/controls",
          "model_name": "HTMLModel",
          "model_module_version": "1.5.0",
          "state": {
            "_dom_classes": [],
            "_model_module": "@jupyter-widgets/controls",
            "_model_module_version": "1.5.0",
            "_model_name": "HTMLModel",
            "_view_count": null,
            "_view_module": "@jupyter-widgets/controls",
            "_view_module_version": "1.5.0",
            "_view_name": "HTMLView",
            "description": "",
            "description_tooltip": null,
            "layout": "IPY_MODEL_b445f501162341449097425a06a2e0b7",
            "placeholder": "​",
            "style": "IPY_MODEL_96fac16abcd8409a9b75ef29363071d0",
            "value": "README.md: 100%"
          }
        },
        "2544940ba0494df39247144d5836c97a": {
          "model_module": "@jupyter-widgets/controls",
          "model_name": "FloatProgressModel",
          "model_module_version": "1.5.0",
          "state": {
            "_dom_classes": [],
            "_model_module": "@jupyter-widgets/controls",
            "_model_module_version": "1.5.0",
            "_model_name": "FloatProgressModel",
            "_view_count": null,
            "_view_module": "@jupyter-widgets/controls",
            "_view_module_version": "1.5.0",
            "_view_name": "ProgressView",
            "bar_style": "success",
            "description": "",
            "description_tooltip": null,
            "layout": "IPY_MODEL_e098397177774acca81489f5b066055c",
            "max": 5241,
            "min": 0,
            "orientation": "horizontal",
            "style": "IPY_MODEL_dc5a28b046f14fb5bc8fa0255618ab08",
            "value": 5241
          }
        },
        "14c5ea60c6714f948a1d0f18b1b8959d": {
          "model_module": "@jupyter-widgets/controls",
          "model_name": "HTMLModel",
          "model_module_version": "1.5.0",
          "state": {
            "_dom_classes": [],
            "_model_module": "@jupyter-widgets/controls",
            "_model_module_version": "1.5.0",
            "_model_name": "HTMLModel",
            "_view_count": null,
            "_view_module": "@jupyter-widgets/controls",
            "_view_module_version": "1.5.0",
            "_view_name": "HTMLView",
            "description": "",
            "description_tooltip": null,
            "layout": "IPY_MODEL_37d851dfca2b4b6386374bbaeb0408b9",
            "placeholder": "​",
            "style": "IPY_MODEL_b8bb906840d141d887087b1495c8900a",
            "value": " 5.24k/5.24k [00:00&lt;00:00, 192kB/s]"
          }
        },
        "7533eef3f77d4105b014314d4a1cad45": {
          "model_module": "@jupyter-widgets/base",
          "model_name": "LayoutModel",
          "model_module_version": "1.2.0",
          "state": {
            "_model_module": "@jupyter-widgets/base",
            "_model_module_version": "1.2.0",
            "_model_name": "LayoutModel",
            "_view_count": null,
            "_view_module": "@jupyter-widgets/base",
            "_view_module_version": "1.2.0",
            "_view_name": "LayoutView",
            "align_content": null,
            "align_items": null,
            "align_self": null,
            "border": null,
            "bottom": null,
            "display": null,
            "flex": null,
            "flex_flow": null,
            "grid_area": null,
            "grid_auto_columns": null,
            "grid_auto_flow": null,
            "grid_auto_rows": null,
            "grid_column": null,
            "grid_gap": null,
            "grid_row": null,
            "grid_template_areas": null,
            "grid_template_columns": null,
            "grid_template_rows": null,
            "height": null,
            "justify_content": null,
            "justify_items": null,
            "left": null,
            "margin": null,
            "max_height": null,
            "max_width": null,
            "min_height": null,
            "min_width": null,
            "object_fit": null,
            "object_position": null,
            "order": null,
            "overflow": null,
            "overflow_x": null,
            "overflow_y": null,
            "padding": null,
            "right": null,
            "top": null,
            "visibility": null,
            "width": null
          }
        },
        "b445f501162341449097425a06a2e0b7": {
          "model_module": "@jupyter-widgets/base",
          "model_name": "LayoutModel",
          "model_module_version": "1.2.0",
          "state": {
            "_model_module": "@jupyter-widgets/base",
            "_model_module_version": "1.2.0",
            "_model_name": "LayoutModel",
            "_view_count": null,
            "_view_module": "@jupyter-widgets/base",
            "_view_module_version": "1.2.0",
            "_view_name": "LayoutView",
            "align_content": null,
            "align_items": null,
            "align_self": null,
            "border": null,
            "bottom": null,
            "display": null,
            "flex": null,
            "flex_flow": null,
            "grid_area": null,
            "grid_auto_columns": null,
            "grid_auto_flow": null,
            "grid_auto_rows": null,
            "grid_column": null,
            "grid_gap": null,
            "grid_row": null,
            "grid_template_areas": null,
            "grid_template_columns": null,
            "grid_template_rows": null,
            "height": null,
            "justify_content": null,
            "justify_items": null,
            "left": null,
            "margin": null,
            "max_height": null,
            "max_width": null,
            "min_height": null,
            "min_width": null,
            "object_fit": null,
            "object_position": null,
            "order": null,
            "overflow": null,
            "overflow_x": null,
            "overflow_y": null,
            "padding": null,
            "right": null,
            "top": null,
            "visibility": null,
            "width": null
          }
        },
        "96fac16abcd8409a9b75ef29363071d0": {
          "model_module": "@jupyter-widgets/controls",
          "model_name": "DescriptionStyleModel",
          "model_module_version": "1.5.0",
          "state": {
            "_model_module": "@jupyter-widgets/controls",
            "_model_module_version": "1.5.0",
            "_model_name": "DescriptionStyleModel",
            "_view_count": null,
            "_view_module": "@jupyter-widgets/base",
            "_view_module_version": "1.2.0",
            "_view_name": "StyleView",
            "description_width": ""
          }
        },
        "e098397177774acca81489f5b066055c": {
          "model_module": "@jupyter-widgets/base",
          "model_name": "LayoutModel",
          "model_module_version": "1.2.0",
          "state": {
            "_model_module": "@jupyter-widgets/base",
            "_model_module_version": "1.2.0",
            "_model_name": "LayoutModel",
            "_view_count": null,
            "_view_module": "@jupyter-widgets/base",
            "_view_module_version": "1.2.0",
            "_view_name": "LayoutView",
            "align_content": null,
            "align_items": null,
            "align_self": null,
            "border": null,
            "bottom": null,
            "display": null,
            "flex": null,
            "flex_flow": null,
            "grid_area": null,
            "grid_auto_columns": null,
            "grid_auto_flow": null,
            "grid_auto_rows": null,
            "grid_column": null,
            "grid_gap": null,
            "grid_row": null,
            "grid_template_areas": null,
            "grid_template_columns": null,
            "grid_template_rows": null,
            "height": null,
            "justify_content": null,
            "justify_items": null,
            "left": null,
            "margin": null,
            "max_height": null,
            "max_width": null,
            "min_height": null,
            "min_width": null,
            "object_fit": null,
            "object_position": null,
            "order": null,
            "overflow": null,
            "overflow_x": null,
            "overflow_y": null,
            "padding": null,
            "right": null,
            "top": null,
            "visibility": null,
            "width": null
          }
        },
        "dc5a28b046f14fb5bc8fa0255618ab08": {
          "model_module": "@jupyter-widgets/controls",
          "model_name": "ProgressStyleModel",
          "model_module_version": "1.5.0",
          "state": {
            "_model_module": "@jupyter-widgets/controls",
            "_model_module_version": "1.5.0",
            "_model_name": "ProgressStyleModel",
            "_view_count": null,
            "_view_module": "@jupyter-widgets/base",
            "_view_module_version": "1.2.0",
            "_view_name": "StyleView",
            "bar_color": null,
            "description_width": ""
          }
        },
        "37d851dfca2b4b6386374bbaeb0408b9": {
          "model_module": "@jupyter-widgets/base",
          "model_name": "LayoutModel",
          "model_module_version": "1.2.0",
          "state": {
            "_model_module": "@jupyter-widgets/base",
            "_model_module_version": "1.2.0",
            "_model_name": "LayoutModel",
            "_view_count": null,
            "_view_module": "@jupyter-widgets/base",
            "_view_module_version": "1.2.0",
            "_view_name": "LayoutView",
            "align_content": null,
            "align_items": null,
            "align_self": null,
            "border": null,
            "bottom": null,
            "display": null,
            "flex": null,
            "flex_flow": null,
            "grid_area": null,
            "grid_auto_columns": null,
            "grid_auto_flow": null,
            "grid_auto_rows": null,
            "grid_column": null,
            "grid_gap": null,
            "grid_row": null,
            "grid_template_areas": null,
            "grid_template_columns": null,
            "grid_template_rows": null,
            "height": null,
            "justify_content": null,
            "justify_items": null,
            "left": null,
            "margin": null,
            "max_height": null,
            "max_width": null,
            "min_height": null,
            "min_width": null,
            "object_fit": null,
            "object_position": null,
            "order": null,
            "overflow": null,
            "overflow_x": null,
            "overflow_y": null,
            "padding": null,
            "right": null,
            "top": null,
            "visibility": null,
            "width": null
          }
        },
        "b8bb906840d141d887087b1495c8900a": {
          "model_module": "@jupyter-widgets/controls",
          "model_name": "DescriptionStyleModel",
          "model_module_version": "1.5.0",
          "state": {
            "_model_module": "@jupyter-widgets/controls",
            "_model_module_version": "1.5.0",
            "_model_name": "DescriptionStyleModel",
            "_view_count": null,
            "_view_module": "@jupyter-widgets/base",
            "_view_module_version": "1.2.0",
            "_view_name": "StyleView",
            "description_width": ""
          }
        },
        "773d68d11f924f5a80fa1862021f072f": {
          "model_module": "@jupyter-widgets/controls",
          "model_name": "HBoxModel",
          "model_module_version": "1.5.0",
          "state": {
            "_dom_classes": [],
            "_model_module": "@jupyter-widgets/controls",
            "_model_module_version": "1.5.0",
            "_model_name": "HBoxModel",
            "_view_count": null,
            "_view_module": "@jupyter-widgets/controls",
            "_view_module_version": "1.5.0",
            "_view_name": "HBoxView",
            "box_style": "",
            "children": [
              "IPY_MODEL_2697b06f41544b19a0830f0b42546d52",
              "IPY_MODEL_fcb8a5e35fb74b99bf487529f45b7454",
              "IPY_MODEL_439b86592452482b9d029242f42a54c6"
            ],
            "layout": "IPY_MODEL_2b68fe5175894a13976d1fed55cfd517"
          }
        },
        "2697b06f41544b19a0830f0b42546d52": {
          "model_module": "@jupyter-widgets/controls",
          "model_name": "HTMLModel",
          "model_module_version": "1.5.0",
          "state": {
            "_dom_classes": [],
            "_model_module": "@jupyter-widgets/controls",
            "_model_module_version": "1.5.0",
            "_model_name": "HTMLModel",
            "_view_count": null,
            "_view_module": "@jupyter-widgets/controls",
            "_view_module_version": "1.5.0",
            "_view_name": "HTMLView",
            "description": "",
            "description_tooltip": null,
            "layout": "IPY_MODEL_215a99edd82a4f53a4d70195504c9fe9",
            "placeholder": "​",
            "style": "IPY_MODEL_8abac9a852a440efb68691bc72c177dc",
            "value": "config.json: 100%"
          }
        },
        "fcb8a5e35fb74b99bf487529f45b7454": {
          "model_module": "@jupyter-widgets/controls",
          "model_name": "FloatProgressModel",
          "model_module_version": "1.5.0",
          "state": {
            "_dom_classes": [],
            "_model_module": "@jupyter-widgets/controls",
            "_model_module_version": "1.5.0",
            "_model_name": "FloatProgressModel",
            "_view_count": null,
            "_view_module": "@jupyter-widgets/controls",
            "_view_module_version": "1.5.0",
            "_view_name": "ProgressView",
            "bar_style": "success",
            "description": "",
            "description_tooltip": null,
            "layout": "IPY_MODEL_d185f8c6003747b6a4aaf2c97910e585",
            "max": 616,
            "min": 0,
            "orientation": "horizontal",
            "style": "IPY_MODEL_c67f2fecc9864f51a1c4c0518e4f6bfd",
            "value": 616
          }
        },
        "439b86592452482b9d029242f42a54c6": {
          "model_module": "@jupyter-widgets/controls",
          "model_name": "HTMLModel",
          "model_module_version": "1.5.0",
          "state": {
            "_dom_classes": [],
            "_model_module": "@jupyter-widgets/controls",
            "_model_module_version": "1.5.0",
            "_model_name": "HTMLModel",
            "_view_count": null,
            "_view_module": "@jupyter-widgets/controls",
            "_view_module_version": "1.5.0",
            "_view_name": "HTMLView",
            "description": "",
            "description_tooltip": null,
            "layout": "IPY_MODEL_cf7ccfc6dc1645abbee58eedd32c63c3",
            "placeholder": "​",
            "style": "IPY_MODEL_37f1d30da6cf49c784ba09e68ace9e2d",
            "value": " 616/616 [00:00&lt;00:00, 33.2kB/s]"
          }
        },
        "2b68fe5175894a13976d1fed55cfd517": {
          "model_module": "@jupyter-widgets/base",
          "model_name": "LayoutModel",
          "model_module_version": "1.2.0",
          "state": {
            "_model_module": "@jupyter-widgets/base",
            "_model_module_version": "1.2.0",
            "_model_name": "LayoutModel",
            "_view_count": null,
            "_view_module": "@jupyter-widgets/base",
            "_view_module_version": "1.2.0",
            "_view_name": "LayoutView",
            "align_content": null,
            "align_items": null,
            "align_self": null,
            "border": null,
            "bottom": null,
            "display": null,
            "flex": null,
            "flex_flow": null,
            "grid_area": null,
            "grid_auto_columns": null,
            "grid_auto_flow": null,
            "grid_auto_rows": null,
            "grid_column": null,
            "grid_gap": null,
            "grid_row": null,
            "grid_template_areas": null,
            "grid_template_columns": null,
            "grid_template_rows": null,
            "height": null,
            "justify_content": null,
            "justify_items": null,
            "left": null,
            "margin": null,
            "max_height": null,
            "max_width": null,
            "min_height": null,
            "min_width": null,
            "object_fit": null,
            "object_position": null,
            "order": null,
            "overflow": null,
            "overflow_x": null,
            "overflow_y": null,
            "padding": null,
            "right": null,
            "top": null,
            "visibility": null,
            "width": null
          }
        },
        "215a99edd82a4f53a4d70195504c9fe9": {
          "model_module": "@jupyter-widgets/base",
          "model_name": "LayoutModel",
          "model_module_version": "1.2.0",
          "state": {
            "_model_module": "@jupyter-widgets/base",
            "_model_module_version": "1.2.0",
            "_model_name": "LayoutModel",
            "_view_count": null,
            "_view_module": "@jupyter-widgets/base",
            "_view_module_version": "1.2.0",
            "_view_name": "LayoutView",
            "align_content": null,
            "align_items": null,
            "align_self": null,
            "border": null,
            "bottom": null,
            "display": null,
            "flex": null,
            "flex_flow": null,
            "grid_area": null,
            "grid_auto_columns": null,
            "grid_auto_flow": null,
            "grid_auto_rows": null,
            "grid_column": null,
            "grid_gap": null,
            "grid_row": null,
            "grid_template_areas": null,
            "grid_template_columns": null,
            "grid_template_rows": null,
            "height": null,
            "justify_content": null,
            "justify_items": null,
            "left": null,
            "margin": null,
            "max_height": null,
            "max_width": null,
            "min_height": null,
            "min_width": null,
            "object_fit": null,
            "object_position": null,
            "order": null,
            "overflow": null,
            "overflow_x": null,
            "overflow_y": null,
            "padding": null,
            "right": null,
            "top": null,
            "visibility": null,
            "width": null
          }
        },
        "8abac9a852a440efb68691bc72c177dc": {
          "model_module": "@jupyter-widgets/controls",
          "model_name": "DescriptionStyleModel",
          "model_module_version": "1.5.0",
          "state": {
            "_model_module": "@jupyter-widgets/controls",
            "_model_module_version": "1.5.0",
            "_model_name": "DescriptionStyleModel",
            "_view_count": null,
            "_view_module": "@jupyter-widgets/base",
            "_view_module_version": "1.2.0",
            "_view_name": "StyleView",
            "description_width": ""
          }
        },
        "d185f8c6003747b6a4aaf2c97910e585": {
          "model_module": "@jupyter-widgets/base",
          "model_name": "LayoutModel",
          "model_module_version": "1.2.0",
          "state": {
            "_model_module": "@jupyter-widgets/base",
            "_model_module_version": "1.2.0",
            "_model_name": "LayoutModel",
            "_view_count": null,
            "_view_module": "@jupyter-widgets/base",
            "_view_module_version": "1.2.0",
            "_view_name": "LayoutView",
            "align_content": null,
            "align_items": null,
            "align_self": null,
            "border": null,
            "bottom": null,
            "display": null,
            "flex": null,
            "flex_flow": null,
            "grid_area": null,
            "grid_auto_columns": null,
            "grid_auto_flow": null,
            "grid_auto_rows": null,
            "grid_column": null,
            "grid_gap": null,
            "grid_row": null,
            "grid_template_areas": null,
            "grid_template_columns": null,
            "grid_template_rows": null,
            "height": null,
            "justify_content": null,
            "justify_items": null,
            "left": null,
            "margin": null,
            "max_height": null,
            "max_width": null,
            "min_height": null,
            "min_width": null,
            "object_fit": null,
            "object_position": null,
            "order": null,
            "overflow": null,
            "overflow_x": null,
            "overflow_y": null,
            "padding": null,
            "right": null,
            "top": null,
            "visibility": null,
            "width": null
          }
        },
        "c67f2fecc9864f51a1c4c0518e4f6bfd": {
          "model_module": "@jupyter-widgets/controls",
          "model_name": "ProgressStyleModel",
          "model_module_version": "1.5.0",
          "state": {
            "_model_module": "@jupyter-widgets/controls",
            "_model_module_version": "1.5.0",
            "_model_name": "ProgressStyleModel",
            "_view_count": null,
            "_view_module": "@jupyter-widgets/base",
            "_view_module_version": "1.2.0",
            "_view_name": "StyleView",
            "bar_color": null,
            "description_width": ""
          }
        },
        "cf7ccfc6dc1645abbee58eedd32c63c3": {
          "model_module": "@jupyter-widgets/base",
          "model_name": "LayoutModel",
          "model_module_version": "1.2.0",
          "state": {
            "_model_module": "@jupyter-widgets/base",
            "_model_module_version": "1.2.0",
            "_model_name": "LayoutModel",
            "_view_count": null,
            "_view_module": "@jupyter-widgets/base",
            "_view_module_version": "1.2.0",
            "_view_name": "LayoutView",
            "align_content": null,
            "align_items": null,
            "align_self": null,
            "border": null,
            "bottom": null,
            "display": null,
            "flex": null,
            "flex_flow": null,
            "grid_area": null,
            "grid_auto_columns": null,
            "grid_auto_flow": null,
            "grid_auto_rows": null,
            "grid_column": null,
            "grid_gap": null,
            "grid_row": null,
            "grid_template_areas": null,
            "grid_template_columns": null,
            "grid_template_rows": null,
            "height": null,
            "justify_content": null,
            "justify_items": null,
            "left": null,
            "margin": null,
            "max_height": null,
            "max_width": null,
            "min_height": null,
            "min_width": null,
            "object_fit": null,
            "object_position": null,
            "order": null,
            "overflow": null,
            "overflow_x": null,
            "overflow_y": null,
            "padding": null,
            "right": null,
            "top": null,
            "visibility": null,
            "width": null
          }
        },
        "37f1d30da6cf49c784ba09e68ace9e2d": {
          "model_module": "@jupyter-widgets/controls",
          "model_name": "DescriptionStyleModel",
          "model_module_version": "1.5.0",
          "state": {
            "_model_module": "@jupyter-widgets/controls",
            "_model_module_version": "1.5.0",
            "_model_name": "DescriptionStyleModel",
            "_view_count": null,
            "_view_module": "@jupyter-widgets/base",
            "_view_module_version": "1.2.0",
            "_view_name": "StyleView",
            "description_width": ""
          }
        },
        "1caf9d631d084b648d7026a1fa0dc2db": {
          "model_module": "@jupyter-widgets/controls",
          "model_name": "HBoxModel",
          "model_module_version": "1.5.0",
          "state": {
            "_dom_classes": [],
            "_model_module": "@jupyter-widgets/controls",
            "_model_module_version": "1.5.0",
            "_model_name": "HBoxModel",
            "_view_count": null,
            "_view_module": "@jupyter-widgets/controls",
            "_view_module_version": "1.5.0",
            "_view_name": "HBoxView",
            "box_style": "",
            "children": [
              "IPY_MODEL_1aa3ee591ac94ae3b71e0eedde213da0",
              "IPY_MODEL_d0ccb371d0884cdda34f6cb5d53d3964",
              "IPY_MODEL_365b4409e1d04276961d7151406d2754"
            ],
            "layout": "IPY_MODEL_0b71711080124ffa9d8dc4e9714a0626"
          }
        },
        "1aa3ee591ac94ae3b71e0eedde213da0": {
          "model_module": "@jupyter-widgets/controls",
          "model_name": "HTMLModel",
          "model_module_version": "1.5.0",
          "state": {
            "_dom_classes": [],
            "_model_module": "@jupyter-widgets/controls",
            "_model_module_version": "1.5.0",
            "_model_name": "HTMLModel",
            "_view_count": null,
            "_view_module": "@jupyter-widgets/controls",
            "_view_module_version": "1.5.0",
            "_view_name": "HTMLView",
            "description": "",
            "description_tooltip": null,
            "layout": "IPY_MODEL_f95f43c939794e2a8dbca40fcff1e577",
            "placeholder": "​",
            "style": "IPY_MODEL_f21c31330ba2423499c2009c1ee6d012",
            "value": "model.safetensors: 100%"
          }
        },
        "d0ccb371d0884cdda34f6cb5d53d3964": {
          "model_module": "@jupyter-widgets/controls",
          "model_name": "FloatProgressModel",
          "model_module_version": "1.5.0",
          "state": {
            "_dom_classes": [],
            "_model_module": "@jupyter-widgets/controls",
            "_model_module_version": "1.5.0",
            "_model_name": "FloatProgressModel",
            "_view_count": null,
            "_view_module": "@jupyter-widgets/controls",
            "_view_module_version": "1.5.0",
            "_view_name": "ProgressView",
            "bar_style": "success",
            "description": "",
            "description_tooltip": null,
            "layout": "IPY_MODEL_6289c72a715a456d8c8aba8280b53b0a",
            "max": 2244817354,
            "min": 0,
            "orientation": "horizontal",
            "style": "IPY_MODEL_179d2e23b18b4ca78b42b71b1eaee0e3",
            "value": 2244817354
          }
        },
        "365b4409e1d04276961d7151406d2754": {
          "model_module": "@jupyter-widgets/controls",
          "model_name": "HTMLModel",
          "model_module_version": "1.5.0",
          "state": {
            "_dom_classes": [],
            "_model_module": "@jupyter-widgets/controls",
            "_model_module_version": "1.5.0",
            "_model_name": "HTMLModel",
            "_view_count": null,
            "_view_module": "@jupyter-widgets/controls",
            "_view_module_version": "1.5.0",
            "_view_name": "HTMLView",
            "description": "",
            "description_tooltip": null,
            "layout": "IPY_MODEL_4b4012bb65cb476891e0567ac9da96fb",
            "placeholder": "​",
            "style": "IPY_MODEL_ce370312774344ad884aa280a39a422f",
            "value": " 2.24G/2.24G [00:23&lt;00:00, 82.2MB/s]"
          }
        },
        "0b71711080124ffa9d8dc4e9714a0626": {
          "model_module": "@jupyter-widgets/base",
          "model_name": "LayoutModel",
          "model_module_version": "1.2.0",
          "state": {
            "_model_module": "@jupyter-widgets/base",
            "_model_module_version": "1.2.0",
            "_model_name": "LayoutModel",
            "_view_count": null,
            "_view_module": "@jupyter-widgets/base",
            "_view_module_version": "1.2.0",
            "_view_name": "LayoutView",
            "align_content": null,
            "align_items": null,
            "align_self": null,
            "border": null,
            "bottom": null,
            "display": null,
            "flex": null,
            "flex_flow": null,
            "grid_area": null,
            "grid_auto_columns": null,
            "grid_auto_flow": null,
            "grid_auto_rows": null,
            "grid_column": null,
            "grid_gap": null,
            "grid_row": null,
            "grid_template_areas": null,
            "grid_template_columns": null,
            "grid_template_rows": null,
            "height": null,
            "justify_content": null,
            "justify_items": null,
            "left": null,
            "margin": null,
            "max_height": null,
            "max_width": null,
            "min_height": null,
            "min_width": null,
            "object_fit": null,
            "object_position": null,
            "order": null,
            "overflow": null,
            "overflow_x": null,
            "overflow_y": null,
            "padding": null,
            "right": null,
            "top": null,
            "visibility": null,
            "width": null
          }
        },
        "f95f43c939794e2a8dbca40fcff1e577": {
          "model_module": "@jupyter-widgets/base",
          "model_name": "LayoutModel",
          "model_module_version": "1.2.0",
          "state": {
            "_model_module": "@jupyter-widgets/base",
            "_model_module_version": "1.2.0",
            "_model_name": "LayoutModel",
            "_view_count": null,
            "_view_module": "@jupyter-widgets/base",
            "_view_module_version": "1.2.0",
            "_view_name": "LayoutView",
            "align_content": null,
            "align_items": null,
            "align_self": null,
            "border": null,
            "bottom": null,
            "display": null,
            "flex": null,
            "flex_flow": null,
            "grid_area": null,
            "grid_auto_columns": null,
            "grid_auto_flow": null,
            "grid_auto_rows": null,
            "grid_column": null,
            "grid_gap": null,
            "grid_row": null,
            "grid_template_areas": null,
            "grid_template_columns": null,
            "grid_template_rows": null,
            "height": null,
            "justify_content": null,
            "justify_items": null,
            "left": null,
            "margin": null,
            "max_height": null,
            "max_width": null,
            "min_height": null,
            "min_width": null,
            "object_fit": null,
            "object_position": null,
            "order": null,
            "overflow": null,
            "overflow_x": null,
            "overflow_y": null,
            "padding": null,
            "right": null,
            "top": null,
            "visibility": null,
            "width": null
          }
        },
        "f21c31330ba2423499c2009c1ee6d012": {
          "model_module": "@jupyter-widgets/controls",
          "model_name": "DescriptionStyleModel",
          "model_module_version": "1.5.0",
          "state": {
            "_model_module": "@jupyter-widgets/controls",
            "_model_module_version": "1.5.0",
            "_model_name": "DescriptionStyleModel",
            "_view_count": null,
            "_view_module": "@jupyter-widgets/base",
            "_view_module_version": "1.2.0",
            "_view_name": "StyleView",
            "description_width": ""
          }
        },
        "6289c72a715a456d8c8aba8280b53b0a": {
          "model_module": "@jupyter-widgets/base",
          "model_name": "LayoutModel",
          "model_module_version": "1.2.0",
          "state": {
            "_model_module": "@jupyter-widgets/base",
            "_model_module_version": "1.2.0",
            "_model_name": "LayoutModel",
            "_view_count": null,
            "_view_module": "@jupyter-widgets/base",
            "_view_module_version": "1.2.0",
            "_view_name": "LayoutView",
            "align_content": null,
            "align_items": null,
            "align_self": null,
            "border": null,
            "bottom": null,
            "display": null,
            "flex": null,
            "flex_flow": null,
            "grid_area": null,
            "grid_auto_columns": null,
            "grid_auto_flow": null,
            "grid_auto_rows": null,
            "grid_column": null,
            "grid_gap": null,
            "grid_row": null,
            "grid_template_areas": null,
            "grid_template_columns": null,
            "grid_template_rows": null,
            "height": null,
            "justify_content": null,
            "justify_items": null,
            "left": null,
            "margin": null,
            "max_height": null,
            "max_width": null,
            "min_height": null,
            "min_width": null,
            "object_fit": null,
            "object_position": null,
            "order": null,
            "overflow": null,
            "overflow_x": null,
            "overflow_y": null,
            "padding": null,
            "right": null,
            "top": null,
            "visibility": null,
            "width": null
          }
        },
        "179d2e23b18b4ca78b42b71b1eaee0e3": {
          "model_module": "@jupyter-widgets/controls",
          "model_name": "ProgressStyleModel",
          "model_module_version": "1.5.0",
          "state": {
            "_model_module": "@jupyter-widgets/controls",
            "_model_module_version": "1.5.0",
            "_model_name": "ProgressStyleModel",
            "_view_count": null,
            "_view_module": "@jupyter-widgets/base",
            "_view_module_version": "1.2.0",
            "_view_name": "StyleView",
            "bar_color": null,
            "description_width": ""
          }
        },
        "4b4012bb65cb476891e0567ac9da96fb": {
          "model_module": "@jupyter-widgets/base",
          "model_name": "LayoutModel",
          "model_module_version": "1.2.0",
          "state": {
            "_model_module": "@jupyter-widgets/base",
            "_model_module_version": "1.2.0",
            "_model_name": "LayoutModel",
            "_view_count": null,
            "_view_module": "@jupyter-widgets/base",
            "_view_module_version": "1.2.0",
            "_view_name": "LayoutView",
            "align_content": null,
            "align_items": null,
            "align_self": null,
            "border": null,
            "bottom": null,
            "display": null,
            "flex": null,
            "flex_flow": null,
            "grid_area": null,
            "grid_auto_columns": null,
            "grid_auto_flow": null,
            "grid_auto_rows": null,
            "grid_column": null,
            "grid_gap": null,
            "grid_row": null,
            "grid_template_areas": null,
            "grid_template_columns": null,
            "grid_template_rows": null,
            "height": null,
            "justify_content": null,
            "justify_items": null,
            "left": null,
            "margin": null,
            "max_height": null,
            "max_width": null,
            "min_height": null,
            "min_width": null,
            "object_fit": null,
            "object_position": null,
            "order": null,
            "overflow": null,
            "overflow_x": null,
            "overflow_y": null,
            "padding": null,
            "right": null,
            "top": null,
            "visibility": null,
            "width": null
          }
        },
        "ce370312774344ad884aa280a39a422f": {
          "model_module": "@jupyter-widgets/controls",
          "model_name": "DescriptionStyleModel",
          "model_module_version": "1.5.0",
          "state": {
            "_model_module": "@jupyter-widgets/controls",
            "_model_module_version": "1.5.0",
            "_model_name": "DescriptionStyleModel",
            "_view_count": null,
            "_view_module": "@jupyter-widgets/base",
            "_view_module_version": "1.2.0",
            "_view_name": "StyleView",
            "description_width": ""
          }
        },
        "944d79733e134328adc6fe3d671b562b": {
          "model_module": "@jupyter-widgets/controls",
          "model_name": "HBoxModel",
          "model_module_version": "1.5.0",
          "state": {
            "_dom_classes": [],
            "_model_module": "@jupyter-widgets/controls",
            "_model_module_version": "1.5.0",
            "_model_name": "HBoxModel",
            "_view_count": null,
            "_view_module": "@jupyter-widgets/controls",
            "_view_module_version": "1.5.0",
            "_view_name": "HBoxView",
            "box_style": "",
            "children": [
              "IPY_MODEL_315897c66e754926b7df761b35450392",
              "IPY_MODEL_ab774b211c974bb18196427e7de5b511",
              "IPY_MODEL_47d10971dd1f4a77b99b068f510010f7"
            ],
            "layout": "IPY_MODEL_81b0e0a5f3524bbcb357e3f077370bdf"
          }
        },
        "315897c66e754926b7df761b35450392": {
          "model_module": "@jupyter-widgets/controls",
          "model_name": "HTMLModel",
          "model_module_version": "1.5.0",
          "state": {
            "_dom_classes": [],
            "_model_module": "@jupyter-widgets/controls",
            "_model_module_version": "1.5.0",
            "_model_name": "HTMLModel",
            "_view_count": null,
            "_view_module": "@jupyter-widgets/controls",
            "_view_module_version": "1.5.0",
            "_view_name": "HTMLView",
            "description": "",
            "description_tooltip": null,
            "layout": "IPY_MODEL_9111bc07cef34b779ec998f03ec0cc5f",
            "placeholder": "​",
            "style": "IPY_MODEL_4b9c9dc7a3b24ad8963ab6475e2415b5",
            "value": "onnx/config.json: 100%"
          }
        },
        "ab774b211c974bb18196427e7de5b511": {
          "model_module": "@jupyter-widgets/controls",
          "model_name": "FloatProgressModel",
          "model_module_version": "1.5.0",
          "state": {
            "_dom_classes": [],
            "_model_module": "@jupyter-widgets/controls",
            "_model_module_version": "1.5.0",
            "_model_name": "FloatProgressModel",
            "_view_count": null,
            "_view_module": "@jupyter-widgets/controls",
            "_view_module_version": "1.5.0",
            "_view_name": "ProgressView",
            "bar_style": "success",
            "description": "",
            "description_tooltip": null,
            "layout": "IPY_MODEL_692ff31a5116491c8a5447b5314729cb",
            "max": 681,
            "min": 0,
            "orientation": "horizontal",
            "style": "IPY_MODEL_ae6d083d748b4d3e9238e584284dff01",
            "value": 681
          }
        },
        "47d10971dd1f4a77b99b068f510010f7": {
          "model_module": "@jupyter-widgets/controls",
          "model_name": "HTMLModel",
          "model_module_version": "1.5.0",
          "state": {
            "_dom_classes": [],
            "_model_module": "@jupyter-widgets/controls",
            "_model_module_version": "1.5.0",
            "_model_name": "HTMLModel",
            "_view_count": null,
            "_view_module": "@jupyter-widgets/controls",
            "_view_module_version": "1.5.0",
            "_view_name": "HTMLView",
            "description": "",
            "description_tooltip": null,
            "layout": "IPY_MODEL_3ea06e24ab4d41fdb3a261f85ab390f7",
            "placeholder": "​",
            "style": "IPY_MODEL_ebaabe271d6c440383e6bb0e887b35db",
            "value": " 681/681 [00:00&lt;00:00, 12.6kB/s]"
          }
        },
        "81b0e0a5f3524bbcb357e3f077370bdf": {
          "model_module": "@jupyter-widgets/base",
          "model_name": "LayoutModel",
          "model_module_version": "1.2.0",
          "state": {
            "_model_module": "@jupyter-widgets/base",
            "_model_module_version": "1.2.0",
            "_model_name": "LayoutModel",
            "_view_count": null,
            "_view_module": "@jupyter-widgets/base",
            "_view_module_version": "1.2.0",
            "_view_name": "LayoutView",
            "align_content": null,
            "align_items": null,
            "align_self": null,
            "border": null,
            "bottom": null,
            "display": null,
            "flex": null,
            "flex_flow": null,
            "grid_area": null,
            "grid_auto_columns": null,
            "grid_auto_flow": null,
            "grid_auto_rows": null,
            "grid_column": null,
            "grid_gap": null,
            "grid_row": null,
            "grid_template_areas": null,
            "grid_template_columns": null,
            "grid_template_rows": null,
            "height": null,
            "justify_content": null,
            "justify_items": null,
            "left": null,
            "margin": null,
            "max_height": null,
            "max_width": null,
            "min_height": null,
            "min_width": null,
            "object_fit": null,
            "object_position": null,
            "order": null,
            "overflow": null,
            "overflow_x": null,
            "overflow_y": null,
            "padding": null,
            "right": null,
            "top": null,
            "visibility": null,
            "width": null
          }
        },
        "9111bc07cef34b779ec998f03ec0cc5f": {
          "model_module": "@jupyter-widgets/base",
          "model_name": "LayoutModel",
          "model_module_version": "1.2.0",
          "state": {
            "_model_module": "@jupyter-widgets/base",
            "_model_module_version": "1.2.0",
            "_model_name": "LayoutModel",
            "_view_count": null,
            "_view_module": "@jupyter-widgets/base",
            "_view_module_version": "1.2.0",
            "_view_name": "LayoutView",
            "align_content": null,
            "align_items": null,
            "align_self": null,
            "border": null,
            "bottom": null,
            "display": null,
            "flex": null,
            "flex_flow": null,
            "grid_area": null,
            "grid_auto_columns": null,
            "grid_auto_flow": null,
            "grid_auto_rows": null,
            "grid_column": null,
            "grid_gap": null,
            "grid_row": null,
            "grid_template_areas": null,
            "grid_template_columns": null,
            "grid_template_rows": null,
            "height": null,
            "justify_content": null,
            "justify_items": null,
            "left": null,
            "margin": null,
            "max_height": null,
            "max_width": null,
            "min_height": null,
            "min_width": null,
            "object_fit": null,
            "object_position": null,
            "order": null,
            "overflow": null,
            "overflow_x": null,
            "overflow_y": null,
            "padding": null,
            "right": null,
            "top": null,
            "visibility": null,
            "width": null
          }
        },
        "4b9c9dc7a3b24ad8963ab6475e2415b5": {
          "model_module": "@jupyter-widgets/controls",
          "model_name": "DescriptionStyleModel",
          "model_module_version": "1.5.0",
          "state": {
            "_model_module": "@jupyter-widgets/controls",
            "_model_module_version": "1.5.0",
            "_model_name": "DescriptionStyleModel",
            "_view_count": null,
            "_view_module": "@jupyter-widgets/base",
            "_view_module_version": "1.2.0",
            "_view_name": "StyleView",
            "description_width": ""
          }
        },
        "692ff31a5116491c8a5447b5314729cb": {
          "model_module": "@jupyter-widgets/base",
          "model_name": "LayoutModel",
          "model_module_version": "1.2.0",
          "state": {
            "_model_module": "@jupyter-widgets/base",
            "_model_module_version": "1.2.0",
            "_model_name": "LayoutModel",
            "_view_count": null,
            "_view_module": "@jupyter-widgets/base",
            "_view_module_version": "1.2.0",
            "_view_name": "LayoutView",
            "align_content": null,
            "align_items": null,
            "align_self": null,
            "border": null,
            "bottom": null,
            "display": null,
            "flex": null,
            "flex_flow": null,
            "grid_area": null,
            "grid_auto_columns": null,
            "grid_auto_flow": null,
            "grid_auto_rows": null,
            "grid_column": null,
            "grid_gap": null,
            "grid_row": null,
            "grid_template_areas": null,
            "grid_template_columns": null,
            "grid_template_rows": null,
            "height": null,
            "justify_content": null,
            "justify_items": null,
            "left": null,
            "margin": null,
            "max_height": null,
            "max_width": null,
            "min_height": null,
            "min_width": null,
            "object_fit": null,
            "object_position": null,
            "order": null,
            "overflow": null,
            "overflow_x": null,
            "overflow_y": null,
            "padding": null,
            "right": null,
            "top": null,
            "visibility": null,
            "width": null
          }
        },
        "ae6d083d748b4d3e9238e584284dff01": {
          "model_module": "@jupyter-widgets/controls",
          "model_name": "ProgressStyleModel",
          "model_module_version": "1.5.0",
          "state": {
            "_model_module": "@jupyter-widgets/controls",
            "_model_module_version": "1.5.0",
            "_model_name": "ProgressStyleModel",
            "_view_count": null,
            "_view_module": "@jupyter-widgets/base",
            "_view_module_version": "1.2.0",
            "_view_name": "StyleView",
            "bar_color": null,
            "description_width": ""
          }
        },
        "3ea06e24ab4d41fdb3a261f85ab390f7": {
          "model_module": "@jupyter-widgets/base",
          "model_name": "LayoutModel",
          "model_module_version": "1.2.0",
          "state": {
            "_model_module": "@jupyter-widgets/base",
            "_model_module_version": "1.2.0",
            "_model_name": "LayoutModel",
            "_view_count": null,
            "_view_module": "@jupyter-widgets/base",
            "_view_module_version": "1.2.0",
            "_view_name": "LayoutView",
            "align_content": null,
            "align_items": null,
            "align_self": null,
            "border": null,
            "bottom": null,
            "display": null,
            "flex": null,
            "flex_flow": null,
            "grid_area": null,
            "grid_auto_columns": null,
            "grid_auto_flow": null,
            "grid_auto_rows": null,
            "grid_column": null,
            "grid_gap": null,
            "grid_row": null,
            "grid_template_areas": null,
            "grid_template_columns": null,
            "grid_template_rows": null,
            "height": null,
            "justify_content": null,
            "justify_items": null,
            "left": null,
            "margin": null,
            "max_height": null,
            "max_width": null,
            "min_height": null,
            "min_width": null,
            "object_fit": null,
            "object_position": null,
            "order": null,
            "overflow": null,
            "overflow_x": null,
            "overflow_y": null,
            "padding": null,
            "right": null,
            "top": null,
            "visibility": null,
            "width": null
          }
        },
        "ebaabe271d6c440383e6bb0e887b35db": {
          "model_module": "@jupyter-widgets/controls",
          "model_name": "DescriptionStyleModel",
          "model_module_version": "1.5.0",
          "state": {
            "_model_module": "@jupyter-widgets/controls",
            "_model_module_version": "1.5.0",
            "_model_name": "DescriptionStyleModel",
            "_view_count": null,
            "_view_module": "@jupyter-widgets/base",
            "_view_module_version": "1.2.0",
            "_view_name": "StyleView",
            "description_width": ""
          }
        },
        "0282f4818c044dc7b3a1a15af64dc1bb": {
          "model_module": "@jupyter-widgets/controls",
          "model_name": "HBoxModel",
          "model_module_version": "1.5.0",
          "state": {
            "_dom_classes": [],
            "_model_module": "@jupyter-widgets/controls",
            "_model_module_version": "1.5.0",
            "_model_name": "HBoxModel",
            "_view_count": null,
            "_view_module": "@jupyter-widgets/controls",
            "_view_module_version": "1.5.0",
            "_view_name": "HBoxView",
            "box_style": "",
            "children": [
              "IPY_MODEL_f7194301670e47b4ba7e80ea9488b368",
              "IPY_MODEL_2050596bc1904701bd00678355563195",
              "IPY_MODEL_1f4fe1326a38492a80be93339993719d"
            ],
            "layout": "IPY_MODEL_70a1545ad9794c4cb48f519cf932af44"
          }
        },
        "f7194301670e47b4ba7e80ea9488b368": {
          "model_module": "@jupyter-widgets/controls",
          "model_name": "HTMLModel",
          "model_module_version": "1.5.0",
          "state": {
            "_dom_classes": [],
            "_model_module": "@jupyter-widgets/controls",
            "_model_module_version": "1.5.0",
            "_model_name": "HTMLModel",
            "_view_count": null,
            "_view_module": "@jupyter-widgets/controls",
            "_view_module_version": "1.5.0",
            "_view_name": "HTMLView",
            "description": "",
            "description_tooltip": null,
            "layout": "IPY_MODEL_60f9ada9282449be876a55982ce0375c",
            "placeholder": "​",
            "style": "IPY_MODEL_a4ea6ea317d34e8a893339344bc5d5e9",
            "value": "model.onnx: 100%"
          }
        },
        "2050596bc1904701bd00678355563195": {
          "model_module": "@jupyter-widgets/controls",
          "model_name": "FloatProgressModel",
          "model_module_version": "1.5.0",
          "state": {
            "_dom_classes": [],
            "_model_module": "@jupyter-widgets/controls",
            "_model_module_version": "1.5.0",
            "_model_name": "FloatProgressModel",
            "_view_count": null,
            "_view_module": "@jupyter-widgets/controls",
            "_view_module_version": "1.5.0",
            "_view_name": "ProgressView",
            "bar_style": "success",
            "description": "",
            "description_tooltip": null,
            "layout": "IPY_MODEL_119327f134e84bc197a27052bc76f406",
            "max": 545850,
            "min": 0,
            "orientation": "horizontal",
            "style": "IPY_MODEL_9f44fad871c549c392d2682a25416fa0",
            "value": 545850
          }
        },
        "1f4fe1326a38492a80be93339993719d": {
          "model_module": "@jupyter-widgets/controls",
          "model_name": "HTMLModel",
          "model_module_version": "1.5.0",
          "state": {
            "_dom_classes": [],
            "_model_module": "@jupyter-widgets/controls",
            "_model_module_version": "1.5.0",
            "_model_name": "HTMLModel",
            "_view_count": null,
            "_view_module": "@jupyter-widgets/controls",
            "_view_module_version": "1.5.0",
            "_view_name": "HTMLView",
            "description": "",
            "description_tooltip": null,
            "layout": "IPY_MODEL_bcff9473af0040d5be0f6d812f6610f5",
            "placeholder": "​",
            "style": "IPY_MODEL_3886cacec7d04361a4a490f5ba06bfc4",
            "value": " 546k/546k [00:00&lt;00:00, 5.31MB/s]"
          }
        },
        "70a1545ad9794c4cb48f519cf932af44": {
          "model_module": "@jupyter-widgets/base",
          "model_name": "LayoutModel",
          "model_module_version": "1.2.0",
          "state": {
            "_model_module": "@jupyter-widgets/base",
            "_model_module_version": "1.2.0",
            "_model_name": "LayoutModel",
            "_view_count": null,
            "_view_module": "@jupyter-widgets/base",
            "_view_module_version": "1.2.0",
            "_view_name": "LayoutView",
            "align_content": null,
            "align_items": null,
            "align_self": null,
            "border": null,
            "bottom": null,
            "display": null,
            "flex": null,
            "flex_flow": null,
            "grid_area": null,
            "grid_auto_columns": null,
            "grid_auto_flow": null,
            "grid_auto_rows": null,
            "grid_column": null,
            "grid_gap": null,
            "grid_row": null,
            "grid_template_areas": null,
            "grid_template_columns": null,
            "grid_template_rows": null,
            "height": null,
            "justify_content": null,
            "justify_items": null,
            "left": null,
            "margin": null,
            "max_height": null,
            "max_width": null,
            "min_height": null,
            "min_width": null,
            "object_fit": null,
            "object_position": null,
            "order": null,
            "overflow": null,
            "overflow_x": null,
            "overflow_y": null,
            "padding": null,
            "right": null,
            "top": null,
            "visibility": null,
            "width": null
          }
        },
        "60f9ada9282449be876a55982ce0375c": {
          "model_module": "@jupyter-widgets/base",
          "model_name": "LayoutModel",
          "model_module_version": "1.2.0",
          "state": {
            "_model_module": "@jupyter-widgets/base",
            "_model_module_version": "1.2.0",
            "_model_name": "LayoutModel",
            "_view_count": null,
            "_view_module": "@jupyter-widgets/base",
            "_view_module_version": "1.2.0",
            "_view_name": "LayoutView",
            "align_content": null,
            "align_items": null,
            "align_self": null,
            "border": null,
            "bottom": null,
            "display": null,
            "flex": null,
            "flex_flow": null,
            "grid_area": null,
            "grid_auto_columns": null,
            "grid_auto_flow": null,
            "grid_auto_rows": null,
            "grid_column": null,
            "grid_gap": null,
            "grid_row": null,
            "grid_template_areas": null,
            "grid_template_columns": null,
            "grid_template_rows": null,
            "height": null,
            "justify_content": null,
            "justify_items": null,
            "left": null,
            "margin": null,
            "max_height": null,
            "max_width": null,
            "min_height": null,
            "min_width": null,
            "object_fit": null,
            "object_position": null,
            "order": null,
            "overflow": null,
            "overflow_x": null,
            "overflow_y": null,
            "padding": null,
            "right": null,
            "top": null,
            "visibility": null,
            "width": null
          }
        },
        "a4ea6ea317d34e8a893339344bc5d5e9": {
          "model_module": "@jupyter-widgets/controls",
          "model_name": "DescriptionStyleModel",
          "model_module_version": "1.5.0",
          "state": {
            "_model_module": "@jupyter-widgets/controls",
            "_model_module_version": "1.5.0",
            "_model_name": "DescriptionStyleModel",
            "_view_count": null,
            "_view_module": "@jupyter-widgets/base",
            "_view_module_version": "1.2.0",
            "_view_name": "StyleView",
            "description_width": ""
          }
        },
        "119327f134e84bc197a27052bc76f406": {
          "model_module": "@jupyter-widgets/base",
          "model_name": "LayoutModel",
          "model_module_version": "1.2.0",
          "state": {
            "_model_module": "@jupyter-widgets/base",
            "_model_module_version": "1.2.0",
            "_model_name": "LayoutModel",
            "_view_count": null,
            "_view_module": "@jupyter-widgets/base",
            "_view_module_version": "1.2.0",
            "_view_name": "LayoutView",
            "align_content": null,
            "align_items": null,
            "align_self": null,
            "border": null,
            "bottom": null,
            "display": null,
            "flex": null,
            "flex_flow": null,
            "grid_area": null,
            "grid_auto_columns": null,
            "grid_auto_flow": null,
            "grid_auto_rows": null,
            "grid_column": null,
            "grid_gap": null,
            "grid_row": null,
            "grid_template_areas": null,
            "grid_template_columns": null,
            "grid_template_rows": null,
            "height": null,
            "justify_content": null,
            "justify_items": null,
            "left": null,
            "margin": null,
            "max_height": null,
            "max_width": null,
            "min_height": null,
            "min_width": null,
            "object_fit": null,
            "object_position": null,
            "order": null,
            "overflow": null,
            "overflow_x": null,
            "overflow_y": null,
            "padding": null,
            "right": null,
            "top": null,
            "visibility": null,
            "width": null
          }
        },
        "9f44fad871c549c392d2682a25416fa0": {
          "model_module": "@jupyter-widgets/controls",
          "model_name": "ProgressStyleModel",
          "model_module_version": "1.5.0",
          "state": {
            "_model_module": "@jupyter-widgets/controls",
            "_model_module_version": "1.5.0",
            "_model_name": "ProgressStyleModel",
            "_view_count": null,
            "_view_module": "@jupyter-widgets/base",
            "_view_module_version": "1.2.0",
            "_view_name": "StyleView",
            "bar_color": null,
            "description_width": ""
          }
        },
        "bcff9473af0040d5be0f6d812f6610f5": {
          "model_module": "@jupyter-widgets/base",
          "model_name": "LayoutModel",
          "model_module_version": "1.2.0",
          "state": {
            "_model_module": "@jupyter-widgets/base",
            "_model_module_version": "1.2.0",
            "_model_name": "LayoutModel",
            "_view_count": null,
            "_view_module": "@jupyter-widgets/base",
            "_view_module_version": "1.2.0",
            "_view_name": "LayoutView",
            "align_content": null,
            "align_items": null,
            "align_self": null,
            "border": null,
            "bottom": null,
            "display": null,
            "flex": null,
            "flex_flow": null,
            "grid_area": null,
            "grid_auto_columns": null,
            "grid_auto_flow": null,
            "grid_auto_rows": null,
            "grid_column": null,
            "grid_gap": null,
            "grid_row": null,
            "grid_template_areas": null,
            "grid_template_columns": null,
            "grid_template_rows": null,
            "height": null,
            "justify_content": null,
            "justify_items": null,
            "left": null,
            "margin": null,
            "max_height": null,
            "max_width": null,
            "min_height": null,
            "min_width": null,
            "object_fit": null,
            "object_position": null,
            "order": null,
            "overflow": null,
            "overflow_x": null,
            "overflow_y": null,
            "padding": null,
            "right": null,
            "top": null,
            "visibility": null,
            "width": null
          }
        },
        "3886cacec7d04361a4a490f5ba06bfc4": {
          "model_module": "@jupyter-widgets/controls",
          "model_name": "DescriptionStyleModel",
          "model_module_version": "1.5.0",
          "state": {
            "_model_module": "@jupyter-widgets/controls",
            "_model_module_version": "1.5.0",
            "_model_name": "DescriptionStyleModel",
            "_view_count": null,
            "_view_module": "@jupyter-widgets/base",
            "_view_module_version": "1.2.0",
            "_view_name": "StyleView",
            "description_width": ""
          }
        },
        "e17300560235437daf673e159581f958": {
          "model_module": "@jupyter-widgets/controls",
          "model_name": "HBoxModel",
          "model_module_version": "1.5.0",
          "state": {
            "_dom_classes": [],
            "_model_module": "@jupyter-widgets/controls",
            "_model_module_version": "1.5.0",
            "_model_name": "HBoxModel",
            "_view_count": null,
            "_view_module": "@jupyter-widgets/controls",
            "_view_module_version": "1.5.0",
            "_view_name": "HBoxView",
            "box_style": "",
            "children": [
              "IPY_MODEL_b657281dc1ab437e956d07624d0d403c",
              "IPY_MODEL_d9d23f3f8dc54581a3316586eb2feec9",
              "IPY_MODEL_8885e68c3b65491f93ca263689afb17d"
            ],
            "layout": "IPY_MODEL_4dc7af318eec4b81a127e9d012d0c809"
          }
        },
        "b657281dc1ab437e956d07624d0d403c": {
          "model_module": "@jupyter-widgets/controls",
          "model_name": "HTMLModel",
          "model_module_version": "1.5.0",
          "state": {
            "_dom_classes": [],
            "_model_module": "@jupyter-widgets/controls",
            "_model_module_version": "1.5.0",
            "_model_name": "HTMLModel",
            "_view_count": null,
            "_view_module": "@jupyter-widgets/controls",
            "_view_module_version": "1.5.0",
            "_view_name": "HTMLView",
            "description": "",
            "description_tooltip": null,
            "layout": "IPY_MODEL_06b9fc1ec2d04855b3d626baf40c2da1",
            "placeholder": "​",
            "style": "IPY_MODEL_e783a05a44f84cc1a115d4c45bda0baf",
            "value": "model.onnx_data: 100%"
          }
        },
        "d9d23f3f8dc54581a3316586eb2feec9": {
          "model_module": "@jupyter-widgets/controls",
          "model_name": "FloatProgressModel",
          "model_module_version": "1.5.0",
          "state": {
            "_dom_classes": [],
            "_model_module": "@jupyter-widgets/controls",
            "_model_module_version": "1.5.0",
            "_model_name": "FloatProgressModel",
            "_view_count": null,
            "_view_module": "@jupyter-widgets/controls",
            "_view_module_version": "1.5.0",
            "_view_name": "ProgressView",
            "bar_style": "success",
            "description": "",
            "description_tooltip": null,
            "layout": "IPY_MODEL_18842b341509439389ca3257299cdc55",
            "max": 2235363328,
            "min": 0,
            "orientation": "horizontal",
            "style": "IPY_MODEL_ec06b05b7b364f9b86ba4bb02e7679b4",
            "value": 2235363328
          }
        },
        "8885e68c3b65491f93ca263689afb17d": {
          "model_module": "@jupyter-widgets/controls",
          "model_name": "HTMLModel",
          "model_module_version": "1.5.0",
          "state": {
            "_dom_classes": [],
            "_model_module": "@jupyter-widgets/controls",
            "_model_module_version": "1.5.0",
            "_model_name": "HTMLModel",
            "_view_count": null,
            "_view_module": "@jupyter-widgets/controls",
            "_view_module_version": "1.5.0",
            "_view_name": "HTMLView",
            "description": "",
            "description_tooltip": null,
            "layout": "IPY_MODEL_40539526e99f46c3adf7a1aa76b7d4f0",
            "placeholder": "​",
            "style": "IPY_MODEL_13cb9d7b56a848e38c0f8670df0e5465",
            "value": " 2.24G/2.24G [00:36&lt;00:00, 61.7MB/s]"
          }
        },
        "4dc7af318eec4b81a127e9d012d0c809": {
          "model_module": "@jupyter-widgets/base",
          "model_name": "LayoutModel",
          "model_module_version": "1.2.0",
          "state": {
            "_model_module": "@jupyter-widgets/base",
            "_model_module_version": "1.2.0",
            "_model_name": "LayoutModel",
            "_view_count": null,
            "_view_module": "@jupyter-widgets/base",
            "_view_module_version": "1.2.0",
            "_view_name": "LayoutView",
            "align_content": null,
            "align_items": null,
            "align_self": null,
            "border": null,
            "bottom": null,
            "display": null,
            "flex": null,
            "flex_flow": null,
            "grid_area": null,
            "grid_auto_columns": null,
            "grid_auto_flow": null,
            "grid_auto_rows": null,
            "grid_column": null,
            "grid_gap": null,
            "grid_row": null,
            "grid_template_areas": null,
            "grid_template_columns": null,
            "grid_template_rows": null,
            "height": null,
            "justify_content": null,
            "justify_items": null,
            "left": null,
            "margin": null,
            "max_height": null,
            "max_width": null,
            "min_height": null,
            "min_width": null,
            "object_fit": null,
            "object_position": null,
            "order": null,
            "overflow": null,
            "overflow_x": null,
            "overflow_y": null,
            "padding": null,
            "right": null,
            "top": null,
            "visibility": null,
            "width": null
          }
        },
        "06b9fc1ec2d04855b3d626baf40c2da1": {
          "model_module": "@jupyter-widgets/base",
          "model_name": "LayoutModel",
          "model_module_version": "1.2.0",
          "state": {
            "_model_module": "@jupyter-widgets/base",
            "_model_module_version": "1.2.0",
            "_model_name": "LayoutModel",
            "_view_count": null,
            "_view_module": "@jupyter-widgets/base",
            "_view_module_version": "1.2.0",
            "_view_name": "LayoutView",
            "align_content": null,
            "align_items": null,
            "align_self": null,
            "border": null,
            "bottom": null,
            "display": null,
            "flex": null,
            "flex_flow": null,
            "grid_area": null,
            "grid_auto_columns": null,
            "grid_auto_flow": null,
            "grid_auto_rows": null,
            "grid_column": null,
            "grid_gap": null,
            "grid_row": null,
            "grid_template_areas": null,
            "grid_template_columns": null,
            "grid_template_rows": null,
            "height": null,
            "justify_content": null,
            "justify_items": null,
            "left": null,
            "margin": null,
            "max_height": null,
            "max_width": null,
            "min_height": null,
            "min_width": null,
            "object_fit": null,
            "object_position": null,
            "order": null,
            "overflow": null,
            "overflow_x": null,
            "overflow_y": null,
            "padding": null,
            "right": null,
            "top": null,
            "visibility": null,
            "width": null
          }
        },
        "e783a05a44f84cc1a115d4c45bda0baf": {
          "model_module": "@jupyter-widgets/controls",
          "model_name": "DescriptionStyleModel",
          "model_module_version": "1.5.0",
          "state": {
            "_model_module": "@jupyter-widgets/controls",
            "_model_module_version": "1.5.0",
            "_model_name": "DescriptionStyleModel",
            "_view_count": null,
            "_view_module": "@jupyter-widgets/base",
            "_view_module_version": "1.2.0",
            "_view_name": "StyleView",
            "description_width": ""
          }
        },
        "18842b341509439389ca3257299cdc55": {
          "model_module": "@jupyter-widgets/base",
          "model_name": "LayoutModel",
          "model_module_version": "1.2.0",
          "state": {
            "_model_module": "@jupyter-widgets/base",
            "_model_module_version": "1.2.0",
            "_model_name": "LayoutModel",
            "_view_count": null,
            "_view_module": "@jupyter-widgets/base",
            "_view_module_version": "1.2.0",
            "_view_name": "LayoutView",
            "align_content": null,
            "align_items": null,
            "align_self": null,
            "border": null,
            "bottom": null,
            "display": null,
            "flex": null,
            "flex_flow": null,
            "grid_area": null,
            "grid_auto_columns": null,
            "grid_auto_flow": null,
            "grid_auto_rows": null,
            "grid_column": null,
            "grid_gap": null,
            "grid_row": null,
            "grid_template_areas": null,
            "grid_template_columns": null,
            "grid_template_rows": null,
            "height": null,
            "justify_content": null,
            "justify_items": null,
            "left": null,
            "margin": null,
            "max_height": null,
            "max_width": null,
            "min_height": null,
            "min_width": null,
            "object_fit": null,
            "object_position": null,
            "order": null,
            "overflow": null,
            "overflow_x": null,
            "overflow_y": null,
            "padding": null,
            "right": null,
            "top": null,
            "visibility": null,
            "width": null
          }
        },
        "ec06b05b7b364f9b86ba4bb02e7679b4": {
          "model_module": "@jupyter-widgets/controls",
          "model_name": "ProgressStyleModel",
          "model_module_version": "1.5.0",
          "state": {
            "_model_module": "@jupyter-widgets/controls",
            "_model_module_version": "1.5.0",
            "_model_name": "ProgressStyleModel",
            "_view_count": null,
            "_view_module": "@jupyter-widgets/base",
            "_view_module_version": "1.2.0",
            "_view_name": "StyleView",
            "bar_color": null,
            "description_width": ""
          }
        },
        "40539526e99f46c3adf7a1aa76b7d4f0": {
          "model_module": "@jupyter-widgets/base",
          "model_name": "LayoutModel",
          "model_module_version": "1.2.0",
          "state": {
            "_model_module": "@jupyter-widgets/base",
            "_model_module_version": "1.2.0",
            "_model_name": "LayoutModel",
            "_view_count": null,
            "_view_module": "@jupyter-widgets/base",
            "_view_module_version": "1.2.0",
            "_view_name": "LayoutView",
            "align_content": null,
            "align_items": null,
            "align_self": null,
            "border": null,
            "bottom": null,
            "display": null,
            "flex": null,
            "flex_flow": null,
            "grid_area": null,
            "grid_auto_columns": null,
            "grid_auto_flow": null,
            "grid_auto_rows": null,
            "grid_column": null,
            "grid_gap": null,
            "grid_row": null,
            "grid_template_areas": null,
            "grid_template_columns": null,
            "grid_template_rows": null,
            "height": null,
            "justify_content": null,
            "justify_items": null,
            "left": null,
            "margin": null,
            "max_height": null,
            "max_width": null,
            "min_height": null,
            "min_width": null,
            "object_fit": null,
            "object_position": null,
            "order": null,
            "overflow": null,
            "overflow_x": null,
            "overflow_y": null,
            "padding": null,
            "right": null,
            "top": null,
            "visibility": null,
            "width": null
          }
        },
        "13cb9d7b56a848e38c0f8670df0e5465": {
          "model_module": "@jupyter-widgets/controls",
          "model_name": "DescriptionStyleModel",
          "model_module_version": "1.5.0",
          "state": {
            "_model_module": "@jupyter-widgets/controls",
            "_model_module_version": "1.5.0",
            "_model_name": "DescriptionStyleModel",
            "_view_count": null,
            "_view_module": "@jupyter-widgets/base",
            "_view_module_version": "1.2.0",
            "_view_name": "StyleView",
            "description_width": ""
          }
        },
        "6ff31ef29ff94050871d41c05aefe1c6": {
          "model_module": "@jupyter-widgets/controls",
          "model_name": "HBoxModel",
          "model_module_version": "1.5.0",
          "state": {
            "_dom_classes": [],
            "_model_module": "@jupyter-widgets/controls",
            "_model_module_version": "1.5.0",
            "_model_name": "HBoxModel",
            "_view_count": null,
            "_view_module": "@jupyter-widgets/controls",
            "_view_module_version": "1.5.0",
            "_view_name": "HBoxView",
            "box_style": "",
            "children": [
              "IPY_MODEL_b636fc54d50f4509a968c3a60f268492",
              "IPY_MODEL_c74872889e4c4c2fbc0b0eb7a0f79624",
              "IPY_MODEL_f6833043a3e048d68daaffc87262cdbb"
            ],
            "layout": "IPY_MODEL_499aaee96335448ca3d83096fb9c14ce"
          }
        },
        "b636fc54d50f4509a968c3a60f268492": {
          "model_module": "@jupyter-widgets/controls",
          "model_name": "HTMLModel",
          "model_module_version": "1.5.0",
          "state": {
            "_dom_classes": [],
            "_model_module": "@jupyter-widgets/controls",
            "_model_module_version": "1.5.0",
            "_model_name": "HTMLModel",
            "_view_count": null,
            "_view_module": "@jupyter-widgets/controls",
            "_view_module_version": "1.5.0",
            "_view_name": "HTMLView",
            "description": "",
            "description_tooltip": null,
            "layout": "IPY_MODEL_046ec41151994904bd8b629f277f41c6",
            "placeholder": "​",
            "style": "IPY_MODEL_89c2888392334d56ab80d8110a03925a",
            "value": "sentencepiece.bpe.model: 100%"
          }
        },
        "c74872889e4c4c2fbc0b0eb7a0f79624": {
          "model_module": "@jupyter-widgets/controls",
          "model_name": "FloatProgressModel",
          "model_module_version": "1.5.0",
          "state": {
            "_dom_classes": [],
            "_model_module": "@jupyter-widgets/controls",
            "_model_module_version": "1.5.0",
            "_model_name": "FloatProgressModel",
            "_view_count": null,
            "_view_module": "@jupyter-widgets/controls",
            "_view_module_version": "1.5.0",
            "_view_name": "ProgressView",
            "bar_style": "success",
            "description": "",
            "description_tooltip": null,
            "layout": "IPY_MODEL_c4cbc7b41ff7450882991bc00abbaa9b",
            "max": 5069051,
            "min": 0,
            "orientation": "horizontal",
            "style": "IPY_MODEL_4b0a656360db424c88b41db82c13e742",
            "value": 5069051
          }
        },
        "f6833043a3e048d68daaffc87262cdbb": {
          "model_module": "@jupyter-widgets/controls",
          "model_name": "HTMLModel",
          "model_module_version": "1.5.0",
          "state": {
            "_dom_classes": [],
            "_model_module": "@jupyter-widgets/controls",
            "_model_module_version": "1.5.0",
            "_model_name": "HTMLModel",
            "_view_count": null,
            "_view_module": "@jupyter-widgets/controls",
            "_view_module_version": "1.5.0",
            "_view_name": "HTMLView",
            "description": "",
            "description_tooltip": null,
            "layout": "IPY_MODEL_4f2b0e0d8f76431da415c34899ac4081",
            "placeholder": "​",
            "style": "IPY_MODEL_c849be1ea18c481ba1bd6f4bc7dcf6c6",
            "value": " 5.07M/5.07M [00:00&lt;00:00, 39.9MB/s]"
          }
        },
        "499aaee96335448ca3d83096fb9c14ce": {
          "model_module": "@jupyter-widgets/base",
          "model_name": "LayoutModel",
          "model_module_version": "1.2.0",
          "state": {
            "_model_module": "@jupyter-widgets/base",
            "_model_module_version": "1.2.0",
            "_model_name": "LayoutModel",
            "_view_count": null,
            "_view_module": "@jupyter-widgets/base",
            "_view_module_version": "1.2.0",
            "_view_name": "LayoutView",
            "align_content": null,
            "align_items": null,
            "align_self": null,
            "border": null,
            "bottom": null,
            "display": null,
            "flex": null,
            "flex_flow": null,
            "grid_area": null,
            "grid_auto_columns": null,
            "grid_auto_flow": null,
            "grid_auto_rows": null,
            "grid_column": null,
            "grid_gap": null,
            "grid_row": null,
            "grid_template_areas": null,
            "grid_template_columns": null,
            "grid_template_rows": null,
            "height": null,
            "justify_content": null,
            "justify_items": null,
            "left": null,
            "margin": null,
            "max_height": null,
            "max_width": null,
            "min_height": null,
            "min_width": null,
            "object_fit": null,
            "object_position": null,
            "order": null,
            "overflow": null,
            "overflow_x": null,
            "overflow_y": null,
            "padding": null,
            "right": null,
            "top": null,
            "visibility": null,
            "width": null
          }
        },
        "046ec41151994904bd8b629f277f41c6": {
          "model_module": "@jupyter-widgets/base",
          "model_name": "LayoutModel",
          "model_module_version": "1.2.0",
          "state": {
            "_model_module": "@jupyter-widgets/base",
            "_model_module_version": "1.2.0",
            "_model_name": "LayoutModel",
            "_view_count": null,
            "_view_module": "@jupyter-widgets/base",
            "_view_module_version": "1.2.0",
            "_view_name": "LayoutView",
            "align_content": null,
            "align_items": null,
            "align_self": null,
            "border": null,
            "bottom": null,
            "display": null,
            "flex": null,
            "flex_flow": null,
            "grid_area": null,
            "grid_auto_columns": null,
            "grid_auto_flow": null,
            "grid_auto_rows": null,
            "grid_column": null,
            "grid_gap": null,
            "grid_row": null,
            "grid_template_areas": null,
            "grid_template_columns": null,
            "grid_template_rows": null,
            "height": null,
            "justify_content": null,
            "justify_items": null,
            "left": null,
            "margin": null,
            "max_height": null,
            "max_width": null,
            "min_height": null,
            "min_width": null,
            "object_fit": null,
            "object_position": null,
            "order": null,
            "overflow": null,
            "overflow_x": null,
            "overflow_y": null,
            "padding": null,
            "right": null,
            "top": null,
            "visibility": null,
            "width": null
          }
        },
        "89c2888392334d56ab80d8110a03925a": {
          "model_module": "@jupyter-widgets/controls",
          "model_name": "DescriptionStyleModel",
          "model_module_version": "1.5.0",
          "state": {
            "_model_module": "@jupyter-widgets/controls",
            "_model_module_version": "1.5.0",
            "_model_name": "DescriptionStyleModel",
            "_view_count": null,
            "_view_module": "@jupyter-widgets/base",
            "_view_module_version": "1.2.0",
            "_view_name": "StyleView",
            "description_width": ""
          }
        },
        "c4cbc7b41ff7450882991bc00abbaa9b": {
          "model_module": "@jupyter-widgets/base",
          "model_name": "LayoutModel",
          "model_module_version": "1.2.0",
          "state": {
            "_model_module": "@jupyter-widgets/base",
            "_model_module_version": "1.2.0",
            "_model_name": "LayoutModel",
            "_view_count": null,
            "_view_module": "@jupyter-widgets/base",
            "_view_module_version": "1.2.0",
            "_view_name": "LayoutView",
            "align_content": null,
            "align_items": null,
            "align_self": null,
            "border": null,
            "bottom": null,
            "display": null,
            "flex": null,
            "flex_flow": null,
            "grid_area": null,
            "grid_auto_columns": null,
            "grid_auto_flow": null,
            "grid_auto_rows": null,
            "grid_column": null,
            "grid_gap": null,
            "grid_row": null,
            "grid_template_areas": null,
            "grid_template_columns": null,
            "grid_template_rows": null,
            "height": null,
            "justify_content": null,
            "justify_items": null,
            "left": null,
            "margin": null,
            "max_height": null,
            "max_width": null,
            "min_height": null,
            "min_width": null,
            "object_fit": null,
            "object_position": null,
            "order": null,
            "overflow": null,
            "overflow_x": null,
            "overflow_y": null,
            "padding": null,
            "right": null,
            "top": null,
            "visibility": null,
            "width": null
          }
        },
        "4b0a656360db424c88b41db82c13e742": {
          "model_module": "@jupyter-widgets/controls",
          "model_name": "ProgressStyleModel",
          "model_module_version": "1.5.0",
          "state": {
            "_model_module": "@jupyter-widgets/controls",
            "_model_module_version": "1.5.0",
            "_model_name": "ProgressStyleModel",
            "_view_count": null,
            "_view_module": "@jupyter-widgets/base",
            "_view_module_version": "1.2.0",
            "_view_name": "StyleView",
            "bar_color": null,
            "description_width": ""
          }
        },
        "4f2b0e0d8f76431da415c34899ac4081": {
          "model_module": "@jupyter-widgets/base",
          "model_name": "LayoutModel",
          "model_module_version": "1.2.0",
          "state": {
            "_model_module": "@jupyter-widgets/base",
            "_model_module_version": "1.2.0",
            "_model_name": "LayoutModel",
            "_view_count": null,
            "_view_module": "@jupyter-widgets/base",
            "_view_module_version": "1.2.0",
            "_view_name": "LayoutView",
            "align_content": null,
            "align_items": null,
            "align_self": null,
            "border": null,
            "bottom": null,
            "display": null,
            "flex": null,
            "flex_flow": null,
            "grid_area": null,
            "grid_auto_columns": null,
            "grid_auto_flow": null,
            "grid_auto_rows": null,
            "grid_column": null,
            "grid_gap": null,
            "grid_row": null,
            "grid_template_areas": null,
            "grid_template_columns": null,
            "grid_template_rows": null,
            "height": null,
            "justify_content": null,
            "justify_items": null,
            "left": null,
            "margin": null,
            "max_height": null,
            "max_width": null,
            "min_height": null,
            "min_width": null,
            "object_fit": null,
            "object_position": null,
            "order": null,
            "overflow": null,
            "overflow_x": null,
            "overflow_y": null,
            "padding": null,
            "right": null,
            "top": null,
            "visibility": null,
            "width": null
          }
        },
        "c849be1ea18c481ba1bd6f4bc7dcf6c6": {
          "model_module": "@jupyter-widgets/controls",
          "model_name": "DescriptionStyleModel",
          "model_module_version": "1.5.0",
          "state": {
            "_model_module": "@jupyter-widgets/controls",
            "_model_module_version": "1.5.0",
            "_model_name": "DescriptionStyleModel",
            "_view_count": null,
            "_view_module": "@jupyter-widgets/base",
            "_view_module_version": "1.2.0",
            "_view_name": "StyleView",
            "description_width": ""
          }
        },
        "ba80c20c38974724a1a060f4032df51b": {
          "model_module": "@jupyter-widgets/controls",
          "model_name": "HBoxModel",
          "model_module_version": "1.5.0",
          "state": {
            "_dom_classes": [],
            "_model_module": "@jupyter-widgets/controls",
            "_model_module_version": "1.5.0",
            "_model_name": "HBoxModel",
            "_view_count": null,
            "_view_module": "@jupyter-widgets/controls",
            "_view_module_version": "1.5.0",
            "_view_name": "HBoxView",
            "box_style": "",
            "children": [
              "IPY_MODEL_462d18e538384a84ac81c47f6bd87fa3",
              "IPY_MODEL_7edccdc1b4ba44f181edb13ac8481637",
              "IPY_MODEL_36131616a51e4a27903c83600d386b39"
            ],
            "layout": "IPY_MODEL_65d62ed8169746a0a5ce73971b11e751"
          }
        },
        "462d18e538384a84ac81c47f6bd87fa3": {
          "model_module": "@jupyter-widgets/controls",
          "model_name": "HTMLModel",
          "model_module_version": "1.5.0",
          "state": {
            "_dom_classes": [],
            "_model_module": "@jupyter-widgets/controls",
            "_model_module_version": "1.5.0",
            "_model_name": "HTMLModel",
            "_view_count": null,
            "_view_module": "@jupyter-widgets/controls",
            "_view_module_version": "1.5.0",
            "_view_name": "HTMLView",
            "description": "",
            "description_tooltip": null,
            "layout": "IPY_MODEL_e38d5386848343abad03ea9b9973c295",
            "placeholder": "​",
            "style": "IPY_MODEL_cadeebd7e2a744a8959fddd9e8e9bf18",
            "value": "onnx/special_tokens_map.json: 100%"
          }
        },
        "7edccdc1b4ba44f181edb13ac8481637": {
          "model_module": "@jupyter-widgets/controls",
          "model_name": "FloatProgressModel",
          "model_module_version": "1.5.0",
          "state": {
            "_dom_classes": [],
            "_model_module": "@jupyter-widgets/controls",
            "_model_module_version": "1.5.0",
            "_model_name": "FloatProgressModel",
            "_view_count": null,
            "_view_module": "@jupyter-widgets/controls",
            "_view_module_version": "1.5.0",
            "_view_name": "ProgressView",
            "bar_style": "success",
            "description": "",
            "description_tooltip": null,
            "layout": "IPY_MODEL_b6450fc4a57d4aee892cf500150e114f",
            "max": 280,
            "min": 0,
            "orientation": "horizontal",
            "style": "IPY_MODEL_8135fdf6cc284c73881e0670f36287f6",
            "value": 280
          }
        },
        "36131616a51e4a27903c83600d386b39": {
          "model_module": "@jupyter-widgets/controls",
          "model_name": "HTMLModel",
          "model_module_version": "1.5.0",
          "state": {
            "_dom_classes": [],
            "_model_module": "@jupyter-widgets/controls",
            "_model_module_version": "1.5.0",
            "_model_name": "HTMLModel",
            "_view_count": null,
            "_view_module": "@jupyter-widgets/controls",
            "_view_module_version": "1.5.0",
            "_view_name": "HTMLView",
            "description": "",
            "description_tooltip": null,
            "layout": "IPY_MODEL_a327589852a34f39b5504812c1d6ae5f",
            "placeholder": "​",
            "style": "IPY_MODEL_847c0e549247453383181b7215792f31",
            "value": " 280/280 [00:00&lt;00:00, 11.6kB/s]"
          }
        },
        "65d62ed8169746a0a5ce73971b11e751": {
          "model_module": "@jupyter-widgets/base",
          "model_name": "LayoutModel",
          "model_module_version": "1.2.0",
          "state": {
            "_model_module": "@jupyter-widgets/base",
            "_model_module_version": "1.2.0",
            "_model_name": "LayoutModel",
            "_view_count": null,
            "_view_module": "@jupyter-widgets/base",
            "_view_module_version": "1.2.0",
            "_view_name": "LayoutView",
            "align_content": null,
            "align_items": null,
            "align_self": null,
            "border": null,
            "bottom": null,
            "display": null,
            "flex": null,
            "flex_flow": null,
            "grid_area": null,
            "grid_auto_columns": null,
            "grid_auto_flow": null,
            "grid_auto_rows": null,
            "grid_column": null,
            "grid_gap": null,
            "grid_row": null,
            "grid_template_areas": null,
            "grid_template_columns": null,
            "grid_template_rows": null,
            "height": null,
            "justify_content": null,
            "justify_items": null,
            "left": null,
            "margin": null,
            "max_height": null,
            "max_width": null,
            "min_height": null,
            "min_width": null,
            "object_fit": null,
            "object_position": null,
            "order": null,
            "overflow": null,
            "overflow_x": null,
            "overflow_y": null,
            "padding": null,
            "right": null,
            "top": null,
            "visibility": null,
            "width": null
          }
        },
        "e38d5386848343abad03ea9b9973c295": {
          "model_module": "@jupyter-widgets/base",
          "model_name": "LayoutModel",
          "model_module_version": "1.2.0",
          "state": {
            "_model_module": "@jupyter-widgets/base",
            "_model_module_version": "1.2.0",
            "_model_name": "LayoutModel",
            "_view_count": null,
            "_view_module": "@jupyter-widgets/base",
            "_view_module_version": "1.2.0",
            "_view_name": "LayoutView",
            "align_content": null,
            "align_items": null,
            "align_self": null,
            "border": null,
            "bottom": null,
            "display": null,
            "flex": null,
            "flex_flow": null,
            "grid_area": null,
            "grid_auto_columns": null,
            "grid_auto_flow": null,
            "grid_auto_rows": null,
            "grid_column": null,
            "grid_gap": null,
            "grid_row": null,
            "grid_template_areas": null,
            "grid_template_columns": null,
            "grid_template_rows": null,
            "height": null,
            "justify_content": null,
            "justify_items": null,
            "left": null,
            "margin": null,
            "max_height": null,
            "max_width": null,
            "min_height": null,
            "min_width": null,
            "object_fit": null,
            "object_position": null,
            "order": null,
            "overflow": null,
            "overflow_x": null,
            "overflow_y": null,
            "padding": null,
            "right": null,
            "top": null,
            "visibility": null,
            "width": null
          }
        },
        "cadeebd7e2a744a8959fddd9e8e9bf18": {
          "model_module": "@jupyter-widgets/controls",
          "model_name": "DescriptionStyleModel",
          "model_module_version": "1.5.0",
          "state": {
            "_model_module": "@jupyter-widgets/controls",
            "_model_module_version": "1.5.0",
            "_model_name": "DescriptionStyleModel",
            "_view_count": null,
            "_view_module": "@jupyter-widgets/base",
            "_view_module_version": "1.2.0",
            "_view_name": "StyleView",
            "description_width": ""
          }
        },
        "b6450fc4a57d4aee892cf500150e114f": {
          "model_module": "@jupyter-widgets/base",
          "model_name": "LayoutModel",
          "model_module_version": "1.2.0",
          "state": {
            "_model_module": "@jupyter-widgets/base",
            "_model_module_version": "1.2.0",
            "_model_name": "LayoutModel",
            "_view_count": null,
            "_view_module": "@jupyter-widgets/base",
            "_view_module_version": "1.2.0",
            "_view_name": "LayoutView",
            "align_content": null,
            "align_items": null,
            "align_self": null,
            "border": null,
            "bottom": null,
            "display": null,
            "flex": null,
            "flex_flow": null,
            "grid_area": null,
            "grid_auto_columns": null,
            "grid_auto_flow": null,
            "grid_auto_rows": null,
            "grid_column": null,
            "grid_gap": null,
            "grid_row": null,
            "grid_template_areas": null,
            "grid_template_columns": null,
            "grid_template_rows": null,
            "height": null,
            "justify_content": null,
            "justify_items": null,
            "left": null,
            "margin": null,
            "max_height": null,
            "max_width": null,
            "min_height": null,
            "min_width": null,
            "object_fit": null,
            "object_position": null,
            "order": null,
            "overflow": null,
            "overflow_x": null,
            "overflow_y": null,
            "padding": null,
            "right": null,
            "top": null,
            "visibility": null,
            "width": null
          }
        },
        "8135fdf6cc284c73881e0670f36287f6": {
          "model_module": "@jupyter-widgets/controls",
          "model_name": "ProgressStyleModel",
          "model_module_version": "1.5.0",
          "state": {
            "_model_module": "@jupyter-widgets/controls",
            "_model_module_version": "1.5.0",
            "_model_name": "ProgressStyleModel",
            "_view_count": null,
            "_view_module": "@jupyter-widgets/base",
            "_view_module_version": "1.2.0",
            "_view_name": "StyleView",
            "bar_color": null,
            "description_width": ""
          }
        },
        "a327589852a34f39b5504812c1d6ae5f": {
          "model_module": "@jupyter-widgets/base",
          "model_name": "LayoutModel",
          "model_module_version": "1.2.0",
          "state": {
            "_model_module": "@jupyter-widgets/base",
            "_model_module_version": "1.2.0",
            "_model_name": "LayoutModel",
            "_view_count": null,
            "_view_module": "@jupyter-widgets/base",
            "_view_module_version": "1.2.0",
            "_view_name": "LayoutView",
            "align_content": null,
            "align_items": null,
            "align_self": null,
            "border": null,
            "bottom": null,
            "display": null,
            "flex": null,
            "flex_flow": null,
            "grid_area": null,
            "grid_auto_columns": null,
            "grid_auto_flow": null,
            "grid_auto_rows": null,
            "grid_column": null,
            "grid_gap": null,
            "grid_row": null,
            "grid_template_areas": null,
            "grid_template_columns": null,
            "grid_template_rows": null,
            "height": null,
            "justify_content": null,
            "justify_items": null,
            "left": null,
            "margin": null,
            "max_height": null,
            "max_width": null,
            "min_height": null,
            "min_width": null,
            "object_fit": null,
            "object_position": null,
            "order": null,
            "overflow": null,
            "overflow_x": null,
            "overflow_y": null,
            "padding": null,
            "right": null,
            "top": null,
            "visibility": null,
            "width": null
          }
        },
        "847c0e549247453383181b7215792f31": {
          "model_module": "@jupyter-widgets/controls",
          "model_name": "DescriptionStyleModel",
          "model_module_version": "1.5.0",
          "state": {
            "_model_module": "@jupyter-widgets/controls",
            "_model_module_version": "1.5.0",
            "_model_name": "DescriptionStyleModel",
            "_view_count": null,
            "_view_module": "@jupyter-widgets/base",
            "_view_module_version": "1.2.0",
            "_view_name": "StyleView",
            "description_width": ""
          }
        },
        "6f5fed096516436e8ade0b5a2becccda": {
          "model_module": "@jupyter-widgets/controls",
          "model_name": "HBoxModel",
          "model_module_version": "1.5.0",
          "state": {
            "_dom_classes": [],
            "_model_module": "@jupyter-widgets/controls",
            "_model_module_version": "1.5.0",
            "_model_name": "HBoxModel",
            "_view_count": null,
            "_view_module": "@jupyter-widgets/controls",
            "_view_module_version": "1.5.0",
            "_view_name": "HBoxView",
            "box_style": "",
            "children": [
              "IPY_MODEL_3c8382be1f224296a0598589442f5325",
              "IPY_MODEL_5b19a713704b4f12bc9a9bc8fb7ee42a",
              "IPY_MODEL_3fc2ad2a9c994494834b42b4ed66d461"
            ],
            "layout": "IPY_MODEL_2c55a836641348d29c2fda7c441fee4e"
          }
        },
        "3c8382be1f224296a0598589442f5325": {
          "model_module": "@jupyter-widgets/controls",
          "model_name": "HTMLModel",
          "model_module_version": "1.5.0",
          "state": {
            "_dom_classes": [],
            "_model_module": "@jupyter-widgets/controls",
            "_model_module_version": "1.5.0",
            "_model_name": "HTMLModel",
            "_view_count": null,
            "_view_module": "@jupyter-widgets/controls",
            "_view_module_version": "1.5.0",
            "_view_name": "HTMLView",
            "description": "",
            "description_tooltip": null,
            "layout": "IPY_MODEL_32bc9bb9aceb47da95215c2bd91063f7",
            "placeholder": "​",
            "style": "IPY_MODEL_c91d1f8c48ea44d0ac8bba15f758cab9",
            "value": "tokenizer.json: 100%"
          }
        },
        "5b19a713704b4f12bc9a9bc8fb7ee42a": {
          "model_module": "@jupyter-widgets/controls",
          "model_name": "FloatProgressModel",
          "model_module_version": "1.5.0",
          "state": {
            "_dom_classes": [],
            "_model_module": "@jupyter-widgets/controls",
            "_model_module_version": "1.5.0",
            "_model_name": "FloatProgressModel",
            "_view_count": null,
            "_view_module": "@jupyter-widgets/controls",
            "_view_module_version": "1.5.0",
            "_view_name": "ProgressView",
            "bar_style": "success",
            "description": "",
            "description_tooltip": null,
            "layout": "IPY_MODEL_da448448b95743cb8e077051d0136890",
            "max": 17082660,
            "min": 0,
            "orientation": "horizontal",
            "style": "IPY_MODEL_1d6339de500541a09451cfca3bd63c67",
            "value": 17082660
          }
        },
        "3fc2ad2a9c994494834b42b4ed66d461": {
          "model_module": "@jupyter-widgets/controls",
          "model_name": "HTMLModel",
          "model_module_version": "1.5.0",
          "state": {
            "_dom_classes": [],
            "_model_module": "@jupyter-widgets/controls",
            "_model_module_version": "1.5.0",
            "_model_name": "HTMLModel",
            "_view_count": null,
            "_view_module": "@jupyter-widgets/controls",
            "_view_module_version": "1.5.0",
            "_view_name": "HTMLView",
            "description": "",
            "description_tooltip": null,
            "layout": "IPY_MODEL_c48704fe8910478db072fefe2fe79395",
            "placeholder": "​",
            "style": "IPY_MODEL_18fb76fdf29140b6a2164d6622a0a745",
            "value": " 17.1M/17.1M [00:00&lt;00:00, 62.2MB/s]"
          }
        },
        "2c55a836641348d29c2fda7c441fee4e": {
          "model_module": "@jupyter-widgets/base",
          "model_name": "LayoutModel",
          "model_module_version": "1.2.0",
          "state": {
            "_model_module": "@jupyter-widgets/base",
            "_model_module_version": "1.2.0",
            "_model_name": "LayoutModel",
            "_view_count": null,
            "_view_module": "@jupyter-widgets/base",
            "_view_module_version": "1.2.0",
            "_view_name": "LayoutView",
            "align_content": null,
            "align_items": null,
            "align_self": null,
            "border": null,
            "bottom": null,
            "display": null,
            "flex": null,
            "flex_flow": null,
            "grid_area": null,
            "grid_auto_columns": null,
            "grid_auto_flow": null,
            "grid_auto_rows": null,
            "grid_column": null,
            "grid_gap": null,
            "grid_row": null,
            "grid_template_areas": null,
            "grid_template_columns": null,
            "grid_template_rows": null,
            "height": null,
            "justify_content": null,
            "justify_items": null,
            "left": null,
            "margin": null,
            "max_height": null,
            "max_width": null,
            "min_height": null,
            "min_width": null,
            "object_fit": null,
            "object_position": null,
            "order": null,
            "overflow": null,
            "overflow_x": null,
            "overflow_y": null,
            "padding": null,
            "right": null,
            "top": null,
            "visibility": null,
            "width": null
          }
        },
        "32bc9bb9aceb47da95215c2bd91063f7": {
          "model_module": "@jupyter-widgets/base",
          "model_name": "LayoutModel",
          "model_module_version": "1.2.0",
          "state": {
            "_model_module": "@jupyter-widgets/base",
            "_model_module_version": "1.2.0",
            "_model_name": "LayoutModel",
            "_view_count": null,
            "_view_module": "@jupyter-widgets/base",
            "_view_module_version": "1.2.0",
            "_view_name": "LayoutView",
            "align_content": null,
            "align_items": null,
            "align_self": null,
            "border": null,
            "bottom": null,
            "display": null,
            "flex": null,
            "flex_flow": null,
            "grid_area": null,
            "grid_auto_columns": null,
            "grid_auto_flow": null,
            "grid_auto_rows": null,
            "grid_column": null,
            "grid_gap": null,
            "grid_row": null,
            "grid_template_areas": null,
            "grid_template_columns": null,
            "grid_template_rows": null,
            "height": null,
            "justify_content": null,
            "justify_items": null,
            "left": null,
            "margin": null,
            "max_height": null,
            "max_width": null,
            "min_height": null,
            "min_width": null,
            "object_fit": null,
            "object_position": null,
            "order": null,
            "overflow": null,
            "overflow_x": null,
            "overflow_y": null,
            "padding": null,
            "right": null,
            "top": null,
            "visibility": null,
            "width": null
          }
        },
        "c91d1f8c48ea44d0ac8bba15f758cab9": {
          "model_module": "@jupyter-widgets/controls",
          "model_name": "DescriptionStyleModel",
          "model_module_version": "1.5.0",
          "state": {
            "_model_module": "@jupyter-widgets/controls",
            "_model_module_version": "1.5.0",
            "_model_name": "DescriptionStyleModel",
            "_view_count": null,
            "_view_module": "@jupyter-widgets/base",
            "_view_module_version": "1.2.0",
            "_view_name": "StyleView",
            "description_width": ""
          }
        },
        "da448448b95743cb8e077051d0136890": {
          "model_module": "@jupyter-widgets/base",
          "model_name": "LayoutModel",
          "model_module_version": "1.2.0",
          "state": {
            "_model_module": "@jupyter-widgets/base",
            "_model_module_version": "1.2.0",
            "_model_name": "LayoutModel",
            "_view_count": null,
            "_view_module": "@jupyter-widgets/base",
            "_view_module_version": "1.2.0",
            "_view_name": "LayoutView",
            "align_content": null,
            "align_items": null,
            "align_self": null,
            "border": null,
            "bottom": null,
            "display": null,
            "flex": null,
            "flex_flow": null,
            "grid_area": null,
            "grid_auto_columns": null,
            "grid_auto_flow": null,
            "grid_auto_rows": null,
            "grid_column": null,
            "grid_gap": null,
            "grid_row": null,
            "grid_template_areas": null,
            "grid_template_columns": null,
            "grid_template_rows": null,
            "height": null,
            "justify_content": null,
            "justify_items": null,
            "left": null,
            "margin": null,
            "max_height": null,
            "max_width": null,
            "min_height": null,
            "min_width": null,
            "object_fit": null,
            "object_position": null,
            "order": null,
            "overflow": null,
            "overflow_x": null,
            "overflow_y": null,
            "padding": null,
            "right": null,
            "top": null,
            "visibility": null,
            "width": null
          }
        },
        "1d6339de500541a09451cfca3bd63c67": {
          "model_module": "@jupyter-widgets/controls",
          "model_name": "ProgressStyleModel",
          "model_module_version": "1.5.0",
          "state": {
            "_model_module": "@jupyter-widgets/controls",
            "_model_module_version": "1.5.0",
            "_model_name": "ProgressStyleModel",
            "_view_count": null,
            "_view_module": "@jupyter-widgets/base",
            "_view_module_version": "1.2.0",
            "_view_name": "StyleView",
            "bar_color": null,
            "description_width": ""
          }
        },
        "c48704fe8910478db072fefe2fe79395": {
          "model_module": "@jupyter-widgets/base",
          "model_name": "LayoutModel",
          "model_module_version": "1.2.0",
          "state": {
            "_model_module": "@jupyter-widgets/base",
            "_model_module_version": "1.2.0",
            "_model_name": "LayoutModel",
            "_view_count": null,
            "_view_module": "@jupyter-widgets/base",
            "_view_module_version": "1.2.0",
            "_view_name": "LayoutView",
            "align_content": null,
            "align_items": null,
            "align_self": null,
            "border": null,
            "bottom": null,
            "display": null,
            "flex": null,
            "flex_flow": null,
            "grid_area": null,
            "grid_auto_columns": null,
            "grid_auto_flow": null,
            "grid_auto_rows": null,
            "grid_column": null,
            "grid_gap": null,
            "grid_row": null,
            "grid_template_areas": null,
            "grid_template_columns": null,
            "grid_template_rows": null,
            "height": null,
            "justify_content": null,
            "justify_items": null,
            "left": null,
            "margin": null,
            "max_height": null,
            "max_width": null,
            "min_height": null,
            "min_width": null,
            "object_fit": null,
            "object_position": null,
            "order": null,
            "overflow": null,
            "overflow_x": null,
            "overflow_y": null,
            "padding": null,
            "right": null,
            "top": null,
            "visibility": null,
            "width": null
          }
        },
        "18fb76fdf29140b6a2164d6622a0a745": {
          "model_module": "@jupyter-widgets/controls",
          "model_name": "DescriptionStyleModel",
          "model_module_version": "1.5.0",
          "state": {
            "_model_module": "@jupyter-widgets/controls",
            "_model_module_version": "1.5.0",
            "_model_name": "DescriptionStyleModel",
            "_view_count": null,
            "_view_module": "@jupyter-widgets/base",
            "_view_module_version": "1.2.0",
            "_view_name": "StyleView",
            "description_width": ""
          }
        },
        "fc3069745e6c464aa6161acd3330465b": {
          "model_module": "@jupyter-widgets/controls",
          "model_name": "HBoxModel",
          "model_module_version": "1.5.0",
          "state": {
            "_dom_classes": [],
            "_model_module": "@jupyter-widgets/controls",
            "_model_module_version": "1.5.0",
            "_model_name": "HBoxModel",
            "_view_count": null,
            "_view_module": "@jupyter-widgets/controls",
            "_view_module_version": "1.5.0",
            "_view_name": "HBoxView",
            "box_style": "",
            "children": [
              "IPY_MODEL_f4b5f9050f384374b77c7d3a8e637cd6",
              "IPY_MODEL_dd5857b9c53f4e629dd7fcf42366c647",
              "IPY_MODEL_c32b0d308380470793798b8a34026aea"
            ],
            "layout": "IPY_MODEL_bc885a704fb945b09812ee7edc3b52f7"
          }
        },
        "f4b5f9050f384374b77c7d3a8e637cd6": {
          "model_module": "@jupyter-widgets/controls",
          "model_name": "HTMLModel",
          "model_module_version": "1.5.0",
          "state": {
            "_dom_classes": [],
            "_model_module": "@jupyter-widgets/controls",
            "_model_module_version": "1.5.0",
            "_model_name": "HTMLModel",
            "_view_count": null,
            "_view_module": "@jupyter-widgets/controls",
            "_view_module_version": "1.5.0",
            "_view_name": "HTMLView",
            "description": "",
            "description_tooltip": null,
            "layout": "IPY_MODEL_cd41ad2d55f74b2f98f6ddf56add9d07",
            "placeholder": "​",
            "style": "IPY_MODEL_a69dd8b206cb4357bb68f2023d363dbc",
            "value": "onnx/tokenizer_config.json: 100%"
          }
        },
        "dd5857b9c53f4e629dd7fcf42366c647": {
          "model_module": "@jupyter-widgets/controls",
          "model_name": "FloatProgressModel",
          "model_module_version": "1.5.0",
          "state": {
            "_dom_classes": [],
            "_model_module": "@jupyter-widgets/controls",
            "_model_module_version": "1.5.0",
            "_model_name": "FloatProgressModel",
            "_view_count": null,
            "_view_module": "@jupyter-widgets/controls",
            "_view_module_version": "1.5.0",
            "_view_name": "ProgressView",
            "bar_style": "success",
            "description": "",
            "description_tooltip": null,
            "layout": "IPY_MODEL_0606c3aea9284aa8bbac1f0adf1ea596",
            "max": 418,
            "min": 0,
            "orientation": "horizontal",
            "style": "IPY_MODEL_c5b44bb6118346f8a37ef4e17132a573",
            "value": 418
          }
        },
        "c32b0d308380470793798b8a34026aea": {
          "model_module": "@jupyter-widgets/controls",
          "model_name": "HTMLModel",
          "model_module_version": "1.5.0",
          "state": {
            "_dom_classes": [],
            "_model_module": "@jupyter-widgets/controls",
            "_model_module_version": "1.5.0",
            "_model_name": "HTMLModel",
            "_view_count": null,
            "_view_module": "@jupyter-widgets/controls",
            "_view_module_version": "1.5.0",
            "_view_name": "HTMLView",
            "description": "",
            "description_tooltip": null,
            "layout": "IPY_MODEL_e75da7af123d401d8e97ca8ebd9ef5c1",
            "placeholder": "​",
            "style": "IPY_MODEL_17708564fb2043d494bed213710bf6a3",
            "value": " 418/418 [00:00&lt;00:00, 14.8kB/s]"
          }
        },
        "bc885a704fb945b09812ee7edc3b52f7": {
          "model_module": "@jupyter-widgets/base",
          "model_name": "LayoutModel",
          "model_module_version": "1.2.0",
          "state": {
            "_model_module": "@jupyter-widgets/base",
            "_model_module_version": "1.2.0",
            "_model_name": "LayoutModel",
            "_view_count": null,
            "_view_module": "@jupyter-widgets/base",
            "_view_module_version": "1.2.0",
            "_view_name": "LayoutView",
            "align_content": null,
            "align_items": null,
            "align_self": null,
            "border": null,
            "bottom": null,
            "display": null,
            "flex": null,
            "flex_flow": null,
            "grid_area": null,
            "grid_auto_columns": null,
            "grid_auto_flow": null,
            "grid_auto_rows": null,
            "grid_column": null,
            "grid_gap": null,
            "grid_row": null,
            "grid_template_areas": null,
            "grid_template_columns": null,
            "grid_template_rows": null,
            "height": null,
            "justify_content": null,
            "justify_items": null,
            "left": null,
            "margin": null,
            "max_height": null,
            "max_width": null,
            "min_height": null,
            "min_width": null,
            "object_fit": null,
            "object_position": null,
            "order": null,
            "overflow": null,
            "overflow_x": null,
            "overflow_y": null,
            "padding": null,
            "right": null,
            "top": null,
            "visibility": null,
            "width": null
          }
        },
        "cd41ad2d55f74b2f98f6ddf56add9d07": {
          "model_module": "@jupyter-widgets/base",
          "model_name": "LayoutModel",
          "model_module_version": "1.2.0",
          "state": {
            "_model_module": "@jupyter-widgets/base",
            "_model_module_version": "1.2.0",
            "_model_name": "LayoutModel",
            "_view_count": null,
            "_view_module": "@jupyter-widgets/base",
            "_view_module_version": "1.2.0",
            "_view_name": "LayoutView",
            "align_content": null,
            "align_items": null,
            "align_self": null,
            "border": null,
            "bottom": null,
            "display": null,
            "flex": null,
            "flex_flow": null,
            "grid_area": null,
            "grid_auto_columns": null,
            "grid_auto_flow": null,
            "grid_auto_rows": null,
            "grid_column": null,
            "grid_gap": null,
            "grid_row": null,
            "grid_template_areas": null,
            "grid_template_columns": null,
            "grid_template_rows": null,
            "height": null,
            "justify_content": null,
            "justify_items": null,
            "left": null,
            "margin": null,
            "max_height": null,
            "max_width": null,
            "min_height": null,
            "min_width": null,
            "object_fit": null,
            "object_position": null,
            "order": null,
            "overflow": null,
            "overflow_x": null,
            "overflow_y": null,
            "padding": null,
            "right": null,
            "top": null,
            "visibility": null,
            "width": null
          }
        },
        "a69dd8b206cb4357bb68f2023d363dbc": {
          "model_module": "@jupyter-widgets/controls",
          "model_name": "DescriptionStyleModel",
          "model_module_version": "1.5.0",
          "state": {
            "_model_module": "@jupyter-widgets/controls",
            "_model_module_version": "1.5.0",
            "_model_name": "DescriptionStyleModel",
            "_view_count": null,
            "_view_module": "@jupyter-widgets/base",
            "_view_module_version": "1.2.0",
            "_view_name": "StyleView",
            "description_width": ""
          }
        },
        "0606c3aea9284aa8bbac1f0adf1ea596": {
          "model_module": "@jupyter-widgets/base",
          "model_name": "LayoutModel",
          "model_module_version": "1.2.0",
          "state": {
            "_model_module": "@jupyter-widgets/base",
            "_model_module_version": "1.2.0",
            "_model_name": "LayoutModel",
            "_view_count": null,
            "_view_module": "@jupyter-widgets/base",
            "_view_module_version": "1.2.0",
            "_view_name": "LayoutView",
            "align_content": null,
            "align_items": null,
            "align_self": null,
            "border": null,
            "bottom": null,
            "display": null,
            "flex": null,
            "flex_flow": null,
            "grid_area": null,
            "grid_auto_columns": null,
            "grid_auto_flow": null,
            "grid_auto_rows": null,
            "grid_column": null,
            "grid_gap": null,
            "grid_row": null,
            "grid_template_areas": null,
            "grid_template_columns": null,
            "grid_template_rows": null,
            "height": null,
            "justify_content": null,
            "justify_items": null,
            "left": null,
            "margin": null,
            "max_height": null,
            "max_width": null,
            "min_height": null,
            "min_width": null,
            "object_fit": null,
            "object_position": null,
            "order": null,
            "overflow": null,
            "overflow_x": null,
            "overflow_y": null,
            "padding": null,
            "right": null,
            "top": null,
            "visibility": null,
            "width": null
          }
        },
        "c5b44bb6118346f8a37ef4e17132a573": {
          "model_module": "@jupyter-widgets/controls",
          "model_name": "ProgressStyleModel",
          "model_module_version": "1.5.0",
          "state": {
            "_model_module": "@jupyter-widgets/controls",
            "_model_module_version": "1.5.0",
            "_model_name": "ProgressStyleModel",
            "_view_count": null,
            "_view_module": "@jupyter-widgets/base",
            "_view_module_version": "1.2.0",
            "_view_name": "StyleView",
            "bar_color": null,
            "description_width": ""
          }
        },
        "e75da7af123d401d8e97ca8ebd9ef5c1": {
          "model_module": "@jupyter-widgets/base",
          "model_name": "LayoutModel",
          "model_module_version": "1.2.0",
          "state": {
            "_model_module": "@jupyter-widgets/base",
            "_model_module_version": "1.2.0",
            "_model_name": "LayoutModel",
            "_view_count": null,
            "_view_module": "@jupyter-widgets/base",
            "_view_module_version": "1.2.0",
            "_view_name": "LayoutView",
            "align_content": null,
            "align_items": null,
            "align_self": null,
            "border": null,
            "bottom": null,
            "display": null,
            "flex": null,
            "flex_flow": null,
            "grid_area": null,
            "grid_auto_columns": null,
            "grid_auto_flow": null,
            "grid_auto_rows": null,
            "grid_column": null,
            "grid_gap": null,
            "grid_row": null,
            "grid_template_areas": null,
            "grid_template_columns": null,
            "grid_template_rows": null,
            "height": null,
            "justify_content": null,
            "justify_items": null,
            "left": null,
            "margin": null,
            "max_height": null,
            "max_width": null,
            "min_height": null,
            "min_width": null,
            "object_fit": null,
            "object_position": null,
            "order": null,
            "overflow": null,
            "overflow_x": null,
            "overflow_y": null,
            "padding": null,
            "right": null,
            "top": null,
            "visibility": null,
            "width": null
          }
        },
        "17708564fb2043d494bed213710bf6a3": {
          "model_module": "@jupyter-widgets/controls",
          "model_name": "DescriptionStyleModel",
          "model_module_version": "1.5.0",
          "state": {
            "_model_module": "@jupyter-widgets/controls",
            "_model_module_version": "1.5.0",
            "_model_name": "DescriptionStyleModel",
            "_view_count": null,
            "_view_module": "@jupyter-widgets/base",
            "_view_module_version": "1.2.0",
            "_view_name": "StyleView",
            "description_width": ""
          }
        },
        "4df98c311e2d44c597894b1f487e3aa8": {
          "model_module": "@jupyter-widgets/controls",
          "model_name": "HBoxModel",
          "model_module_version": "1.5.0",
          "state": {
            "_dom_classes": [],
            "_model_module": "@jupyter-widgets/controls",
            "_model_module_version": "1.5.0",
            "_model_name": "HBoxModel",
            "_view_count": null,
            "_view_module": "@jupyter-widgets/controls",
            "_view_module_version": "1.5.0",
            "_view_name": "HBoxView",
            "box_style": "",
            "children": [
              "IPY_MODEL_f0d282c35fd44c10b3e43ae946ff0cc5",
              "IPY_MODEL_26b612bdd00c4c7a99ec2755cd829086",
              "IPY_MODEL_0ef8848f58e440508b7dc72f626083e8"
            ],
            "layout": "IPY_MODEL_0a47bbd2787746a8952224717ba7e2f7"
          }
        },
        "f0d282c35fd44c10b3e43ae946ff0cc5": {
          "model_module": "@jupyter-widgets/controls",
          "model_name": "HTMLModel",
          "model_module_version": "1.5.0",
          "state": {
            "_dom_classes": [],
            "_model_module": "@jupyter-widgets/controls",
            "_model_module_version": "1.5.0",
            "_model_name": "HTMLModel",
            "_view_count": null,
            "_view_module": "@jupyter-widgets/controls",
            "_view_module_version": "1.5.0",
            "_view_name": "HTMLView",
            "description": "",
            "description_tooltip": null,
            "layout": "IPY_MODEL_5f2054d8884c4bbba7205788f6c16bb7",
            "placeholder": "​",
            "style": "IPY_MODEL_dfe2148af54a4c84958d7a6404c185e5",
            "value": "pytorch_model.bin: 100%"
          }
        },
        "26b612bdd00c4c7a99ec2755cd829086": {
          "model_module": "@jupyter-widgets/controls",
          "model_name": "FloatProgressModel",
          "model_module_version": "1.5.0",
          "state": {
            "_dom_classes": [],
            "_model_module": "@jupyter-widgets/controls",
            "_model_module_version": "1.5.0",
            "_model_name": "FloatProgressModel",
            "_view_count": null,
            "_view_module": "@jupyter-widgets/controls",
            "_view_module_version": "1.5.0",
            "_view_name": "ProgressView",
            "bar_style": "success",
            "description": "",
            "description_tooltip": null,
            "layout": "IPY_MODEL_66f0f2ddde32453390bfc6a41c8f321b",
            "max": 2244861551,
            "min": 0,
            "orientation": "horizontal",
            "style": "IPY_MODEL_9fdd0811d72944e9b94350a3b8925815",
            "value": 2244861551
          }
        },
        "0ef8848f58e440508b7dc72f626083e8": {
          "model_module": "@jupyter-widgets/controls",
          "model_name": "HTMLModel",
          "model_module_version": "1.5.0",
          "state": {
            "_dom_classes": [],
            "_model_module": "@jupyter-widgets/controls",
            "_model_module_version": "1.5.0",
            "_model_name": "HTMLModel",
            "_view_count": null,
            "_view_module": "@jupyter-widgets/controls",
            "_view_module_version": "1.5.0",
            "_view_name": "HTMLView",
            "description": "",
            "description_tooltip": null,
            "layout": "IPY_MODEL_280ed20b0f324a2198175e8b1fe804df",
            "placeholder": "​",
            "style": "IPY_MODEL_f34125b7979844cbb6f35df06ae24aa9",
            "value": " 2.24G/2.24G [01:01&lt;00:00, 46.9MB/s]"
          }
        },
        "0a47bbd2787746a8952224717ba7e2f7": {
          "model_module": "@jupyter-widgets/base",
          "model_name": "LayoutModel",
          "model_module_version": "1.2.0",
          "state": {
            "_model_module": "@jupyter-widgets/base",
            "_model_module_version": "1.2.0",
            "_model_name": "LayoutModel",
            "_view_count": null,
            "_view_module": "@jupyter-widgets/base",
            "_view_module_version": "1.2.0",
            "_view_name": "LayoutView",
            "align_content": null,
            "align_items": null,
            "align_self": null,
            "border": null,
            "bottom": null,
            "display": null,
            "flex": null,
            "flex_flow": null,
            "grid_area": null,
            "grid_auto_columns": null,
            "grid_auto_flow": null,
            "grid_auto_rows": null,
            "grid_column": null,
            "grid_gap": null,
            "grid_row": null,
            "grid_template_areas": null,
            "grid_template_columns": null,
            "grid_template_rows": null,
            "height": null,
            "justify_content": null,
            "justify_items": null,
            "left": null,
            "margin": null,
            "max_height": null,
            "max_width": null,
            "min_height": null,
            "min_width": null,
            "object_fit": null,
            "object_position": null,
            "order": null,
            "overflow": null,
            "overflow_x": null,
            "overflow_y": null,
            "padding": null,
            "right": null,
            "top": null,
            "visibility": null,
            "width": null
          }
        },
        "5f2054d8884c4bbba7205788f6c16bb7": {
          "model_module": "@jupyter-widgets/base",
          "model_name": "LayoutModel",
          "model_module_version": "1.2.0",
          "state": {
            "_model_module": "@jupyter-widgets/base",
            "_model_module_version": "1.2.0",
            "_model_name": "LayoutModel",
            "_view_count": null,
            "_view_module": "@jupyter-widgets/base",
            "_view_module_version": "1.2.0",
            "_view_name": "LayoutView",
            "align_content": null,
            "align_items": null,
            "align_self": null,
            "border": null,
            "bottom": null,
            "display": null,
            "flex": null,
            "flex_flow": null,
            "grid_area": null,
            "grid_auto_columns": null,
            "grid_auto_flow": null,
            "grid_auto_rows": null,
            "grid_column": null,
            "grid_gap": null,
            "grid_row": null,
            "grid_template_areas": null,
            "grid_template_columns": null,
            "grid_template_rows": null,
            "height": null,
            "justify_content": null,
            "justify_items": null,
            "left": null,
            "margin": null,
            "max_height": null,
            "max_width": null,
            "min_height": null,
            "min_width": null,
            "object_fit": null,
            "object_position": null,
            "order": null,
            "overflow": null,
            "overflow_x": null,
            "overflow_y": null,
            "padding": null,
            "right": null,
            "top": null,
            "visibility": null,
            "width": null
          }
        },
        "dfe2148af54a4c84958d7a6404c185e5": {
          "model_module": "@jupyter-widgets/controls",
          "model_name": "DescriptionStyleModel",
          "model_module_version": "1.5.0",
          "state": {
            "_model_module": "@jupyter-widgets/controls",
            "_model_module_version": "1.5.0",
            "_model_name": "DescriptionStyleModel",
            "_view_count": null,
            "_view_module": "@jupyter-widgets/base",
            "_view_module_version": "1.2.0",
            "_view_name": "StyleView",
            "description_width": ""
          }
        },
        "66f0f2ddde32453390bfc6a41c8f321b": {
          "model_module": "@jupyter-widgets/base",
          "model_name": "LayoutModel",
          "model_module_version": "1.2.0",
          "state": {
            "_model_module": "@jupyter-widgets/base",
            "_model_module_version": "1.2.0",
            "_model_name": "LayoutModel",
            "_view_count": null,
            "_view_module": "@jupyter-widgets/base",
            "_view_module_version": "1.2.0",
            "_view_name": "LayoutView",
            "align_content": null,
            "align_items": null,
            "align_self": null,
            "border": null,
            "bottom": null,
            "display": null,
            "flex": null,
            "flex_flow": null,
            "grid_area": null,
            "grid_auto_columns": null,
            "grid_auto_flow": null,
            "grid_auto_rows": null,
            "grid_column": null,
            "grid_gap": null,
            "grid_row": null,
            "grid_template_areas": null,
            "grid_template_columns": null,
            "grid_template_rows": null,
            "height": null,
            "justify_content": null,
            "justify_items": null,
            "left": null,
            "margin": null,
            "max_height": null,
            "max_width": null,
            "min_height": null,
            "min_width": null,
            "object_fit": null,
            "object_position": null,
            "order": null,
            "overflow": null,
            "overflow_x": null,
            "overflow_y": null,
            "padding": null,
            "right": null,
            "top": null,
            "visibility": null,
            "width": null
          }
        },
        "9fdd0811d72944e9b94350a3b8925815": {
          "model_module": "@jupyter-widgets/controls",
          "model_name": "ProgressStyleModel",
          "model_module_version": "1.5.0",
          "state": {
            "_model_module": "@jupyter-widgets/controls",
            "_model_module_version": "1.5.0",
            "_model_name": "ProgressStyleModel",
            "_view_count": null,
            "_view_module": "@jupyter-widgets/base",
            "_view_module_version": "1.2.0",
            "_view_name": "StyleView",
            "bar_color": null,
            "description_width": ""
          }
        },
        "280ed20b0f324a2198175e8b1fe804df": {
          "model_module": "@jupyter-widgets/base",
          "model_name": "LayoutModel",
          "model_module_version": "1.2.0",
          "state": {
            "_model_module": "@jupyter-widgets/base",
            "_model_module_version": "1.2.0",
            "_model_name": "LayoutModel",
            "_view_count": null,
            "_view_module": "@jupyter-widgets/base",
            "_view_module_version": "1.2.0",
            "_view_name": "LayoutView",
            "align_content": null,
            "align_items": null,
            "align_self": null,
            "border": null,
            "bottom": null,
            "display": null,
            "flex": null,
            "flex_flow": null,
            "grid_area": null,
            "grid_auto_columns": null,
            "grid_auto_flow": null,
            "grid_auto_rows": null,
            "grid_column": null,
            "grid_gap": null,
            "grid_row": null,
            "grid_template_areas": null,
            "grid_template_columns": null,
            "grid_template_rows": null,
            "height": null,
            "justify_content": null,
            "justify_items": null,
            "left": null,
            "margin": null,
            "max_height": null,
            "max_width": null,
            "min_height": null,
            "min_width": null,
            "object_fit": null,
            "object_position": null,
            "order": null,
            "overflow": null,
            "overflow_x": null,
            "overflow_y": null,
            "padding": null,
            "right": null,
            "top": null,
            "visibility": null,
            "width": null
          }
        },
        "f34125b7979844cbb6f35df06ae24aa9": {
          "model_module": "@jupyter-widgets/controls",
          "model_name": "DescriptionStyleModel",
          "model_module_version": "1.5.0",
          "state": {
            "_model_module": "@jupyter-widgets/controls",
            "_model_module_version": "1.5.0",
            "_model_name": "DescriptionStyleModel",
            "_view_count": null,
            "_view_module": "@jupyter-widgets/base",
            "_view_module_version": "1.2.0",
            "_view_name": "StyleView",
            "description_width": ""
          }
        },
        "9ed9d9a571a94369830f01f61b8d09d6": {
          "model_module": "@jupyter-widgets/controls",
          "model_name": "HBoxModel",
          "model_module_version": "1.5.0",
          "state": {
            "_dom_classes": [],
            "_model_module": "@jupyter-widgets/controls",
            "_model_module_version": "1.5.0",
            "_model_name": "HBoxModel",
            "_view_count": null,
            "_view_module": "@jupyter-widgets/controls",
            "_view_module_version": "1.5.0",
            "_view_name": "HBoxView",
            "box_style": "",
            "children": [
              "IPY_MODEL_5366ed8cb87f46ce8e0ac556c28bc2d7",
              "IPY_MODEL_7fc47e996ca94ca281e52f66670111a7",
              "IPY_MODEL_08c4aeef35c74263a8bb7a73020a19da"
            ],
            "layout": "IPY_MODEL_d69ba4d0ff7a46b581cb67d6691b615b"
          }
        },
        "5366ed8cb87f46ce8e0ac556c28bc2d7": {
          "model_module": "@jupyter-widgets/controls",
          "model_name": "HTMLModel",
          "model_module_version": "1.5.0",
          "state": {
            "_dom_classes": [],
            "_model_module": "@jupyter-widgets/controls",
            "_model_module_version": "1.5.0",
            "_model_name": "HTMLModel",
            "_view_count": null,
            "_view_module": "@jupyter-widgets/controls",
            "_view_module_version": "1.5.0",
            "_view_name": "HTMLView",
            "description": "",
            "description_tooltip": null,
            "layout": "IPY_MODEL_30b0c12fbe8b4db48f99db5bdd67ab02",
            "placeholder": "​",
            "style": "IPY_MODEL_260d09a31bf442b5a1d2137114ebf5d6",
            "value": "sentencepiece.bpe.model: 100%"
          }
        },
        "7fc47e996ca94ca281e52f66670111a7": {
          "model_module": "@jupyter-widgets/controls",
          "model_name": "FloatProgressModel",
          "model_module_version": "1.5.0",
          "state": {
            "_dom_classes": [],
            "_model_module": "@jupyter-widgets/controls",
            "_model_module_version": "1.5.0",
            "_model_name": "FloatProgressModel",
            "_view_count": null,
            "_view_module": "@jupyter-widgets/controls",
            "_view_module_version": "1.5.0",
            "_view_name": "ProgressView",
            "bar_style": "success",
            "description": "",
            "description_tooltip": null,
            "layout": "IPY_MODEL_acf7af18d4a64bd587b1d387fa0a6edf",
            "max": 5069051,
            "min": 0,
            "orientation": "horizontal",
            "style": "IPY_MODEL_c4828b7b0ee44be3874dea7e4fbb9a44",
            "value": 5069051
          }
        },
        "08c4aeef35c74263a8bb7a73020a19da": {
          "model_module": "@jupyter-widgets/controls",
          "model_name": "HTMLModel",
          "model_module_version": "1.5.0",
          "state": {
            "_dom_classes": [],
            "_model_module": "@jupyter-widgets/controls",
            "_model_module_version": "1.5.0",
            "_model_name": "HTMLModel",
            "_view_count": null,
            "_view_module": "@jupyter-widgets/controls",
            "_view_module_version": "1.5.0",
            "_view_name": "HTMLView",
            "description": "",
            "description_tooltip": null,
            "layout": "IPY_MODEL_0d1db84382bf46568655dd4c500503bd",
            "placeholder": "​",
            "style": "IPY_MODEL_61bdc1d62ec845409c193a3c564fe435",
            "value": " 5.07M/5.07M [00:00&lt;00:00, 44.2MB/s]"
          }
        },
        "d69ba4d0ff7a46b581cb67d6691b615b": {
          "model_module": "@jupyter-widgets/base",
          "model_name": "LayoutModel",
          "model_module_version": "1.2.0",
          "state": {
            "_model_module": "@jupyter-widgets/base",
            "_model_module_version": "1.2.0",
            "_model_name": "LayoutModel",
            "_view_count": null,
            "_view_module": "@jupyter-widgets/base",
            "_view_module_version": "1.2.0",
            "_view_name": "LayoutView",
            "align_content": null,
            "align_items": null,
            "align_self": null,
            "border": null,
            "bottom": null,
            "display": null,
            "flex": null,
            "flex_flow": null,
            "grid_area": null,
            "grid_auto_columns": null,
            "grid_auto_flow": null,
            "grid_auto_rows": null,
            "grid_column": null,
            "grid_gap": null,
            "grid_row": null,
            "grid_template_areas": null,
            "grid_template_columns": null,
            "grid_template_rows": null,
            "height": null,
            "justify_content": null,
            "justify_items": null,
            "left": null,
            "margin": null,
            "max_height": null,
            "max_width": null,
            "min_height": null,
            "min_width": null,
            "object_fit": null,
            "object_position": null,
            "order": null,
            "overflow": null,
            "overflow_x": null,
            "overflow_y": null,
            "padding": null,
            "right": null,
            "top": null,
            "visibility": null,
            "width": null
          }
        },
        "30b0c12fbe8b4db48f99db5bdd67ab02": {
          "model_module": "@jupyter-widgets/base",
          "model_name": "LayoutModel",
          "model_module_version": "1.2.0",
          "state": {
            "_model_module": "@jupyter-widgets/base",
            "_model_module_version": "1.2.0",
            "_model_name": "LayoutModel",
            "_view_count": null,
            "_view_module": "@jupyter-widgets/base",
            "_view_module_version": "1.2.0",
            "_view_name": "LayoutView",
            "align_content": null,
            "align_items": null,
            "align_self": null,
            "border": null,
            "bottom": null,
            "display": null,
            "flex": null,
            "flex_flow": null,
            "grid_area": null,
            "grid_auto_columns": null,
            "grid_auto_flow": null,
            "grid_auto_rows": null,
            "grid_column": null,
            "grid_gap": null,
            "grid_row": null,
            "grid_template_areas": null,
            "grid_template_columns": null,
            "grid_template_rows": null,
            "height": null,
            "justify_content": null,
            "justify_items": null,
            "left": null,
            "margin": null,
            "max_height": null,
            "max_width": null,
            "min_height": null,
            "min_width": null,
            "object_fit": null,
            "object_position": null,
            "order": null,
            "overflow": null,
            "overflow_x": null,
            "overflow_y": null,
            "padding": null,
            "right": null,
            "top": null,
            "visibility": null,
            "width": null
          }
        },
        "260d09a31bf442b5a1d2137114ebf5d6": {
          "model_module": "@jupyter-widgets/controls",
          "model_name": "DescriptionStyleModel",
          "model_module_version": "1.5.0",
          "state": {
            "_model_module": "@jupyter-widgets/controls",
            "_model_module_version": "1.5.0",
            "_model_name": "DescriptionStyleModel",
            "_view_count": null,
            "_view_module": "@jupyter-widgets/base",
            "_view_module_version": "1.2.0",
            "_view_name": "StyleView",
            "description_width": ""
          }
        },
        "acf7af18d4a64bd587b1d387fa0a6edf": {
          "model_module": "@jupyter-widgets/base",
          "model_name": "LayoutModel",
          "model_module_version": "1.2.0",
          "state": {
            "_model_module": "@jupyter-widgets/base",
            "_model_module_version": "1.2.0",
            "_model_name": "LayoutModel",
            "_view_count": null,
            "_view_module": "@jupyter-widgets/base",
            "_view_module_version": "1.2.0",
            "_view_name": "LayoutView",
            "align_content": null,
            "align_items": null,
            "align_self": null,
            "border": null,
            "bottom": null,
            "display": null,
            "flex": null,
            "flex_flow": null,
            "grid_area": null,
            "grid_auto_columns": null,
            "grid_auto_flow": null,
            "grid_auto_rows": null,
            "grid_column": null,
            "grid_gap": null,
            "grid_row": null,
            "grid_template_areas": null,
            "grid_template_columns": null,
            "grid_template_rows": null,
            "height": null,
            "justify_content": null,
            "justify_items": null,
            "left": null,
            "margin": null,
            "max_height": null,
            "max_width": null,
            "min_height": null,
            "min_width": null,
            "object_fit": null,
            "object_position": null,
            "order": null,
            "overflow": null,
            "overflow_x": null,
            "overflow_y": null,
            "padding": null,
            "right": null,
            "top": null,
            "visibility": null,
            "width": null
          }
        },
        "c4828b7b0ee44be3874dea7e4fbb9a44": {
          "model_module": "@jupyter-widgets/controls",
          "model_name": "ProgressStyleModel",
          "model_module_version": "1.5.0",
          "state": {
            "_model_module": "@jupyter-widgets/controls",
            "_model_module_version": "1.5.0",
            "_model_name": "ProgressStyleModel",
            "_view_count": null,
            "_view_module": "@jupyter-widgets/base",
            "_view_module_version": "1.2.0",
            "_view_name": "StyleView",
            "bar_color": null,
            "description_width": ""
          }
        },
        "0d1db84382bf46568655dd4c500503bd": {
          "model_module": "@jupyter-widgets/base",
          "model_name": "LayoutModel",
          "model_module_version": "1.2.0",
          "state": {
            "_model_module": "@jupyter-widgets/base",
            "_model_module_version": "1.2.0",
            "_model_name": "LayoutModel",
            "_view_count": null,
            "_view_module": "@jupyter-widgets/base",
            "_view_module_version": "1.2.0",
            "_view_name": "LayoutView",
            "align_content": null,
            "align_items": null,
            "align_self": null,
            "border": null,
            "bottom": null,
            "display": null,
            "flex": null,
            "flex_flow": null,
            "grid_area": null,
            "grid_auto_columns": null,
            "grid_auto_flow": null,
            "grid_auto_rows": null,
            "grid_column": null,
            "grid_gap": null,
            "grid_row": null,
            "grid_template_areas": null,
            "grid_template_columns": null,
            "grid_template_rows": null,
            "height": null,
            "justify_content": null,
            "justify_items": null,
            "left": null,
            "margin": null,
            "max_height": null,
            "max_width": null,
            "min_height": null,
            "min_width": null,
            "object_fit": null,
            "object_position": null,
            "order": null,
            "overflow": null,
            "overflow_x": null,
            "overflow_y": null,
            "padding": null,
            "right": null,
            "top": null,
            "visibility": null,
            "width": null
          }
        },
        "61bdc1d62ec845409c193a3c564fe435": {
          "model_module": "@jupyter-widgets/controls",
          "model_name": "DescriptionStyleModel",
          "model_module_version": "1.5.0",
          "state": {
            "_model_module": "@jupyter-widgets/controls",
            "_model_module_version": "1.5.0",
            "_model_name": "DescriptionStyleModel",
            "_view_count": null,
            "_view_module": "@jupyter-widgets/base",
            "_view_module_version": "1.2.0",
            "_view_name": "StyleView",
            "description_width": ""
          }
        },
        "a4a2ecf63ef449f392be6a16481e7672": {
          "model_module": "@jupyter-widgets/controls",
          "model_name": "HBoxModel",
          "model_module_version": "1.5.0",
          "state": {
            "_dom_classes": [],
            "_model_module": "@jupyter-widgets/controls",
            "_model_module_version": "1.5.0",
            "_model_name": "HBoxModel",
            "_view_count": null,
            "_view_module": "@jupyter-widgets/controls",
            "_view_module_version": "1.5.0",
            "_view_name": "HBoxView",
            "box_style": "",
            "children": [
              "IPY_MODEL_31a9c4825ab241e2ad4e8bbb05e47e8e",
              "IPY_MODEL_6d6bac9a24614d0db7c000449b5c280e",
              "IPY_MODEL_9989a7c66b154fc187e1032488b8c2f5"
            ],
            "layout": "IPY_MODEL_0d990028494a47a5a58227d811809980"
          }
        },
        "31a9c4825ab241e2ad4e8bbb05e47e8e": {
          "model_module": "@jupyter-widgets/controls",
          "model_name": "HTMLModel",
          "model_module_version": "1.5.0",
          "state": {
            "_dom_classes": [],
            "_model_module": "@jupyter-widgets/controls",
            "_model_module_version": "1.5.0",
            "_model_name": "HTMLModel",
            "_view_count": null,
            "_view_module": "@jupyter-widgets/controls",
            "_view_module_version": "1.5.0",
            "_view_name": "HTMLView",
            "description": "",
            "description_tooltip": null,
            "layout": "IPY_MODEL_0263bb7de2b64826bc16b7be288d1694",
            "placeholder": "​",
            "style": "IPY_MODEL_2fc5e926bfb140c49593c5b53fa8b674",
            "value": "tokenizer.json: 100%"
          }
        },
        "6d6bac9a24614d0db7c000449b5c280e": {
          "model_module": "@jupyter-widgets/controls",
          "model_name": "FloatProgressModel",
          "model_module_version": "1.5.0",
          "state": {
            "_dom_classes": [],
            "_model_module": "@jupyter-widgets/controls",
            "_model_module_version": "1.5.0",
            "_model_name": "FloatProgressModel",
            "_view_count": null,
            "_view_module": "@jupyter-widgets/controls",
            "_view_module_version": "1.5.0",
            "_view_name": "ProgressView",
            "bar_style": "success",
            "description": "",
            "description_tooltip": null,
            "layout": "IPY_MODEL_28f87636599943db9c8d1fbcb3482c82",
            "max": 9096718,
            "min": 0,
            "orientation": "horizontal",
            "style": "IPY_MODEL_fca47c6d7a7743c5b22c4720e90eb08e",
            "value": 9096718
          }
        },
        "9989a7c66b154fc187e1032488b8c2f5": {
          "model_module": "@jupyter-widgets/controls",
          "model_name": "HTMLModel",
          "model_module_version": "1.5.0",
          "state": {
            "_dom_classes": [],
            "_model_module": "@jupyter-widgets/controls",
            "_model_module_version": "1.5.0",
            "_model_name": "HTMLModel",
            "_view_count": null,
            "_view_module": "@jupyter-widgets/controls",
            "_view_module_version": "1.5.0",
            "_view_name": "HTMLView",
            "description": "",
            "description_tooltip": null,
            "layout": "IPY_MODEL_c5142b1d07774e428ad33352ee1b650d",
            "placeholder": "​",
            "style": "IPY_MODEL_a03595959f78411cb378bfa96815d41c",
            "value": " 9.10M/9.10M [00:00&lt;00:00, 17.2MB/s]"
          }
        },
        "0d990028494a47a5a58227d811809980": {
          "model_module": "@jupyter-widgets/base",
          "model_name": "LayoutModel",
          "model_module_version": "1.2.0",
          "state": {
            "_model_module": "@jupyter-widgets/base",
            "_model_module_version": "1.2.0",
            "_model_name": "LayoutModel",
            "_view_count": null,
            "_view_module": "@jupyter-widgets/base",
            "_view_module_version": "1.2.0",
            "_view_name": "LayoutView",
            "align_content": null,
            "align_items": null,
            "align_self": null,
            "border": null,
            "bottom": null,
            "display": null,
            "flex": null,
            "flex_flow": null,
            "grid_area": null,
            "grid_auto_columns": null,
            "grid_auto_flow": null,
            "grid_auto_rows": null,
            "grid_column": null,
            "grid_gap": null,
            "grid_row": null,
            "grid_template_areas": null,
            "grid_template_columns": null,
            "grid_template_rows": null,
            "height": null,
            "justify_content": null,
            "justify_items": null,
            "left": null,
            "margin": null,
            "max_height": null,
            "max_width": null,
            "min_height": null,
            "min_width": null,
            "object_fit": null,
            "object_position": null,
            "order": null,
            "overflow": null,
            "overflow_x": null,
            "overflow_y": null,
            "padding": null,
            "right": null,
            "top": null,
            "visibility": null,
            "width": null
          }
        },
        "0263bb7de2b64826bc16b7be288d1694": {
          "model_module": "@jupyter-widgets/base",
          "model_name": "LayoutModel",
          "model_module_version": "1.2.0",
          "state": {
            "_model_module": "@jupyter-widgets/base",
            "_model_module_version": "1.2.0",
            "_model_name": "LayoutModel",
            "_view_count": null,
            "_view_module": "@jupyter-widgets/base",
            "_view_module_version": "1.2.0",
            "_view_name": "LayoutView",
            "align_content": null,
            "align_items": null,
            "align_self": null,
            "border": null,
            "bottom": null,
            "display": null,
            "flex": null,
            "flex_flow": null,
            "grid_area": null,
            "grid_auto_columns": null,
            "grid_auto_flow": null,
            "grid_auto_rows": null,
            "grid_column": null,
            "grid_gap": null,
            "grid_row": null,
            "grid_template_areas": null,
            "grid_template_columns": null,
            "grid_template_rows": null,
            "height": null,
            "justify_content": null,
            "justify_items": null,
            "left": null,
            "margin": null,
            "max_height": null,
            "max_width": null,
            "min_height": null,
            "min_width": null,
            "object_fit": null,
            "object_position": null,
            "order": null,
            "overflow": null,
            "overflow_x": null,
            "overflow_y": null,
            "padding": null,
            "right": null,
            "top": null,
            "visibility": null,
            "width": null
          }
        },
        "2fc5e926bfb140c49593c5b53fa8b674": {
          "model_module": "@jupyter-widgets/controls",
          "model_name": "DescriptionStyleModel",
          "model_module_version": "1.5.0",
          "state": {
            "_model_module": "@jupyter-widgets/controls",
            "_model_module_version": "1.5.0",
            "_model_name": "DescriptionStyleModel",
            "_view_count": null,
            "_view_module": "@jupyter-widgets/base",
            "_view_module_version": "1.2.0",
            "_view_name": "StyleView",
            "description_width": ""
          }
        },
        "28f87636599943db9c8d1fbcb3482c82": {
          "model_module": "@jupyter-widgets/base",
          "model_name": "LayoutModel",
          "model_module_version": "1.2.0",
          "state": {
            "_model_module": "@jupyter-widgets/base",
            "_model_module_version": "1.2.0",
            "_model_name": "LayoutModel",
            "_view_count": null,
            "_view_module": "@jupyter-widgets/base",
            "_view_module_version": "1.2.0",
            "_view_name": "LayoutView",
            "align_content": null,
            "align_items": null,
            "align_self": null,
            "border": null,
            "bottom": null,
            "display": null,
            "flex": null,
            "flex_flow": null,
            "grid_area": null,
            "grid_auto_columns": null,
            "grid_auto_flow": null,
            "grid_auto_rows": null,
            "grid_column": null,
            "grid_gap": null,
            "grid_row": null,
            "grid_template_areas": null,
            "grid_template_columns": null,
            "grid_template_rows": null,
            "height": null,
            "justify_content": null,
            "justify_items": null,
            "left": null,
            "margin": null,
            "max_height": null,
            "max_width": null,
            "min_height": null,
            "min_width": null,
            "object_fit": null,
            "object_position": null,
            "order": null,
            "overflow": null,
            "overflow_x": null,
            "overflow_y": null,
            "padding": null,
            "right": null,
            "top": null,
            "visibility": null,
            "width": null
          }
        },
        "fca47c6d7a7743c5b22c4720e90eb08e": {
          "model_module": "@jupyter-widgets/controls",
          "model_name": "ProgressStyleModel",
          "model_module_version": "1.5.0",
          "state": {
            "_model_module": "@jupyter-widgets/controls",
            "_model_module_version": "1.5.0",
            "_model_name": "ProgressStyleModel",
            "_view_count": null,
            "_view_module": "@jupyter-widgets/base",
            "_view_module_version": "1.2.0",
            "_view_name": "StyleView",
            "bar_color": null,
            "description_width": ""
          }
        },
        "c5142b1d07774e428ad33352ee1b650d": {
          "model_module": "@jupyter-widgets/base",
          "model_name": "LayoutModel",
          "model_module_version": "1.2.0",
          "state": {
            "_model_module": "@jupyter-widgets/base",
            "_model_module_version": "1.2.0",
            "_model_name": "LayoutModel",
            "_view_count": null,
            "_view_module": "@jupyter-widgets/base",
            "_view_module_version": "1.2.0",
            "_view_name": "LayoutView",
            "align_content": null,
            "align_items": null,
            "align_self": null,
            "border": null,
            "bottom": null,
            "display": null,
            "flex": null,
            "flex_flow": null,
            "grid_area": null,
            "grid_auto_columns": null,
            "grid_auto_flow": null,
            "grid_auto_rows": null,
            "grid_column": null,
            "grid_gap": null,
            "grid_row": null,
            "grid_template_areas": null,
            "grid_template_columns": null,
            "grid_template_rows": null,
            "height": null,
            "justify_content": null,
            "justify_items": null,
            "left": null,
            "margin": null,
            "max_height": null,
            "max_width": null,
            "min_height": null,
            "min_width": null,
            "object_fit": null,
            "object_position": null,
            "order": null,
            "overflow": null,
            "overflow_x": null,
            "overflow_y": null,
            "padding": null,
            "right": null,
            "top": null,
            "visibility": null,
            "width": null
          }
        },
        "a03595959f78411cb378bfa96815d41c": {
          "model_module": "@jupyter-widgets/controls",
          "model_name": "DescriptionStyleModel",
          "model_module_version": "1.5.0",
          "state": {
            "_model_module": "@jupyter-widgets/controls",
            "_model_module_version": "1.5.0",
            "_model_name": "DescriptionStyleModel",
            "_view_count": null,
            "_view_module": "@jupyter-widgets/base",
            "_view_module_version": "1.2.0",
            "_view_name": "StyleView",
            "description_width": ""
          }
        },
        "d3488d8508ce4c66914583bd25ff323b": {
          "model_module": "@jupyter-widgets/controls",
          "model_name": "HBoxModel",
          "model_module_version": "1.5.0",
          "state": {
            "_dom_classes": [],
            "_model_module": "@jupyter-widgets/controls",
            "_model_module_version": "1.5.0",
            "_model_name": "HBoxModel",
            "_view_count": null,
            "_view_module": "@jupyter-widgets/controls",
            "_view_module_version": "1.5.0",
            "_view_name": "HBoxView",
            "box_style": "",
            "children": [
              "IPY_MODEL_5458c1045d3040f4a5795ab2b0b48d35",
              "IPY_MODEL_99a610ea493e4463a237d5a0afbec9d2",
              "IPY_MODEL_fd6adb47e7984dc090e0379d47fc641f"
            ],
            "layout": "IPY_MODEL_53e211f96f6246c3839416e250475af2"
          }
        },
        "5458c1045d3040f4a5795ab2b0b48d35": {
          "model_module": "@jupyter-widgets/controls",
          "model_name": "HTMLModel",
          "model_module_version": "1.5.0",
          "state": {
            "_dom_classes": [],
            "_model_module": "@jupyter-widgets/controls",
            "_model_module_version": "1.5.0",
            "_model_name": "HTMLModel",
            "_view_count": null,
            "_view_module": "@jupyter-widgets/controls",
            "_view_module_version": "1.5.0",
            "_view_name": "HTMLView",
            "description": "",
            "description_tooltip": null,
            "layout": "IPY_MODEL_fb40e381f4f24f97a912b68984f70018",
            "placeholder": "​",
            "style": "IPY_MODEL_b7e78ea09e704d6e8b518668e356d4ab",
            "value": "tokenizer_config.json: 100%"
          }
        },
        "99a610ea493e4463a237d5a0afbec9d2": {
          "model_module": "@jupyter-widgets/controls",
          "model_name": "FloatProgressModel",
          "model_module_version": "1.5.0",
          "state": {
            "_dom_classes": [],
            "_model_module": "@jupyter-widgets/controls",
            "_model_module_version": "1.5.0",
            "_model_name": "FloatProgressModel",
            "_view_count": null,
            "_view_module": "@jupyter-widgets/controls",
            "_view_module_version": "1.5.0",
            "_view_name": "ProgressView",
            "bar_style": "success",
            "description": "",
            "description_tooltip": null,
            "layout": "IPY_MODEL_4e756c9cd49748e1b247515e1be4b4af",
            "max": 25,
            "min": 0,
            "orientation": "horizontal",
            "style": "IPY_MODEL_e7dc09b9504a4e159fa1abf0819a99ae",
            "value": 25
          }
        },
        "fd6adb47e7984dc090e0379d47fc641f": {
          "model_module": "@jupyter-widgets/controls",
          "model_name": "HTMLModel",
          "model_module_version": "1.5.0",
          "state": {
            "_dom_classes": [],
            "_model_module": "@jupyter-widgets/controls",
            "_model_module_version": "1.5.0",
            "_model_name": "HTMLModel",
            "_view_count": null,
            "_view_module": "@jupyter-widgets/controls",
            "_view_module_version": "1.5.0",
            "_view_name": "HTMLView",
            "description": "",
            "description_tooltip": null,
            "layout": "IPY_MODEL_e43241625f264b64a42bf22b706f2dd8",
            "placeholder": "​",
            "style": "IPY_MODEL_31162e4ab0e74d749c6f1d22f2a1d32b",
            "value": " 25.0/25.0 [00:00&lt;00:00, 662B/s]"
          }
        },
        "53e211f96f6246c3839416e250475af2": {
          "model_module": "@jupyter-widgets/base",
          "model_name": "LayoutModel",
          "model_module_version": "1.2.0",
          "state": {
            "_model_module": "@jupyter-widgets/base",
            "_model_module_version": "1.2.0",
            "_model_name": "LayoutModel",
            "_view_count": null,
            "_view_module": "@jupyter-widgets/base",
            "_view_module_version": "1.2.0",
            "_view_name": "LayoutView",
            "align_content": null,
            "align_items": null,
            "align_self": null,
            "border": null,
            "bottom": null,
            "display": null,
            "flex": null,
            "flex_flow": null,
            "grid_area": null,
            "grid_auto_columns": null,
            "grid_auto_flow": null,
            "grid_auto_rows": null,
            "grid_column": null,
            "grid_gap": null,
            "grid_row": null,
            "grid_template_areas": null,
            "grid_template_columns": null,
            "grid_template_rows": null,
            "height": null,
            "justify_content": null,
            "justify_items": null,
            "left": null,
            "margin": null,
            "max_height": null,
            "max_width": null,
            "min_height": null,
            "min_width": null,
            "object_fit": null,
            "object_position": null,
            "order": null,
            "overflow": null,
            "overflow_x": null,
            "overflow_y": null,
            "padding": null,
            "right": null,
            "top": null,
            "visibility": null,
            "width": null
          }
        },
        "fb40e381f4f24f97a912b68984f70018": {
          "model_module": "@jupyter-widgets/base",
          "model_name": "LayoutModel",
          "model_module_version": "1.2.0",
          "state": {
            "_model_module": "@jupyter-widgets/base",
            "_model_module_version": "1.2.0",
            "_model_name": "LayoutModel",
            "_view_count": null,
            "_view_module": "@jupyter-widgets/base",
            "_view_module_version": "1.2.0",
            "_view_name": "LayoutView",
            "align_content": null,
            "align_items": null,
            "align_self": null,
            "border": null,
            "bottom": null,
            "display": null,
            "flex": null,
            "flex_flow": null,
            "grid_area": null,
            "grid_auto_columns": null,
            "grid_auto_flow": null,
            "grid_auto_rows": null,
            "grid_column": null,
            "grid_gap": null,
            "grid_row": null,
            "grid_template_areas": null,
            "grid_template_columns": null,
            "grid_template_rows": null,
            "height": null,
            "justify_content": null,
            "justify_items": null,
            "left": null,
            "margin": null,
            "max_height": null,
            "max_width": null,
            "min_height": null,
            "min_width": null,
            "object_fit": null,
            "object_position": null,
            "order": null,
            "overflow": null,
            "overflow_x": null,
            "overflow_y": null,
            "padding": null,
            "right": null,
            "top": null,
            "visibility": null,
            "width": null
          }
        },
        "b7e78ea09e704d6e8b518668e356d4ab": {
          "model_module": "@jupyter-widgets/controls",
          "model_name": "DescriptionStyleModel",
          "model_module_version": "1.5.0",
          "state": {
            "_model_module": "@jupyter-widgets/controls",
            "_model_module_version": "1.5.0",
            "_model_name": "DescriptionStyleModel",
            "_view_count": null,
            "_view_module": "@jupyter-widgets/base",
            "_view_module_version": "1.2.0",
            "_view_name": "StyleView",
            "description_width": ""
          }
        },
        "4e756c9cd49748e1b247515e1be4b4af": {
          "model_module": "@jupyter-widgets/base",
          "model_name": "LayoutModel",
          "model_module_version": "1.2.0",
          "state": {
            "_model_module": "@jupyter-widgets/base",
            "_model_module_version": "1.2.0",
            "_model_name": "LayoutModel",
            "_view_count": null,
            "_view_module": "@jupyter-widgets/base",
            "_view_module_version": "1.2.0",
            "_view_name": "LayoutView",
            "align_content": null,
            "align_items": null,
            "align_self": null,
            "border": null,
            "bottom": null,
            "display": null,
            "flex": null,
            "flex_flow": null,
            "grid_area": null,
            "grid_auto_columns": null,
            "grid_auto_flow": null,
            "grid_auto_rows": null,
            "grid_column": null,
            "grid_gap": null,
            "grid_row": null,
            "grid_template_areas": null,
            "grid_template_columns": null,
            "grid_template_rows": null,
            "height": null,
            "justify_content": null,
            "justify_items": null,
            "left": null,
            "margin": null,
            "max_height": null,
            "max_width": null,
            "min_height": null,
            "min_width": null,
            "object_fit": null,
            "object_position": null,
            "order": null,
            "overflow": null,
            "overflow_x": null,
            "overflow_y": null,
            "padding": null,
            "right": null,
            "top": null,
            "visibility": null,
            "width": null
          }
        },
        "e7dc09b9504a4e159fa1abf0819a99ae": {
          "model_module": "@jupyter-widgets/controls",
          "model_name": "ProgressStyleModel",
          "model_module_version": "1.5.0",
          "state": {
            "_model_module": "@jupyter-widgets/controls",
            "_model_module_version": "1.5.0",
            "_model_name": "ProgressStyleModel",
            "_view_count": null,
            "_view_module": "@jupyter-widgets/base",
            "_view_module_version": "1.2.0",
            "_view_name": "StyleView",
            "bar_color": null,
            "description_width": ""
          }
        },
        "e43241625f264b64a42bf22b706f2dd8": {
          "model_module": "@jupyter-widgets/base",
          "model_name": "LayoutModel",
          "model_module_version": "1.2.0",
          "state": {
            "_model_module": "@jupyter-widgets/base",
            "_model_module_version": "1.2.0",
            "_model_name": "LayoutModel",
            "_view_count": null,
            "_view_module": "@jupyter-widgets/base",
            "_view_module_version": "1.2.0",
            "_view_name": "LayoutView",
            "align_content": null,
            "align_items": null,
            "align_self": null,
            "border": null,
            "bottom": null,
            "display": null,
            "flex": null,
            "flex_flow": null,
            "grid_area": null,
            "grid_auto_columns": null,
            "grid_auto_flow": null,
            "grid_auto_rows": null,
            "grid_column": null,
            "grid_gap": null,
            "grid_row": null,
            "grid_template_areas": null,
            "grid_template_columns": null,
            "grid_template_rows": null,
            "height": null,
            "justify_content": null,
            "justify_items": null,
            "left": null,
            "margin": null,
            "max_height": null,
            "max_width": null,
            "min_height": null,
            "min_width": null,
            "object_fit": null,
            "object_position": null,
            "order": null,
            "overflow": null,
            "overflow_x": null,
            "overflow_y": null,
            "padding": null,
            "right": null,
            "top": null,
            "visibility": null,
            "width": null
          }
        },
        "31162e4ab0e74d749c6f1d22f2a1d32b": {
          "model_module": "@jupyter-widgets/controls",
          "model_name": "DescriptionStyleModel",
          "model_module_version": "1.5.0",
          "state": {
            "_model_module": "@jupyter-widgets/controls",
            "_model_module_version": "1.5.0",
            "_model_name": "DescriptionStyleModel",
            "_view_count": null,
            "_view_module": "@jupyter-widgets/base",
            "_view_module_version": "1.2.0",
            "_view_name": "StyleView",
            "description_width": ""
          }
        }
      }
    }
  },
  "nbformat": 4,
  "nbformat_minor": 0
}